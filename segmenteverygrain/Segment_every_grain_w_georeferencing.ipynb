{
 "cells": [
  {
   "cell_type": "markdown",
   "id": "95a8f02b",
   "metadata": {
    "jp-MarkdownHeadingCollapsed": true,
    "tags": []
   },
   "source": [
    "## Import packages"
   ]
  },
  {
   "cell_type": "code",
   "execution_count": 1,
   "id": "f2ebc518",
   "metadata": {},
   "outputs": [],
   "source": [
    "import pandas as pd\n",
    "import numpy as np\n",
    "import matplotlib.pyplot as plt\n",
    "import cv2\n",
    "from skimage import measure\n",
    "from skimage.measure import regionprops, regionprops_table\n",
    "from tensorflow.keras.optimizers.legacy import Adam\n",
    "from tensorflow.keras.preprocessing.image import load_img\n",
    "from importlib import reload\n",
    "import segmenteverygrain as seg\n",
    "from segment_anything import sam_model_registry, SamAutomaticMaskGenerator, SamPredictor\n",
    "from tqdm import trange\n",
    "%matplotlib qt"
   ]
  },
  {
   "cell_type": "markdown",
   "id": "f474ac20",
   "metadata": {
    "jp-MarkdownHeadingCollapsed": true,
    "tags": []
   },
   "source": [
    "## Load models"
   ]
  },
  {
   "cell_type": "code",
   "execution_count": 2,
   "id": "fe1bd2bc",
   "metadata": {},
   "outputs": [
    {
     "name": "stderr",
     "output_type": "stream",
     "text": [
      "2024-03-28 11:40:06.554885: I tensorflow/core/common_runtime/pluggable_device/pluggable_device_factory.cc:305] Could not identify NUMA node of platform GPU ID 0, defaulting to 0. Your kernel may not have been built with NUMA support.\n",
      "2024-03-28 11:40:06.555069: I tensorflow/core/common_runtime/pluggable_device/pluggable_device_factory.cc:271] Created TensorFlow device (/job:localhost/replica:0/task:0/device:GPU:0 with 0 MB memory) -> physical PluggableDevice (device: 0, name: METAL, pci bus id: <undefined>)\n"
     ]
    },
    {
     "name": "stdout",
     "output_type": "stream",
     "text": [
      "Metal device set to: Apple M2 Max\n"
     ]
    }
   ],
   "source": [
    "model = seg.Unet()\n",
    "model.compile(optimizer=Adam(), loss=seg.weighted_crossentropy, metrics=[\"accuracy\"])\n",
    "# you need to download the 'segmenteverygrain' model for this to work ()\n",
    "model.load_weights('./checkpoints/seg_model');\n",
    "\n",
    "# the SAM model checkpoints can be downloaded from: https://dl.fbaipublicfiles.com/segment_anything/sam_vit_h_4b8939.pth\n",
    "sam = sam_model_registry[\"default\"](checkpoint=\"/Users/zoltan/Dropbox/Segmentation/sam_vit_h_4b8939.pth\")"
   ]
  },
  {
   "cell_type": "markdown",
   "id": "a3c1dfc6",
   "metadata": {
    "jp-MarkdownHeadingCollapsed": true,
    "tags": []
   },
   "source": [
    "## Run segmentation\n",
    "\n",
    "Grains are supposed to be well defined in the image; e.g., if a grain consists of only a few pixels, it is unlikely to be detected.\n",
    "\n",
    "The segmentation can take a few minutes even for medium-sized images, so do not start with large images (downsample them if necessary). Images with ~2000 pixels along their largest dimension are a good start."
   ]
  },
  {
   "cell_type": "code",
   "execution_count": 3,
   "id": "94bf3f94",
   "metadata": {},
   "outputs": [
    {
     "name": "stderr",
     "output_type": "stream",
     "text": [
      "  0%|                                                     | 0/6 [00:00<?, ?it/s]2024-03-28 11:40:34.513163: W tensorflow/core/platform/profile_utils/cpu_utils.cc:128] Failed to get CPU frequency: 0 Hz\n",
      "2024-03-28 11:40:34.586556: I tensorflow/core/grappler/optimizers/custom_graph_optimizer_registry.cc:113] Plugin optimizer for device_type GPU is enabled.\n",
      "100%|█████████████████████████████████████████████| 6/6 [00:02<00:00,  2.51it/s]\n",
      "100%|█████████████████████████████████████████████| 5/5 [00:00<00:00,  6.29it/s]\n",
      "100%|███████████████████████████████████████| 1346/1346 [01:17<00:00, 17.41it/s]\n",
      "1321it [01:24, 15.71it/s]\n",
      "100%|█████████████████████████████████████████| 389/389 [00:06<00:00, 64.27it/s]\n",
      "100%|████████████████████████████████████████| 414/414 [00:00<00:00, 511.27it/s]\n",
      "100%|████████████████████████████████████████| 441/441 [00:01<00:00, 279.65it/s]\n"
     ]
    }
   ],
   "source": [
    "fname = '/Users/zoltan/Dropbox/Segmentation/Kalinda_Roberts_project/RI_T01_Grid_65.tif'\n",
    "\n",
    "big_im = np.array(load_img(fname))\n",
    "big_im_pred = seg.predict_big_image(big_im, model, I=256)\n",
    "# decreasing the 'dbs_max_dist' parameter results in more SAM prompts (and longer processing times):\n",
    "labels, grains, coords = seg.label_grains(big_im, big_im_pred, dbs_max_dist=10.0)\n",
    "all_grains, labels, mask_all, grain_data, fig, ax = seg.sam_segmentation(sam, big_im, big_im_pred, coords, labels, min_area=50.0)"
   ]
  },
  {
   "cell_type": "markdown",
   "id": "968737c4",
   "metadata": {
    "jp-MarkdownHeadingCollapsed": true,
    "tags": []
   },
   "source": [
    "## Delete or merge grains in segmentation result\n",
    "* click on the grain that you want to remove and press the 'x' key\n",
    "* click on two grains that you want to merge and press the 'm' key (they have to be the last two grains you clicked on)\n",
    "* press the 'g' key to hide the grain masks (so that you can see the original image better); press the 'g' key again to show the grain masks"
   ]
  },
  {
   "cell_type": "code",
   "execution_count": 45,
   "id": "e1761761",
   "metadata": {},
   "outputs": [],
   "source": [
    "grain_inds = []\n",
    "cid1 = fig.canvas.mpl_connect('button_press_event', \n",
    "                              lambda event: seg.onclick2(event, all_grains, grain_inds, ax=ax))\n",
    "cid2 = fig.canvas.mpl_connect('key_press_event', \n",
    "                              lambda event: seg.onpress2(event, all_grains, grain_inds, fig=fig, ax=ax))"
   ]
  },
  {
   "cell_type": "markdown",
   "id": "5d08448d",
   "metadata": {},
   "source": [
    "Run this cell if you do not want to delete / merge existing grains anymore; it is a good idea to do this before moving on to the next step."
   ]
  },
  {
   "cell_type": "code",
   "execution_count": 46,
   "id": "8b6987ae",
   "metadata": {},
   "outputs": [],
   "source": [
    "fig.canvas.mpl_disconnect(cid1)\n",
    "fig.canvas.mpl_disconnect(cid2)"
   ]
  },
  {
   "cell_type": "markdown",
   "id": "b1ef7d75",
   "metadata": {},
   "source": [
    "Use this function to update the 'all_grains' list after deleting and merging grains:"
   ]
  },
  {
   "cell_type": "code",
   "execution_count": 47,
   "id": "9f7b8082",
   "metadata": {},
   "outputs": [
    {
     "name": "stderr",
     "output_type": "stream",
     "text": [
      "100%|████████████████████████████████████████| 320/320 [00:02<00:00, 120.91it/s]\n"
     ]
    }
   ],
   "source": [
    "all_grains, labels, mask_all, fig, ax = seg.get_grains_from_patches(ax, big_im)"
   ]
  },
  {
   "cell_type": "markdown",
   "id": "36ca344c",
   "metadata": {},
   "source": [
    "Plot the updated set of grains:"
   ]
  },
  {
   "cell_type": "code",
   "execution_count": 51,
   "id": "7e0f7f02",
   "metadata": {},
   "outputs": [],
   "source": [
    "fig, ax = plt.subplots(figsize=(15,10))\n",
    "ax.imshow(big_im)\n",
    "plt.xticks([])\n",
    "plt.yticks([])\n",
    "seg.plot_image_w_colorful_grains(big_im, all_grains, ax, cmap='Paired')\n",
    "seg.plot_grain_axes_and_centroids(all_grains, labels, ax, linewidth=1, markersize=10)\n",
    "plt.xlim([0, np.shape(big_im)[1]])\n",
    "plt.ylim([np.shape(big_im)[0], 0]);"
   ]
  },
  {
   "cell_type": "markdown",
   "id": "ab7201a5",
   "metadata": {
    "jp-MarkdownHeadingCollapsed": true,
    "tags": []
   },
   "source": [
    "## Add new grains using the Segment Anything Model\n",
    "\n",
    "* click on unsegmented grain that you want to add\n",
    "* press the 'x' key if you want to delete the last grain you added\n",
    "* press the 'm' key if you want to merge the last two grains that you added\n",
    "* right click outside the grain (but inside the most recent mask) if you want to restrict the grain to a smaller mask - this adds a background prompt"
   ]
  },
  {
   "cell_type": "code",
   "execution_count": 49,
   "id": "04b1a138",
   "metadata": {},
   "outputs": [],
   "source": [
    "predictor = SamPredictor(sam)\n",
    "predictor.set_image(big_im) # this can take a while\n",
    "coords = []\n",
    "cid3 = fig.canvas.mpl_connect('button_press_event', lambda event: seg.onclick(event, ax, coords, big_im, predictor))\n",
    "cid4 = fig.canvas.mpl_connect('key_press_event', lambda event: seg.onpress(event, ax, fig))"
   ]
  },
  {
   "cell_type": "code",
   "execution_count": 64,
   "id": "02386a92",
   "metadata": {},
   "outputs": [],
   "source": [
    "fig.canvas.mpl_disconnect(cid3)\n",
    "fig.canvas.mpl_disconnect(cid4)"
   ]
  },
  {
   "cell_type": "markdown",
   "id": "6ae4b89a",
   "metadata": {},
   "source": [
    "After you are done with the deletion / addition of grain masks, run this cell to generate an updated set of grains:"
   ]
  },
  {
   "cell_type": "code",
   "execution_count": 50,
   "id": "4355b526",
   "metadata": {},
   "outputs": [
    {
     "name": "stderr",
     "output_type": "stream",
     "text": [
      "100%|████████████████████████████████████████| 354/354 [00:02<00:00, 124.70it/s]\n"
     ]
    }
   ],
   "source": [
    "all_grains, labels, mask_all, fig, ax = seg.get_grains_from_patches(ax, big_im)"
   ]
  },
  {
   "cell_type": "code",
   "execution_count": 26,
   "id": "a1e80b7a",
   "metadata": {},
   "outputs": [
    {
     "data": {
      "image/svg+xml": [
       "<svg xmlns=\"http://www.w3.org/2000/svg\" xmlns:xlink=\"http://www.w3.org/1999/xlink\" width=\"100.0\" height=\"100.0\" viewBox=\"784.42 9.42 28.160000000000082 56.16\" preserveAspectRatio=\"xMinYMin meet\"><g transform=\"matrix(1,0,0,-1,0,75.0)\"><path fill-rule=\"evenodd\" fill=\"#66cc99\" stroke=\"#555555\" stroke-width=\"1.1232\" opacity=\"0.6\" d=\"M 798.0,63.5 L 797.5,63.0 L 797.0,62.5 L 796.0,62.5 L 795.5,62.0 L 795.0,61.5 L 794.5,61.0 L 794.0,60.5 L 793.0,60.5 L 792.5,60.0 L 792.0,59.5 L 791.5,59.0 L 791.0,58.5 L 790.5,58.0 L 790.0,57.5 L 789.0,57.5 L 788.5,57.0 L 788.0,56.5 L 787.5,56.0 L 787.5,55.0 L 787.5,54.0 L 787.0,53.5 L 786.5,53.0 L 787.0,52.5 L 787.5,52.0 L 788.0,51.5 L 788.5,51.0 L 789.0,50.5 L 789.5,50.0 L 790.0,49.5 L 790.5,49.0 L 791.0,48.5 L 791.5,48.0 L 791.5,47.0 L 792.0,46.5 L 792.5,46.0 L 792.5,45.0 L 792.5,44.0 L 793.0,43.5 L 793.5,43.0 L 793.5,42.0 L 793.5,41.0 L 793.5,40.0 L 793.5,39.0 L 793.5,38.0 L 793.5,37.0 L 793.5,36.0 L 793.5,35.0 L 793.5,34.0 L 793.5,33.0 L 793.5,32.0 L 793.5,31.0 L 793.5,30.0 L 793.5,29.0 L 793.5,28.0 L 793.5,27.0 L 793.5,26.0 L 793.5,25.0 L 793.0,24.5 L 792.5,24.0 L 792.5,23.0 L 792.5,22.0 L 792.5,21.0 L 792.5,20.0 L 792.5,19.0 L 792.0,18.5 L 791.5,18.0 L 791.5,17.0 L 791.5,16.0 L 791.5,15.0 L 791.5,14.0 L 791.5,13.0 L 791.5,12.0 L 792.0,11.5 L 792.5,12.0 L 793.0,12.5 L 793.5,13.0 L 794.0,13.5 L 794.5,14.0 L 795.0,14.5 L 796.0,14.5 L 796.5,15.0 L 797.0,15.5 L 797.5,16.0 L 798.0,16.5 L 798.5,17.0 L 798.5,18.0 L 799.0,18.5 L 799.5,19.0 L 800.0,19.5 L 800.5,20.0 L 801.0,20.5 L 801.5,21.0 L 801.5,22.0 L 802.0,22.5 L 802.5,23.0 L 802.5,24.0 L 803.0,24.5 L 803.5,25.0 L 804.0,25.5 L 804.5,26.0 L 805.0,26.5 L 805.5,27.0 L 805.5,28.0 L 806.0,28.5 L 806.5,29.0 L 807.0,29.5 L 807.5,30.0 L 808.0,30.5 L 808.5,31.0 L 808.5,32.0 L 809.0,32.5 L 809.5,33.0 L 809.5,34.0 L 809.5,35.0 L 810.0,35.5 L 810.5,36.0 L 810.0,36.5 L 809.5,37.0 L 809.0,37.5 L 808.5,38.0 L 808.0,38.5 L 807.5,39.0 L 807.5,40.0 L 807.0,40.5 L 806.5,41.0 L 806.0,41.5 L 805.5,42.0 L 805.0,42.5 L 804.5,43.0 L 804.0,43.5 L 803.5,44.0 L 803.5,45.0 L 803.0,45.5 L 802.5,46.0 L 802.5,47.0 L 802.5,48.0 L 802.5,49.0 L 802.5,50.0 L 802.0,50.5 L 801.5,51.0 L 801.5,52.0 L 801.5,53.0 L 801.5,54.0 L 801.5,55.0 L 801.5,56.0 L 801.5,57.0 L 801.5,58.0 L 801.5,59.0 L 801.5,60.0 L 801.0,60.5 L 800.5,61.0 L 800.0,61.5 L 799.5,62.0 L 799.0,62.5 L 798.5,63.0 L 798.0,63.5 z\" /></g></svg>"
      ],
      "text/plain": [
       "<POLYGON ((798 63.5, 798 63, 797 62.5, 796 62.5, 796 62, 795 61.5, 794 61, 7...>"
      ]
     },
     "execution_count": 26,
     "metadata": {},
     "output_type": "execute_result"
    }
   ],
   "source": [
    "all_grains[10]"
   ]
  },
  {
   "cell_type": "markdown",
   "id": "768a05d2",
   "metadata": {
    "jp-MarkdownHeadingCollapsed": true,
    "tags": []
   },
   "source": [
    "## Get grain size distribution"
   ]
  },
  {
   "cell_type": "markdown",
   "id": "96892a89",
   "metadata": {},
   "source": [
    "Run this cell and then click (left mouse button) on one end of the scale bar in the image and click (right mouse button) on the other end of the scale bar:"
   ]
  },
  {
   "cell_type": "code",
   "execution_count": 52,
   "id": "869c6cd4",
   "metadata": {},
   "outputs": [
    {
     "name": "stdout",
     "output_type": "stream",
     "text": [
      "number of pixels: 193.11\n"
     ]
    }
   ],
   "source": [
    "cid5 = fig.canvas.mpl_connect('button_press_event', lambda event: seg.click_for_scale(event, ax))"
   ]
  },
  {
   "cell_type": "markdown",
   "id": "658e2f0a",
   "metadata": {},
   "source": [
    "Use the length of the scale bar in pixels (it should be printed above) to get the scale of the image (in units / pixel):"
   ]
  },
  {
   "cell_type": "code",
   "execution_count": 57,
   "id": "7893cfb7",
   "metadata": {},
   "outputs": [],
   "source": [
    "n_of_units = 500 # centimeters in the case of 'IMG_5208_image.png'\n",
    "units_per_pixel = n_of_units/193.11 # length of scale bar in pixels"
   ]
  },
  {
   "cell_type": "code",
   "execution_count": 58,
   "id": "b56c5732",
   "metadata": {},
   "outputs": [],
   "source": [
    "props = regionprops_table(labels.astype('int'), intensity_image = big_im, properties =\\\n",
    "        ('label', 'area', 'centroid', 'major_axis_length', 'minor_axis_length', \n",
    "         'orientation', 'perimeter', 'max_intensity', 'mean_intensity', 'min_intensity'))\n",
    "grain_data = pd.DataFrame(props)\n",
    "grain_data['major_axis_length'] = grain_data['major_axis_length'].values*units_per_pixel\n",
    "grain_data['minor_axis_length'] = grain_data['minor_axis_length'].values*units_per_pixel\n",
    "grain_data['perimeter'] = grain_data['perimeter'].values*units_per_pixel\n",
    "grain_data['area'] = grain_data['area'].values*units_per_pixel**2"
   ]
  },
  {
   "cell_type": "code",
   "execution_count": 59,
   "id": "202f5650",
   "metadata": {},
   "outputs": [
    {
     "data": {
      "text/html": [
       "<div>\n",
       "<style scoped>\n",
       "    .dataframe tbody tr th:only-of-type {\n",
       "        vertical-align: middle;\n",
       "    }\n",
       "\n",
       "    .dataframe tbody tr th {\n",
       "        vertical-align: top;\n",
       "    }\n",
       "\n",
       "    .dataframe thead th {\n",
       "        text-align: right;\n",
       "    }\n",
       "</style>\n",
       "<table border=\"1\" class=\"dataframe\">\n",
       "  <thead>\n",
       "    <tr style=\"text-align: right;\">\n",
       "      <th></th>\n",
       "      <th>label</th>\n",
       "      <th>area</th>\n",
       "      <th>centroid-0</th>\n",
       "      <th>centroid-1</th>\n",
       "      <th>major_axis_length</th>\n",
       "      <th>minor_axis_length</th>\n",
       "      <th>orientation</th>\n",
       "      <th>perimeter</th>\n",
       "      <th>max_intensity-0</th>\n",
       "      <th>max_intensity-1</th>\n",
       "      <th>max_intensity-2</th>\n",
       "      <th>mean_intensity-0</th>\n",
       "      <th>mean_intensity-1</th>\n",
       "      <th>mean_intensity-2</th>\n",
       "      <th>min_intensity-0</th>\n",
       "      <th>min_intensity-1</th>\n",
       "      <th>min_intensity-2</th>\n",
       "    </tr>\n",
       "  </thead>\n",
       "  <tbody>\n",
       "    <tr>\n",
       "      <th>0</th>\n",
       "      <td>1</td>\n",
       "      <td>15016.838126</td>\n",
       "      <td>20.546875</td>\n",
       "      <td>945.926786</td>\n",
       "      <td>168.641397</td>\n",
       "      <td>118.488355</td>\n",
       "      <td>1.139348</td>\n",
       "      <td>483.430889</td>\n",
       "      <td>255.0</td>\n",
       "      <td>255.0</td>\n",
       "      <td>255.0</td>\n",
       "      <td>218.377232</td>\n",
       "      <td>212.426339</td>\n",
       "      <td>219.841071</td>\n",
       "      <td>60.0</td>\n",
       "      <td>43.0</td>\n",
       "      <td>13.0</td>\n",
       "    </tr>\n",
       "    <tr>\n",
       "      <th>1</th>\n",
       "      <td>2</td>\n",
       "      <td>10176.589408</td>\n",
       "      <td>339.316206</td>\n",
       "      <td>1820.215415</td>\n",
       "      <td>144.012838</td>\n",
       "      <td>92.730107</td>\n",
       "      <td>-1.510110</td>\n",
       "      <td>397.175106</td>\n",
       "      <td>255.0</td>\n",
       "      <td>255.0</td>\n",
       "      <td>255.0</td>\n",
       "      <td>183.735178</td>\n",
       "      <td>177.980237</td>\n",
       "      <td>181.127141</td>\n",
       "      <td>27.0</td>\n",
       "      <td>47.0</td>\n",
       "      <td>38.0</td>\n",
       "    </tr>\n",
       "    <tr>\n",
       "      <th>2</th>\n",
       "      <td>3</td>\n",
       "      <td>17182.212552</td>\n",
       "      <td>451.810769</td>\n",
       "      <td>15.046430</td>\n",
       "      <td>231.092918</td>\n",
       "      <td>99.993859</td>\n",
       "      <td>-0.021373</td>\n",
       "      <td>573.868806</td>\n",
       "      <td>238.0</td>\n",
       "      <td>233.0</td>\n",
       "      <td>255.0</td>\n",
       "      <td>205.172844</td>\n",
       "      <td>203.001171</td>\n",
       "      <td>209.460008</td>\n",
       "      <td>62.0</td>\n",
       "      <td>64.0</td>\n",
       "      <td>54.0</td>\n",
       "    </tr>\n",
       "    <tr>\n",
       "      <th>3</th>\n",
       "      <td>4</td>\n",
       "      <td>11812.352133</td>\n",
       "      <td>514.209989</td>\n",
       "      <td>629.208286</td>\n",
       "      <td>149.117158</td>\n",
       "      <td>102.839337</td>\n",
       "      <td>0.292422</td>\n",
       "      <td>422.546630</td>\n",
       "      <td>255.0</td>\n",
       "      <td>255.0</td>\n",
       "      <td>255.0</td>\n",
       "      <td>219.042565</td>\n",
       "      <td>214.907491</td>\n",
       "      <td>220.919410</td>\n",
       "      <td>40.0</td>\n",
       "      <td>77.0</td>\n",
       "      <td>66.0</td>\n",
       "    </tr>\n",
       "    <tr>\n",
       "      <th>4</th>\n",
       "      <td>5</td>\n",
       "      <td>10712.905056</td>\n",
       "      <td>551.856696</td>\n",
       "      <td>465.237797</td>\n",
       "      <td>177.367748</td>\n",
       "      <td>78.752628</td>\n",
       "      <td>-1.112341</td>\n",
       "      <td>441.483269</td>\n",
       "      <td>255.0</td>\n",
       "      <td>249.0</td>\n",
       "      <td>255.0</td>\n",
       "      <td>204.268461</td>\n",
       "      <td>198.521902</td>\n",
       "      <td>202.667710</td>\n",
       "      <td>53.0</td>\n",
       "      <td>68.0</td>\n",
       "      <td>58.0</td>\n",
       "    </tr>\n",
       "  </tbody>\n",
       "</table>\n",
       "</div>"
      ],
      "text/plain": [
       "   label          area  centroid-0   centroid-1  major_axis_length  \\\n",
       "0      1  15016.838126   20.546875   945.926786         168.641397   \n",
       "1      2  10176.589408  339.316206  1820.215415         144.012838   \n",
       "2      3  17182.212552  451.810769    15.046430         231.092918   \n",
       "3      4  11812.352133  514.209989   629.208286         149.117158   \n",
       "4      5  10712.905056  551.856696   465.237797         177.367748   \n",
       "\n",
       "   minor_axis_length  orientation   perimeter  max_intensity-0  \\\n",
       "0         118.488355     1.139348  483.430889            255.0   \n",
       "1          92.730107    -1.510110  397.175106            255.0   \n",
       "2          99.993859    -0.021373  573.868806            238.0   \n",
       "3         102.839337     0.292422  422.546630            255.0   \n",
       "4          78.752628    -1.112341  441.483269            255.0   \n",
       "\n",
       "   max_intensity-1  max_intensity-2  mean_intensity-0  mean_intensity-1  \\\n",
       "0            255.0            255.0        218.377232        212.426339   \n",
       "1            255.0            255.0        183.735178        177.980237   \n",
       "2            233.0            255.0        205.172844        203.001171   \n",
       "3            255.0            255.0        219.042565        214.907491   \n",
       "4            249.0            255.0        204.268461        198.521902   \n",
       "\n",
       "   mean_intensity-2  min_intensity-0  min_intensity-1  min_intensity-2  \n",
       "0        219.841071             60.0             43.0             13.0  \n",
       "1        181.127141             27.0             47.0             38.0  \n",
       "2        209.460008             62.0             64.0             54.0  \n",
       "3        220.919410             40.0             77.0             66.0  \n",
       "4        202.667710             53.0             68.0             58.0  "
      ]
     },
     "execution_count": 59,
     "metadata": {},
     "output_type": "execute_result"
    }
   ],
   "source": [
    "grain_data.head()"
   ]
  },
  {
   "cell_type": "code",
   "execution_count": 60,
   "id": "a8663eef",
   "metadata": {},
   "outputs": [],
   "source": [
    "plt.figure()\n",
    "plt.hist(grain_data['major_axis_length'], 25)\n",
    "plt.xlabel('major axis length (microns)')\n",
    "plt.ylabel('count');"
   ]
  },
  {
   "cell_type": "markdown",
   "id": "039415c6",
   "metadata": {
    "jp-MarkdownHeadingCollapsed": true,
    "tags": []
   },
   "source": [
    "## Save mask and image to PNG files"
   ]
  },
  {
   "cell_type": "code",
   "execution_count": 486,
   "id": "c4962ba6",
   "metadata": {},
   "outputs": [
    {
     "data": {
      "text/plain": [
       "True"
      ]
     },
     "execution_count": 486,
     "metadata": {},
     "output_type": "execute_result"
    }
   ],
   "source": [
    "dirname = '/Users/zoltan/Dropbox/Segmentation/images/'\n",
    "# write grayscale mask to PNG file\n",
    "cv2.imwrite(dirname + fname.split('/')[-1][:-4] + '_mask.png', mask_all)\n",
    "# Save the image as a PNG file\n",
    "cv2.imwrite(dirname + fname.split('/')[-1][:-4] + '_image.png', cv2.cvtColor(big_im, cv2.COLOR_BGR2RGB))"
   ]
  },
  {
   "cell_type": "markdown",
   "id": "24f154fb",
   "metadata": {
    "jp-MarkdownHeadingCollapsed": true,
    "tags": []
   },
   "source": [
    "## Convert polygon row, col coordinates to projected coordinates and save them to shapefile"
   ]
  },
  {
   "cell_type": "code",
   "execution_count": 4,
   "id": "16c934cc",
   "metadata": {},
   "outputs": [],
   "source": [
    "import rasterio\n",
    "dataset = rasterio.open(fname)"
   ]
  },
  {
   "cell_type": "code",
   "execution_count": 5,
   "id": "d0577a80",
   "metadata": {},
   "outputs": [
    {
     "data": {
      "text/plain": [
       "{'driver': 'GTiff',\n",
       " 'dtype': 'uint8',\n",
       " 'nodata': None,\n",
       " 'width': 1113,\n",
       " 'height': 1112,\n",
       " 'count': 4,\n",
       " 'crs': CRS.from_epsg(32619),\n",
       " 'transform': Affine(0.0017999999999882017, 0.0, 339041.9403932594,\n",
       "        0.0, -0.0018000000000683416, 4686358.8424565075)}"
      ]
     },
     "execution_count": 5,
     "metadata": {},
     "output_type": "execute_result"
    }
   ],
   "source": [
    "dataset.meta"
   ]
  },
  {
   "cell_type": "code",
   "execution_count": 6,
   "id": "26b2fc5b",
   "metadata": {},
   "outputs": [],
   "source": [
    "# convert polygon coordinates from row, col to UTM\n",
    "from shapely.geometry import Polygon\n",
    "projected_polys = []\n",
    "for grain in all_grains:\n",
    "    x, y = rasterio.transform.xy(dataset.transform, grain.exterior.xy[1], grain.exterior.xy[0])\n",
    "    poly = Polygon(np.vstack((x, y)).T)\n",
    "    projected_polys.append(poly)"
   ]
  },
  {
   "cell_type": "code",
   "execution_count": 7,
   "id": "13746f7b",
   "metadata": {},
   "outputs": [
    {
     "data": {
      "text/html": [
       "<div>\n",
       "<style scoped>\n",
       "    .dataframe tbody tr th:only-of-type {\n",
       "        vertical-align: middle;\n",
       "    }\n",
       "\n",
       "    .dataframe tbody tr th {\n",
       "        vertical-align: top;\n",
       "    }\n",
       "\n",
       "    .dataframe thead th {\n",
       "        text-align: right;\n",
       "    }\n",
       "</style>\n",
       "<table border=\"1\" class=\"dataframe\">\n",
       "  <thead>\n",
       "    <tr style=\"text-align: right;\">\n",
       "      <th></th>\n",
       "      <th>geometry</th>\n",
       "    </tr>\n",
       "  </thead>\n",
       "  <tbody>\n",
       "    <tr>\n",
       "      <th>0</th>\n",
       "      <td>POLYGON ((339043.428 4686358.675, 339043.426 4...</td>\n",
       "    </tr>\n",
       "    <tr>\n",
       "      <th>1</th>\n",
       "      <td>POLYGON ((339042.953 4686357.667, 339042.951 4...</td>\n",
       "    </tr>\n",
       "    <tr>\n",
       "      <th>2</th>\n",
       "      <td>POLYGON ((339042.181 4686357.410, 339042.179 4...</td>\n",
       "    </tr>\n",
       "    <tr>\n",
       "      <th>3</th>\n",
       "      <td>POLYGON ((339042.022 4686357.336, 339042.020 4...</td>\n",
       "    </tr>\n",
       "    <tr>\n",
       "      <th>4</th>\n",
       "      <td>POLYGON ((339043.865 4686357.228, 339043.864 4...</td>\n",
       "    </tr>\n",
       "  </tbody>\n",
       "</table>\n",
       "</div>"
      ],
      "text/plain": [
       "                                            geometry\n",
       "0  POLYGON ((339043.428 4686358.675, 339043.426 4...\n",
       "1  POLYGON ((339042.953 4686357.667, 339042.951 4...\n",
       "2  POLYGON ((339042.181 4686357.410, 339042.179 4...\n",
       "3  POLYGON ((339042.022 4686357.336, 339042.020 4...\n",
       "4  POLYGON ((339043.865 4686357.228, 339043.864 4..."
      ]
     },
     "execution_count": 7,
     "metadata": {},
     "output_type": "execute_result"
    }
   ],
   "source": [
    "# create geopandas dataframe\n",
    "import geopandas\n",
    "gdf = geopandas.GeoDataFrame(projected_polys, columns = ['geometry'])\n",
    "gdf.head()"
   ]
  },
  {
   "cell_type": "code",
   "execution_count": 8,
   "id": "548b71c0",
   "metadata": {},
   "outputs": [
    {
     "data": {
      "text/html": [
       "<div>\n",
       "<style scoped>\n",
       "    .dataframe tbody tr th:only-of-type {\n",
       "        vertical-align: middle;\n",
       "    }\n",
       "\n",
       "    .dataframe tbody tr th {\n",
       "        vertical-align: top;\n",
       "    }\n",
       "\n",
       "    .dataframe thead th {\n",
       "        text-align: right;\n",
       "    }\n",
       "</style>\n",
       "<table border=\"1\" class=\"dataframe\">\n",
       "  <thead>\n",
       "    <tr style=\"text-align: right;\">\n",
       "      <th></th>\n",
       "      <th>label</th>\n",
       "      <th>area</th>\n",
       "      <th>centroid-0</th>\n",
       "      <th>centroid-1</th>\n",
       "      <th>major_axis_length</th>\n",
       "      <th>minor_axis_length</th>\n",
       "    </tr>\n",
       "  </thead>\n",
       "  <tbody>\n",
       "    <tr>\n",
       "      <th>0</th>\n",
       "      <td>1</td>\n",
       "      <td>371</td>\n",
       "      <td>78.140162</td>\n",
       "      <td>826.512129</td>\n",
       "      <td>26.579295</td>\n",
       "      <td>18.273030</td>\n",
       "    </tr>\n",
       "    <tr>\n",
       "      <th>1</th>\n",
       "      <td>2</td>\n",
       "      <td>987</td>\n",
       "      <td>633.116515</td>\n",
       "      <td>552.331307</td>\n",
       "      <td>45.044539</td>\n",
       "      <td>29.214000</td>\n",
       "    </tr>\n",
       "    <tr>\n",
       "      <th>2</th>\n",
       "      <td>3</td>\n",
       "      <td>198</td>\n",
       "      <td>786.873737</td>\n",
       "      <td>131.095960</td>\n",
       "      <td>18.471024</td>\n",
       "      <td>13.888250</td>\n",
       "    </tr>\n",
       "    <tr>\n",
       "      <th>3</th>\n",
       "      <td>4</td>\n",
       "      <td>420</td>\n",
       "      <td>821.252381</td>\n",
       "      <td>41.250000</td>\n",
       "      <td>30.301088</td>\n",
       "      <td>18.403316</td>\n",
       "    </tr>\n",
       "    <tr>\n",
       "      <th>4</th>\n",
       "      <td>5</td>\n",
       "      <td>812</td>\n",
       "      <td>880.109606</td>\n",
       "      <td>1069.188424</td>\n",
       "      <td>38.886262</td>\n",
       "      <td>27.357959</td>\n",
       "    </tr>\n",
       "  </tbody>\n",
       "</table>\n",
       "</div>"
      ],
      "text/plain": [
       "   label  area  centroid-0   centroid-1  major_axis_length  minor_axis_length\n",
       "0      1   371   78.140162   826.512129          26.579295          18.273030\n",
       "1      2   987  633.116515   552.331307          45.044539          29.214000\n",
       "2      3   198  786.873737   131.095960          18.471024          13.888250\n",
       "3      4   420  821.252381    41.250000          30.301088          18.403316\n",
       "4      5   812  880.109606  1069.188424          38.886262          27.357959"
      ]
     },
     "execution_count": 8,
     "metadata": {},
     "output_type": "execute_result"
    }
   ],
   "source": [
    "# create property dataframe from labeled image\n",
    "props = regionprops_table(labels.astype('int'), intensity_image = big_im, properties =\\\n",
    "        ('label', 'area', 'centroid', 'major_axis_length', 'minor_axis_length'))\n",
    "grain_data = pd.DataFrame(props)\n",
    "grain_data['major_axis_length'] = grain_data['major_axis_length'].values\n",
    "grain_data['minor_axis_length'] = grain_data['minor_axis_length'].values\n",
    "grain_data['area'] = grain_data['area'].values\n",
    "grain_data.head()"
   ]
  },
  {
   "cell_type": "code",
   "execution_count": 9,
   "id": "552ca32c",
   "metadata": {},
   "outputs": [],
   "source": [
    "# convert centroids from row, col to UTM and add them to geodataframe\n",
    "centroid_x, centroid_y = rasterio.transform.xy(dataset.transform, grain_data['centroid-0'], \n",
    "                                               grain_data['centroid-1'])\n",
    "gdf['centroid_x'] = centroid_x\n",
    "gdf['centroid_y'] = centroid_y"
   ]
  },
  {
   "cell_type": "code",
   "execution_count": 10,
   "id": "f1b8a302",
   "metadata": {},
   "outputs": [
    {
     "data": {
      "text/html": [
       "<div>\n",
       "<style scoped>\n",
       "    .dataframe tbody tr th:only-of-type {\n",
       "        vertical-align: middle;\n",
       "    }\n",
       "\n",
       "    .dataframe tbody tr th {\n",
       "        vertical-align: top;\n",
       "    }\n",
       "\n",
       "    .dataframe thead th {\n",
       "        text-align: right;\n",
       "    }\n",
       "</style>\n",
       "<table border=\"1\" class=\"dataframe\">\n",
       "  <thead>\n",
       "    <tr style=\"text-align: right;\">\n",
       "      <th></th>\n",
       "      <th>geometry</th>\n",
       "      <th>centroid_x</th>\n",
       "      <th>centroid_y</th>\n",
       "      <th>major_axis_length</th>\n",
       "      <th>minor_axis_length</th>\n",
       "    </tr>\n",
       "  </thead>\n",
       "  <tbody>\n",
       "    <tr>\n",
       "      <th>0</th>\n",
       "      <td>POLYGON ((339043.428 4686358.675, 339043.426 4...</td>\n",
       "      <td>339043.429015</td>\n",
       "      <td>4.686359e+06</td>\n",
       "      <td>0.047843</td>\n",
       "      <td>0.032891</td>\n",
       "    </tr>\n",
       "    <tr>\n",
       "      <th>1</th>\n",
       "      <td>POLYGON ((339042.953 4686357.667, 339042.951 4...</td>\n",
       "      <td>339042.935490</td>\n",
       "      <td>4.686358e+06</td>\n",
       "      <td>0.081080</td>\n",
       "      <td>0.052585</td>\n",
       "    </tr>\n",
       "    <tr>\n",
       "      <th>2</th>\n",
       "      <td>POLYGON ((339042.181 4686357.410, 339042.179 4...</td>\n",
       "      <td>339042.177266</td>\n",
       "      <td>4.686357e+06</td>\n",
       "      <td>0.033248</td>\n",
       "      <td>0.024999</td>\n",
       "    </tr>\n",
       "    <tr>\n",
       "      <th>3</th>\n",
       "      <td>POLYGON ((339042.022 4686357.336, 339042.020 4...</td>\n",
       "      <td>339042.015543</td>\n",
       "      <td>4.686357e+06</td>\n",
       "      <td>0.054542</td>\n",
       "      <td>0.033126</td>\n",
       "    </tr>\n",
       "    <tr>\n",
       "      <th>4</th>\n",
       "      <td>POLYGON ((339043.865 4686357.228, 339043.864 4...</td>\n",
       "      <td>339043.865832</td>\n",
       "      <td>4.686357e+06</td>\n",
       "      <td>0.069995</td>\n",
       "      <td>0.049244</td>\n",
       "    </tr>\n",
       "  </tbody>\n",
       "</table>\n",
       "</div>"
      ],
      "text/plain": [
       "                                            geometry     centroid_x  \\\n",
       "0  POLYGON ((339043.428 4686358.675, 339043.426 4...  339043.429015   \n",
       "1  POLYGON ((339042.953 4686357.667, 339042.951 4...  339042.935490   \n",
       "2  POLYGON ((339042.181 4686357.410, 339042.179 4...  339042.177266   \n",
       "3  POLYGON ((339042.022 4686357.336, 339042.020 4...  339042.015543   \n",
       "4  POLYGON ((339043.865 4686357.228, 339043.864 4...  339043.865832   \n",
       "\n",
       "     centroid_y  major_axis_length  minor_axis_length  \n",
       "0  4.686359e+06           0.047843           0.032891  \n",
       "1  4.686358e+06           0.081080           0.052585  \n",
       "2  4.686357e+06           0.033248           0.024999  \n",
       "3  4.686357e+06           0.054542           0.033126  \n",
       "4  4.686357e+06           0.069995           0.049244  "
      ]
     },
     "execution_count": 10,
     "metadata": {},
     "output_type": "execute_result"
    }
   ],
   "source": [
    "# convert grain axis lengths to UTM units\n",
    "gdf['major_axis_length'] = grain_data['major_axis_length'] * dataset.transform[0]\n",
    "gdf['minor_axis_length'] = grain_data['minor_axis_length'] * dataset.transform[0]\n",
    "gdf.head()"
   ]
  },
  {
   "cell_type": "code",
   "execution_count": 15,
   "id": "1a7a7dd3",
   "metadata": {},
   "outputs": [],
   "source": [
    "# check if everything looks good\n",
    "band1 = dataset.read(1)\n",
    "band2 = dataset.read(2)\n",
    "band3 = dataset.read(3)\n",
    "plt.figure()\n",
    "plt.imshow(np.stack((band1, band2, band3), axis=2), extent = [dataset.bounds[0], dataset.bounds[2], \n",
    "                                         dataset.bounds[1], dataset.bounds[3]])\n",
    "plt.scatter(gdf['centroid_x'], gdf['centroid_y']);"
   ]
  },
  {
   "cell_type": "code",
   "execution_count": 14,
   "id": "2e284de5",
   "metadata": {},
   "outputs": [],
   "source": [
    "gdf.crs = dataset.crs # set geodataframe CRS"
   ]
  },
  {
   "cell_type": "code",
   "execution_count": 16,
   "id": "27f9b8b3",
   "metadata": {},
   "outputs": [
    {
     "name": "stderr",
     "output_type": "stream",
     "text": [
      "/var/folders/5h/h0hb76hj7h90xczzdv1425fr0000gp/T/ipykernel_73938/571464815.py:1: UserWarning: Column names longer than 10 characters will be truncated when saved to ESRI Shapefile.\n",
      "  gdf.to_file(\"/Users/zoltan/Dropbox/Segmentation/Kalinda_Roberts_project/projected_grains.shp\") # write shapefile\n"
     ]
    }
   ],
   "source": [
    "gdf.to_file(\"/Users/zoltan/Dropbox/Segmentation/Kalinda_Roberts_project/projected_grains.shp\") # write shapefile"
   ]
  },
  {
   "cell_type": "code",
   "execution_count": 17,
   "id": "361ceb2d",
   "metadata": {},
   "outputs": [],
   "source": [
    "dataset.close()"
   ]
  }
 ],
 "metadata": {
  "kernelspec": {
   "display_name": "Python 3 (ipykernel)",
   "language": "python",
   "name": "python3"
  },
  "language_info": {
   "codemirror_mode": {
    "name": "ipython",
    "version": 3
   },
   "file_extension": ".py",
   "mimetype": "text/x-python",
   "name": "python",
   "nbconvert_exporter": "python",
   "pygments_lexer": "ipython3",
   "version": "3.8.15"
  }
 },
 "nbformat": 4,
 "nbformat_minor": 5
}
