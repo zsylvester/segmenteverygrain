{
 "cells": [
  {
   "cell_type": "markdown",
   "id": "95a8f02b",
   "metadata": {
    "tags": []
   },
   "source": [
    "## Import packages"
   ]
  },
  {
   "cell_type": "markdown",
   "id": "360fd114-4a50-4a7d-8fa2-357867cbd601",
   "metadata": {},
   "source": [
    "Note that `rasterio` and `geopandas` need to be installed in the current Python environment for this notebook to work."
   ]
  },
  {
   "cell_type": "code",
   "execution_count": 37,
   "id": "f2ebc518",
   "metadata": {
    "execution": {
     "iopub.execute_input": "2025-01-23T16:48:45.147882Z",
     "iopub.status.busy": "2025-01-23T16:48:45.147458Z",
     "iopub.status.idle": "2025-01-23T16:48:45.161537Z",
     "shell.execute_reply": "2025-01-23T16:48:45.160812Z",
     "shell.execute_reply.started": "2025-01-23T16:48:45.147839Z"
    }
   },
   "outputs": [],
   "source": [
    "import pandas as pd\n",
    "import numpy as np\n",
    "import matplotlib.pyplot as plt\n",
    "import cv2\n",
    "from skimage.measure import regionprops, regionprops_table\n",
    "from keras.utils import load_img\n",
    "from keras.saving import load_model\n",
    "from importlib import reload\n",
    "import segmenteverygrain as seg\n",
    "from segment_anything import sam_model_registry, SamPredictor\n",
    "from tqdm import trange, tqdm\n",
    "%matplotlib qt"
   ]
  },
  {
   "cell_type": "markdown",
   "id": "f474ac20",
   "metadata": {
    "tags": []
   },
   "source": [
    "## Load models"
   ]
  },
  {
   "cell_type": "code",
   "execution_count": 38,
   "id": "fe1bd2bc",
   "metadata": {
    "execution": {
     "iopub.execute_input": "2025-01-23T16:48:49.324801Z",
     "iopub.status.busy": "2025-01-23T16:48:49.324616Z",
     "iopub.status.idle": "2025-01-23T16:48:54.653032Z",
     "shell.execute_reply": "2025-01-23T16:48:54.652665Z",
     "shell.execute_reply.started": "2025-01-23T16:48:49.324786Z"
    }
   },
   "outputs": [
    {
     "name": "stderr",
     "output_type": "stream",
     "text": [
      "/Users/zoltan/miniforge3/envs/segmenteverygrain/lib/python3.9/site-packages/segment_anything/build_sam.py:105: FutureWarning: You are using `torch.load` with `weights_only=False` (the current default value), which uses the default pickle module implicitly. It is possible to construct malicious pickle data which will execute arbitrary code during unpickling (See https://github.com/pytorch/pytorch/blob/main/SECURITY.md#untrusted-models for more details). In a future release, the default value for `weights_only` will be flipped to `True`. This limits the functions that could be executed during unpickling. Arbitrary objects will no longer be allowed to be loaded via this mode unless they are explicitly allowlisted by the user via `torch.serialization.add_safe_globals`. We recommend you start setting `weights_only=True` for any use case where you don't have full control of the loaded file. Please open an issue on GitHub for any issues related to this experimental feature.\n",
      "  state_dict = torch.load(f)\n"
     ]
    }
   ],
   "source": [
    "model = load_model(\"seg_model.keras\", custom_objects={'weighted_crossentropy': seg.weighted_crossentropy})\n",
    "\n",
    "# the SAM model checkpoints can be downloaded from: https://dl.fbaipublicfiles.com/segment_anything/sam_vit_h_4b8939.pth\n",
    "sam = sam_model_registry[\"default\"](checkpoint=\"/Users/zoltan/Dropbox/Segmentation/sam_vit_h_4b8939.pth\")"
   ]
  },
  {
   "cell_type": "markdown",
   "id": "a3c1dfc6",
   "metadata": {
    "tags": []
   },
   "source": [
    "## Run segmentation\n",
    "\n",
    "Grains are supposed to be well defined in the image; e.g., if a grain consists of only a few pixels, it is unlikely to be detected.\n",
    "\n",
    "The segmentation can take a few minutes even for medium-sized images, so do not start with large images (downsample them if necessary). Images with ~2000 pixels along their largest dimension are a good start."
   ]
  },
  {
   "cell_type": "code",
   "execution_count": 39,
   "id": "94bf3f94",
   "metadata": {
    "execution": {
     "iopub.execute_input": "2025-01-23T16:49:14.578061Z",
     "iopub.status.busy": "2025-01-23T16:49:14.577355Z",
     "iopub.status.idle": "2025-01-23T16:50:34.430289Z",
     "shell.execute_reply": "2025-01-23T16:50:34.429925Z",
     "shell.execute_reply.started": "2025-01-23T16:49:14.577999Z"
    }
   },
   "outputs": [
    {
     "name": "stdout",
     "output_type": "stream",
     "text": [
      "segmenting image tiles...\n"
     ]
    },
    {
     "name": "stderr",
     "output_type": "stream",
     "text": [
      "100%|█████████████████████████████████████████████| 6/6 [00:01<00:00,  4.12it/s]\n",
      "100%|█████████████████████████████████████████████| 5/5 [00:00<00:00,  5.58it/s]\n"
     ]
    },
    {
     "name": "stdout",
     "output_type": "stream",
     "text": [
      "creating masks using SAM...\n"
     ]
    },
    {
     "name": "stderr",
     "output_type": "stream",
     "text": [
      "100%|███████████████████████████████████████| 1301/1301 [00:52<00:00, 24.61it/s]\n"
     ]
    },
    {
     "name": "stdout",
     "output_type": "stream",
     "text": [
      "finding overlapping polygons...\n"
     ]
    },
    {
     "name": "stderr",
     "output_type": "stream",
     "text": [
      "1293it [00:03, 362.92it/s]\n"
     ]
    },
    {
     "name": "stdout",
     "output_type": "stream",
     "text": [
      "finding best polygons...\n"
     ]
    },
    {
     "name": "stderr",
     "output_type": "stream",
     "text": [
      "100%|█████████████████████████████████████████| 393/393 [00:08<00:00, 46.56it/s]\n"
     ]
    },
    {
     "name": "stdout",
     "output_type": "stream",
     "text": [
      "creating labeled image...\n"
     ]
    },
    {
     "name": "stderr",
     "output_type": "stream",
     "text": [
      "100%|████████████████████████████████████████| 428/428 [00:01<00:00, 310.75it/s]\n"
     ]
    }
   ],
   "source": [
    "fname = '/Users/zoltan/Dropbox/Segmentation/Kalinda_Roberts_project/RI_T01_Grid_65.tif'\n",
    "image = np.array(load_img(fname))\n",
    "image_pred = seg.predict_image(image, model, I=256)\n",
    "\n",
    "# decreasing the 'dbs_max_dist' parameter results in more SAM prompts (and longer processing times):\n",
    "labels, coords = seg.label_grains(image, image_pred, dbs_max_dist=10.0) # Unet prediction\n",
    "\n",
    "# SAM segmentation, using the point prompts from the Unet:\n",
    "all_grains, labels, mask_all, grain_data, fig, ax = seg.sam_segmentation(sam, image, image_pred, \n",
    "            coords, labels, min_area=50.0, plot_image=True, remove_edge_grains=False, remove_large_objects=False)"
   ]
  },
  {
   "cell_type": "markdown",
   "id": "968737c4",
   "metadata": {
    "tags": []
   },
   "source": [
    "## Delete or merge grains in segmentation result\n",
    "* click on the grain that you want to remove and press the 'x' key\n",
    "* click on two grains that you want to merge and press the 'm' key (they have to be the last two grains you clicked on)\n",
    "* press the 'g' key to hide the grain masks (so that you can see the original image better); press the 'g' key again to show the grain masks"
   ]
  },
  {
   "cell_type": "code",
   "execution_count": 40,
   "id": "e1761761",
   "metadata": {
    "execution": {
     "iopub.execute_input": "2025-01-23T16:51:01.655565Z",
     "iopub.status.busy": "2025-01-23T16:51:01.654886Z",
     "iopub.status.idle": "2025-01-23T16:51:01.661005Z",
     "shell.execute_reply": "2025-01-23T16:51:01.660373Z",
     "shell.execute_reply.started": "2025-01-23T16:51:01.655529Z"
    }
   },
   "outputs": [],
   "source": [
    "grain_inds = []\n",
    "cid1 = fig.canvas.mpl_connect('button_press_event', \n",
    "                              lambda event: seg.onclick2(event, all_grains, grain_inds, ax=ax))\n",
    "cid2 = fig.canvas.mpl_connect('key_press_event', \n",
    "                              lambda event: seg.onpress2(event, all_grains, grain_inds, fig=fig, ax=ax))"
   ]
  },
  {
   "cell_type": "markdown",
   "id": "5d08448d",
   "metadata": {},
   "source": [
    "Run this cell if you do not want to delete / merge existing grains anymore; it is a good idea to do this before moving on to the next step."
   ]
  },
  {
   "cell_type": "code",
   "execution_count": 41,
   "id": "8b6987ae",
   "metadata": {
    "execution": {
     "iopub.execute_input": "2025-01-23T16:51:14.942551Z",
     "iopub.status.busy": "2025-01-23T16:51:14.941847Z",
     "iopub.status.idle": "2025-01-23T16:51:14.949727Z",
     "shell.execute_reply": "2025-01-23T16:51:14.948332Z",
     "shell.execute_reply.started": "2025-01-23T16:51:14.942490Z"
    }
   },
   "outputs": [],
   "source": [
    "fig.canvas.mpl_disconnect(cid1)\n",
    "fig.canvas.mpl_disconnect(cid2)"
   ]
  },
  {
   "cell_type": "markdown",
   "id": "b1ef7d75",
   "metadata": {},
   "source": [
    "Use this function to update the 'all_grains' list after deleting and merging grains:"
   ]
  },
  {
   "cell_type": "code",
   "execution_count": 42,
   "id": "9f7b8082",
   "metadata": {
    "execution": {
     "iopub.execute_input": "2025-01-23T16:51:22.301149Z",
     "iopub.status.busy": "2025-01-23T16:51:22.300632Z",
     "iopub.status.idle": "2025-01-23T16:51:22.954213Z",
     "shell.execute_reply": "2025-01-23T16:51:22.953877Z",
     "shell.execute_reply.started": "2025-01-23T16:51:22.301115Z"
    }
   },
   "outputs": [
    {
     "name": "stderr",
     "output_type": "stream",
     "text": [
      "100%|███████████████████████████████████████| 426/426 [00:00<00:00, 2442.87it/s]\n",
      "426it [00:00, 3401.71it/s]\n"
     ]
    }
   ],
   "source": [
    "all_grains, labels, mask_all = seg.get_grains_from_patches(ax, image)"
   ]
  },
  {
   "cell_type": "markdown",
   "id": "36ca344c",
   "metadata": {},
   "source": [
    "Plot the updated set of grains:"
   ]
  },
  {
   "cell_type": "code",
   "execution_count": 43,
   "id": "7e0f7f02",
   "metadata": {
    "execution": {
     "iopub.execute_input": "2025-01-23T16:51:25.371887Z",
     "iopub.status.busy": "2025-01-23T16:51:25.371693Z",
     "iopub.status.idle": "2025-01-23T16:51:26.940839Z",
     "shell.execute_reply": "2025-01-23T16:51:26.940547Z",
     "shell.execute_reply.started": "2025-01-23T16:51:25.371872Z"
    }
   },
   "outputs": [
    {
     "name": "stderr",
     "output_type": "stream",
     "text": [
      "100%|████████████████████████████████████████| 426/426 [00:01<00:00, 331.40it/s]\n"
     ]
    }
   ],
   "source": [
    "fig, ax = plt.subplots(figsize=(15,10))\n",
    "ax.imshow(image)\n",
    "plt.xticks([])\n",
    "plt.yticks([])\n",
    "seg.plot_image_w_colorful_grains(image, all_grains, ax, cmap='Paired')\n",
    "seg.plot_grain_axes_and_centroids(all_grains, labels, ax, linewidth=1, markersize=10)\n",
    "plt.xlim([0, np.shape(image)[1]])\n",
    "plt.ylim([np.shape(image)[0], 0]);"
   ]
  },
  {
   "cell_type": "markdown",
   "id": "ab7201a5",
   "metadata": {
    "tags": []
   },
   "source": [
    "## Add new grains using the Segment Anything Model\n",
    "\n",
    "* click on unsegmented grain that you want to add\n",
    "* press the 'x' key if you want to delete the last grain you added\n",
    "* press the 'm' key if you want to merge the last two grains that you added\n",
    "* right click outside the grain (but inside the most recent mask) if you want to restrict the grain to a smaller mask - this adds a background prompt"
   ]
  },
  {
   "cell_type": "code",
   "execution_count": 44,
   "id": "04b1a138",
   "metadata": {
    "execution": {
     "iopub.execute_input": "2025-01-23T16:51:34.790371Z",
     "iopub.status.busy": "2025-01-23T16:51:34.789617Z",
     "iopub.status.idle": "2025-01-23T16:51:41.797522Z",
     "shell.execute_reply": "2025-01-23T16:51:41.797120Z",
     "shell.execute_reply.started": "2025-01-23T16:51:34.790311Z"
    }
   },
   "outputs": [],
   "source": [
    "reload(seg)\n",
    "predictor = SamPredictor(sam)\n",
    "predictor.set_image(image) # this can take a while\n",
    "coords = []\n",
    "cid3 = fig.canvas.mpl_connect('button_press_event', lambda event: seg.onclick(event, ax, coords, image, predictor))\n",
    "cid4 = fig.canvas.mpl_connect('key_press_event', lambda event: seg.onpress(event, ax, fig))"
   ]
  },
  {
   "cell_type": "code",
   "execution_count": 45,
   "id": "02386a92",
   "metadata": {
    "execution": {
     "iopub.execute_input": "2025-01-23T16:52:40.907440Z",
     "iopub.status.busy": "2025-01-23T16:52:40.906663Z",
     "iopub.status.idle": "2025-01-23T16:52:40.912336Z",
     "shell.execute_reply": "2025-01-23T16:52:40.911543Z",
     "shell.execute_reply.started": "2025-01-23T16:52:40.907374Z"
    }
   },
   "outputs": [],
   "source": [
    "fig.canvas.mpl_disconnect(cid3)\n",
    "fig.canvas.mpl_disconnect(cid4)"
   ]
  },
  {
   "cell_type": "markdown",
   "id": "6ae4b89a",
   "metadata": {},
   "source": [
    "After you are done with the deletion / addition of grain masks, run this cell to generate an updated set of grains:"
   ]
  },
  {
   "cell_type": "code",
   "execution_count": 46,
   "id": "4355b526",
   "metadata": {
    "execution": {
     "iopub.execute_input": "2025-01-23T16:52:42.186915Z",
     "iopub.status.busy": "2025-01-23T16:52:42.186388Z",
     "iopub.status.idle": "2025-01-23T16:52:42.870858Z",
     "shell.execute_reply": "2025-01-23T16:52:42.870531Z",
     "shell.execute_reply.started": "2025-01-23T16:52:42.186879Z"
    }
   },
   "outputs": [
    {
     "name": "stderr",
     "output_type": "stream",
     "text": [
      "100%|███████████████████████████████████████| 451/451 [00:00<00:00, 2533.99it/s]\n",
      "451it [00:00, 3316.39it/s]\n"
     ]
    }
   ],
   "source": [
    "all_grains, labels, mask_all = seg.get_grains_from_patches(ax, image)"
   ]
  },
  {
   "cell_type": "markdown",
   "id": "768a05d2",
   "metadata": {
    "tags": []
   },
   "source": [
    "## Get grain size distribution"
   ]
  },
  {
   "cell_type": "markdown",
   "id": "96892a89",
   "metadata": {},
   "source": [
    "Run this cell and then click (left mouse button) on one end of the scale bar in the image and click (right mouse button) on the other end of the scale bar:"
   ]
  },
  {
   "cell_type": "code",
   "execution_count": 52,
   "id": "869c6cd4",
   "metadata": {},
   "outputs": [
    {
     "name": "stdout",
     "output_type": "stream",
     "text": [
      "number of pixels: 193.11\n"
     ]
    }
   ],
   "source": [
    "cid5 = fig.canvas.mpl_connect('button_press_event', lambda event: seg.click_for_scale(event, ax))"
   ]
  },
  {
   "cell_type": "markdown",
   "id": "658e2f0a",
   "metadata": {},
   "source": [
    "Use the length of the scale bar in pixels (it should be printed above) to get the scale of the image (in units / pixel):"
   ]
  },
  {
   "cell_type": "code",
   "execution_count": 47,
   "id": "7893cfb7",
   "metadata": {
    "execution": {
     "iopub.execute_input": "2025-01-23T16:52:52.298127Z",
     "iopub.status.busy": "2025-01-23T16:52:52.297598Z",
     "iopub.status.idle": "2025-01-23T16:52:52.302675Z",
     "shell.execute_reply": "2025-01-23T16:52:52.301927Z",
     "shell.execute_reply.started": "2025-01-23T16:52:52.298093Z"
    }
   },
   "outputs": [],
   "source": [
    "n_of_units = 500 # centimeters in the case of 'IMG_5208_image.png'\n",
    "units_per_pixel = n_of_units/193.11 # length of scale bar in pixels"
   ]
  },
  {
   "cell_type": "code",
   "execution_count": 49,
   "id": "b56c5732",
   "metadata": {
    "execution": {
     "iopub.execute_input": "2025-01-23T16:53:08.290691Z",
     "iopub.status.busy": "2025-01-23T16:53:08.290233Z",
     "iopub.status.idle": "2025-01-23T16:53:08.508232Z",
     "shell.execute_reply": "2025-01-23T16:53:08.507891Z",
     "shell.execute_reply.started": "2025-01-23T16:53:08.290659Z"
    }
   },
   "outputs": [],
   "source": [
    "props = regionprops_table(labels.astype('int'), intensity_image = image, properties =\\\n",
    "        ('label', 'area', 'centroid', 'major_axis_length', 'minor_axis_length', \n",
    "         'orientation', 'perimeter', 'max_intensity', 'mean_intensity', 'min_intensity'))\n",
    "grain_data = pd.DataFrame(props)\n",
    "grain_data['major_axis_length'] = grain_data['major_axis_length'].values*units_per_pixel\n",
    "grain_data['minor_axis_length'] = grain_data['minor_axis_length'].values*units_per_pixel\n",
    "grain_data['perimeter'] = grain_data['perimeter'].values*units_per_pixel\n",
    "grain_data['area'] = grain_data['area'].values*units_per_pixel**2"
   ]
  },
  {
   "cell_type": "code",
   "execution_count": 50,
   "id": "202f5650",
   "metadata": {
    "execution": {
     "iopub.execute_input": "2025-01-23T16:53:10.704646Z",
     "iopub.status.busy": "2025-01-23T16:53:10.704098Z",
     "iopub.status.idle": "2025-01-23T16:53:10.724751Z",
     "shell.execute_reply": "2025-01-23T16:53:10.724244Z",
     "shell.execute_reply.started": "2025-01-23T16:53:10.704607Z"
    }
   },
   "outputs": [
    {
     "data": {
      "text/html": [
       "<div>\n",
       "<style scoped>\n",
       "    .dataframe tbody tr th:only-of-type {\n",
       "        vertical-align: middle;\n",
       "    }\n",
       "\n",
       "    .dataframe tbody tr th {\n",
       "        vertical-align: top;\n",
       "    }\n",
       "\n",
       "    .dataframe thead th {\n",
       "        text-align: right;\n",
       "    }\n",
       "</style>\n",
       "<table border=\"1\" class=\"dataframe\">\n",
       "  <thead>\n",
       "    <tr style=\"text-align: right;\">\n",
       "      <th></th>\n",
       "      <th>label</th>\n",
       "      <th>area</th>\n",
       "      <th>centroid-0</th>\n",
       "      <th>centroid-1</th>\n",
       "      <th>major_axis_length</th>\n",
       "      <th>minor_axis_length</th>\n",
       "      <th>orientation</th>\n",
       "      <th>perimeter</th>\n",
       "      <th>max_intensity-0</th>\n",
       "      <th>max_intensity-1</th>\n",
       "      <th>max_intensity-2</th>\n",
       "      <th>mean_intensity-0</th>\n",
       "      <th>mean_intensity-1</th>\n",
       "      <th>mean_intensity-2</th>\n",
       "      <th>min_intensity-0</th>\n",
       "      <th>min_intensity-1</th>\n",
       "      <th>min_intensity-2</th>\n",
       "    </tr>\n",
       "  </thead>\n",
       "  <tbody>\n",
       "    <tr>\n",
       "      <th>0</th>\n",
       "      <td>1</td>\n",
       "      <td>4578.794839</td>\n",
       "      <td>182.021962</td>\n",
       "      <td>1097.698389</td>\n",
       "      <td>97.993063</td>\n",
       "      <td>63.239928</td>\n",
       "      <td>1.063560</td>\n",
       "      <td>272.525592</td>\n",
       "      <td>251.0</td>\n",
       "      <td>252.0</td>\n",
       "      <td>249.0</td>\n",
       "      <td>141.670571</td>\n",
       "      <td>137.970717</td>\n",
       "      <td>132.992679</td>\n",
       "      <td>0.0</td>\n",
       "      <td>0.0</td>\n",
       "      <td>0.0</td>\n",
       "    </tr>\n",
       "    <tr>\n",
       "      <th>1</th>\n",
       "      <td>2</td>\n",
       "      <td>4531.867220</td>\n",
       "      <td>189.627219</td>\n",
       "      <td>1041.396450</td>\n",
       "      <td>96.602816</td>\n",
       "      <td>60.762530</td>\n",
       "      <td>-1.549856</td>\n",
       "      <td>261.540555</td>\n",
       "      <td>254.0</td>\n",
       "      <td>255.0</td>\n",
       "      <td>255.0</td>\n",
       "      <td>163.689349</td>\n",
       "      <td>162.676036</td>\n",
       "      <td>172.184911</td>\n",
       "      <td>18.0</td>\n",
       "      <td>13.0</td>\n",
       "      <td>17.0</td>\n",
       "    </tr>\n",
       "    <tr>\n",
       "      <th>2</th>\n",
       "      <td>3</td>\n",
       "      <td>2748.617693</td>\n",
       "      <td>255.880488</td>\n",
       "      <td>719.348780</td>\n",
       "      <td>77.825721</td>\n",
       "      <td>46.443157</td>\n",
       "      <td>-1.490290</td>\n",
       "      <td>206.983392</td>\n",
       "      <td>253.0</td>\n",
       "      <td>255.0</td>\n",
       "      <td>255.0</td>\n",
       "      <td>184.565854</td>\n",
       "      <td>184.504878</td>\n",
       "      <td>188.229268</td>\n",
       "      <td>25.0</td>\n",
       "      <td>20.0</td>\n",
       "      <td>28.0</td>\n",
       "    </tr>\n",
       "    <tr>\n",
       "      <th>3</th>\n",
       "      <td>4</td>\n",
       "      <td>2634.650618</td>\n",
       "      <td>348.519084</td>\n",
       "      <td>1015.414758</td>\n",
       "      <td>75.733510</td>\n",
       "      <td>51.466855</td>\n",
       "      <td>-1.545797</td>\n",
       "      <td>231.726671</td>\n",
       "      <td>244.0</td>\n",
       "      <td>242.0</td>\n",
       "      <td>240.0</td>\n",
       "      <td>122.595420</td>\n",
       "      <td>117.417303</td>\n",
       "      <td>113.127226</td>\n",
       "      <td>17.0</td>\n",
       "      <td>7.0</td>\n",
       "      <td>6.0</td>\n",
       "    </tr>\n",
       "    <tr>\n",
       "      <th>4</th>\n",
       "      <td>5</td>\n",
       "      <td>2373.196740</td>\n",
       "      <td>587.093220</td>\n",
       "      <td>607.022599</td>\n",
       "      <td>64.949000</td>\n",
       "      <td>47.262029</td>\n",
       "      <td>-0.580464</td>\n",
       "      <td>183.236375</td>\n",
       "      <td>253.0</td>\n",
       "      <td>255.0</td>\n",
       "      <td>255.0</td>\n",
       "      <td>133.307910</td>\n",
       "      <td>132.861582</td>\n",
       "      <td>150.985876</td>\n",
       "      <td>12.0</td>\n",
       "      <td>11.0</td>\n",
       "      <td>34.0</td>\n",
       "    </tr>\n",
       "  </tbody>\n",
       "</table>\n",
       "</div>"
      ],
      "text/plain": [
       "   label         area  centroid-0   centroid-1  major_axis_length  \\\n",
       "0      1  4578.794839  182.021962  1097.698389          97.993063   \n",
       "1      2  4531.867220  189.627219  1041.396450          96.602816   \n",
       "2      3  2748.617693  255.880488   719.348780          77.825721   \n",
       "3      4  2634.650618  348.519084  1015.414758          75.733510   \n",
       "4      5  2373.196740  587.093220   607.022599          64.949000   \n",
       "\n",
       "   minor_axis_length  orientation   perimeter  max_intensity-0  \\\n",
       "0          63.239928     1.063560  272.525592            251.0   \n",
       "1          60.762530    -1.549856  261.540555            254.0   \n",
       "2          46.443157    -1.490290  206.983392            253.0   \n",
       "3          51.466855    -1.545797  231.726671            244.0   \n",
       "4          47.262029    -0.580464  183.236375            253.0   \n",
       "\n",
       "   max_intensity-1  max_intensity-2  mean_intensity-0  mean_intensity-1  \\\n",
       "0            252.0            249.0        141.670571        137.970717   \n",
       "1            255.0            255.0        163.689349        162.676036   \n",
       "2            255.0            255.0        184.565854        184.504878   \n",
       "3            242.0            240.0        122.595420        117.417303   \n",
       "4            255.0            255.0        133.307910        132.861582   \n",
       "\n",
       "   mean_intensity-2  min_intensity-0  min_intensity-1  min_intensity-2  \n",
       "0        132.992679              0.0              0.0              0.0  \n",
       "1        172.184911             18.0             13.0             17.0  \n",
       "2        188.229268             25.0             20.0             28.0  \n",
       "3        113.127226             17.0              7.0              6.0  \n",
       "4        150.985876             12.0             11.0             34.0  "
      ]
     },
     "execution_count": 50,
     "metadata": {},
     "output_type": "execute_result"
    }
   ],
   "source": [
    "grain_data.head()"
   ]
  },
  {
   "cell_type": "code",
   "execution_count": 55,
   "id": "a8663eef",
   "metadata": {
    "execution": {
     "iopub.execute_input": "2025-01-23T16:56:02.636806Z",
     "iopub.status.busy": "2025-01-23T16:56:02.636225Z",
     "iopub.status.idle": "2025-01-23T16:56:02.697629Z",
     "shell.execute_reply": "2025-01-23T16:56:02.697237Z",
     "shell.execute_reply.started": "2025-01-23T16:56:02.636765Z"
    }
   },
   "outputs": [],
   "source": [
    "# plot histogram of grain axis lengths\n",
    "# note that input data needs to be in milimeters\n",
    "fig, ax = seg.plot_histogram_of_axis_lengths(grain_data['major_axis_length'], grain_data['minor_axis_length'], binsize=0.2)"
   ]
  },
  {
   "cell_type": "markdown",
   "id": "039415c6",
   "metadata": {
    "tags": []
   },
   "source": [
    "## Save mask and image to PNG files"
   ]
  },
  {
   "cell_type": "code",
   "execution_count": 486,
   "id": "c4962ba6",
   "metadata": {},
   "outputs": [
    {
     "data": {
      "text/plain": [
       "True"
      ]
     },
     "execution_count": 486,
     "metadata": {},
     "output_type": "execute_result"
    }
   ],
   "source": [
    "dirname = '/Users/zoltan/Dropbox/Segmentation/images/'\n",
    "# write grayscale mask to PNG file\n",
    "cv2.imwrite(dirname + fname.split('/')[-1][:-4] + '_mask.png', mask_all)\n",
    "# Save the image as a PNG file\n",
    "cv2.imwrite(dirname + fname.split('/')[-1][:-4] + '_image.png', cv2.cvtColor(big_im, cv2.COLOR_BGR2RGB))"
   ]
  },
  {
   "cell_type": "markdown",
   "id": "24f154fb",
   "metadata": {
    "tags": []
   },
   "source": [
    "## Convert polygon row, col coordinates to projected coordinates and save them to shapefile"
   ]
  },
  {
   "cell_type": "code",
   "execution_count": 56,
   "id": "16c934cc",
   "metadata": {
    "execution": {
     "iopub.execute_input": "2025-01-23T16:56:22.391177Z",
     "iopub.status.busy": "2025-01-23T16:56:22.390643Z",
     "iopub.status.idle": "2025-01-23T16:56:22.408827Z",
     "shell.execute_reply": "2025-01-23T16:56:22.408184Z",
     "shell.execute_reply.started": "2025-01-23T16:56:22.391148Z"
    }
   },
   "outputs": [],
   "source": [
    "import rasterio\n",
    "dataset = rasterio.open(fname)"
   ]
  },
  {
   "cell_type": "code",
   "execution_count": 58,
   "id": "26b2fc5b",
   "metadata": {
    "execution": {
     "iopub.execute_input": "2025-01-23T16:56:32.306146Z",
     "iopub.status.busy": "2025-01-23T16:56:32.305635Z",
     "iopub.status.idle": "2025-01-23T16:56:32.390716Z",
     "shell.execute_reply": "2025-01-23T16:56:32.390375Z",
     "shell.execute_reply.started": "2025-01-23T16:56:32.306113Z"
    }
   },
   "outputs": [],
   "source": [
    "# convert polygon coordinates from row, col to UTM\n",
    "from shapely.geometry import Polygon\n",
    "projected_polys = []\n",
    "for grain in all_grains:\n",
    "    x, y = rasterio.transform.xy(dataset.transform, grain.exterior.xy[1], grain.exterior.xy[0])\n",
    "    poly = Polygon(np.vstack((x, y)).T)\n",
    "    projected_polys.append(poly)"
   ]
  },
  {
   "cell_type": "code",
   "execution_count": 59,
   "id": "13746f7b",
   "metadata": {
    "execution": {
     "iopub.execute_input": "2025-01-23T16:56:34.084634Z",
     "iopub.status.busy": "2025-01-23T16:56:34.084209Z",
     "iopub.status.idle": "2025-01-23T16:56:34.097444Z",
     "shell.execute_reply": "2025-01-23T16:56:34.096770Z",
     "shell.execute_reply.started": "2025-01-23T16:56:34.084606Z"
    }
   },
   "outputs": [
    {
     "data": {
      "text/html": [
       "<div>\n",
       "<style scoped>\n",
       "    .dataframe tbody tr th:only-of-type {\n",
       "        vertical-align: middle;\n",
       "    }\n",
       "\n",
       "    .dataframe tbody tr th {\n",
       "        vertical-align: top;\n",
       "    }\n",
       "\n",
       "    .dataframe thead th {\n",
       "        text-align: right;\n",
       "    }\n",
       "</style>\n",
       "<table border=\"1\" class=\"dataframe\">\n",
       "  <thead>\n",
       "    <tr style=\"text-align: right;\">\n",
       "      <th></th>\n",
       "      <th>geometry</th>\n",
       "    </tr>\n",
       "  </thead>\n",
       "  <tbody>\n",
       "    <tr>\n",
       "      <th>0</th>\n",
       "      <td>POLYGON ((339043.943 4686358.495, 339043.941 4...</td>\n",
       "    </tr>\n",
       "    <tr>\n",
       "      <th>1</th>\n",
       "      <td>POLYGON ((339043.824 4686358.479, 339043.822 4...</td>\n",
       "    </tr>\n",
       "    <tr>\n",
       "      <th>2</th>\n",
       "      <td>POLYGON ((339043.228 4686358.364, 339043.226 4...</td>\n",
       "    </tr>\n",
       "    <tr>\n",
       "      <th>3</th>\n",
       "      <td>POLYGON ((339043.768 4686358.191, 339043.767 4...</td>\n",
       "    </tr>\n",
       "    <tr>\n",
       "      <th>4</th>\n",
       "      <td>POLYGON ((339043.036 4686357.764, 339043.034 4...</td>\n",
       "    </tr>\n",
       "  </tbody>\n",
       "</table>\n",
       "</div>"
      ],
      "text/plain": [
       "                                            geometry\n",
       "0  POLYGON ((339043.943 4686358.495, 339043.941 4...\n",
       "1  POLYGON ((339043.824 4686358.479, 339043.822 4...\n",
       "2  POLYGON ((339043.228 4686358.364, 339043.226 4...\n",
       "3  POLYGON ((339043.768 4686358.191, 339043.767 4...\n",
       "4  POLYGON ((339043.036 4686357.764, 339043.034 4..."
      ]
     },
     "execution_count": 59,
     "metadata": {},
     "output_type": "execute_result"
    }
   ],
   "source": [
    "# create geopandas dataframe\n",
    "import geopandas\n",
    "gdf = geopandas.GeoDataFrame(projected_polys, columns = ['geometry'])\n",
    "gdf.head()"
   ]
  },
  {
   "cell_type": "code",
   "execution_count": 60,
   "id": "548b71c0",
   "metadata": {
    "execution": {
     "iopub.execute_input": "2025-01-23T16:56:36.109494Z",
     "iopub.status.busy": "2025-01-23T16:56:36.108732Z",
     "iopub.status.idle": "2025-01-23T16:56:36.178696Z",
     "shell.execute_reply": "2025-01-23T16:56:36.178358Z",
     "shell.execute_reply.started": "2025-01-23T16:56:36.109417Z"
    }
   },
   "outputs": [
    {
     "data": {
      "text/html": [
       "<div>\n",
       "<style scoped>\n",
       "    .dataframe tbody tr th:only-of-type {\n",
       "        vertical-align: middle;\n",
       "    }\n",
       "\n",
       "    .dataframe tbody tr th {\n",
       "        vertical-align: top;\n",
       "    }\n",
       "\n",
       "    .dataframe thead th {\n",
       "        text-align: right;\n",
       "    }\n",
       "</style>\n",
       "<table border=\"1\" class=\"dataframe\">\n",
       "  <thead>\n",
       "    <tr style=\"text-align: right;\">\n",
       "      <th></th>\n",
       "      <th>label</th>\n",
       "      <th>area</th>\n",
       "      <th>centroid-0</th>\n",
       "      <th>centroid-1</th>\n",
       "      <th>major_axis_length</th>\n",
       "      <th>minor_axis_length</th>\n",
       "    </tr>\n",
       "  </thead>\n",
       "  <tbody>\n",
       "    <tr>\n",
       "      <th>0</th>\n",
       "      <td>1</td>\n",
       "      <td>683.0</td>\n",
       "      <td>182.021962</td>\n",
       "      <td>1097.698389</td>\n",
       "      <td>37.846881</td>\n",
       "      <td>24.424525</td>\n",
       "    </tr>\n",
       "    <tr>\n",
       "      <th>1</th>\n",
       "      <td>2</td>\n",
       "      <td>676.0</td>\n",
       "      <td>189.627219</td>\n",
       "      <td>1041.396450</td>\n",
       "      <td>37.309940</td>\n",
       "      <td>23.467704</td>\n",
       "    </tr>\n",
       "    <tr>\n",
       "      <th>2</th>\n",
       "      <td>3</td>\n",
       "      <td>410.0</td>\n",
       "      <td>255.880488</td>\n",
       "      <td>719.348780</td>\n",
       "      <td>30.057850</td>\n",
       "      <td>17.937276</td>\n",
       "    </tr>\n",
       "    <tr>\n",
       "      <th>3</th>\n",
       "      <td>4</td>\n",
       "      <td>393.0</td>\n",
       "      <td>348.519084</td>\n",
       "      <td>1015.414758</td>\n",
       "      <td>29.249796</td>\n",
       "      <td>19.877529</td>\n",
       "    </tr>\n",
       "    <tr>\n",
       "      <th>4</th>\n",
       "      <td>5</td>\n",
       "      <td>354.0</td>\n",
       "      <td>587.093220</td>\n",
       "      <td>607.022599</td>\n",
       "      <td>25.084603</td>\n",
       "      <td>18.253541</td>\n",
       "    </tr>\n",
       "  </tbody>\n",
       "</table>\n",
       "</div>"
      ],
      "text/plain": [
       "   label   area  centroid-0   centroid-1  major_axis_length  minor_axis_length\n",
       "0      1  683.0  182.021962  1097.698389          37.846881          24.424525\n",
       "1      2  676.0  189.627219  1041.396450          37.309940          23.467704\n",
       "2      3  410.0  255.880488   719.348780          30.057850          17.937276\n",
       "3      4  393.0  348.519084  1015.414758          29.249796          19.877529\n",
       "4      5  354.0  587.093220   607.022599          25.084603          18.253541"
      ]
     },
     "execution_count": 60,
     "metadata": {},
     "output_type": "execute_result"
    }
   ],
   "source": [
    "# create property dataframe from labeled image\n",
    "props = regionprops_table(labels.astype('int'), intensity_image = image, properties =\\\n",
    "        ('label', 'area', 'centroid', 'major_axis_length', 'minor_axis_length'))\n",
    "grain_data = pd.DataFrame(props)\n",
    "grain_data['major_axis_length'] = grain_data['major_axis_length'].values\n",
    "grain_data['minor_axis_length'] = grain_data['minor_axis_length'].values\n",
    "grain_data['area'] = grain_data['area'].values\n",
    "grain_data.head()"
   ]
  },
  {
   "cell_type": "code",
   "execution_count": 61,
   "id": "552ca32c",
   "metadata": {
    "execution": {
     "iopub.execute_input": "2025-01-23T16:56:37.107246Z",
     "iopub.status.busy": "2025-01-23T16:56:37.106683Z",
     "iopub.status.idle": "2025-01-23T16:56:37.113536Z",
     "shell.execute_reply": "2025-01-23T16:56:37.112984Z",
     "shell.execute_reply.started": "2025-01-23T16:56:37.107212Z"
    }
   },
   "outputs": [],
   "source": [
    "# convert centroids from row, col to UTM and add them to geodataframe\n",
    "centroid_x, centroid_y = rasterio.transform.xy(dataset.transform, grain_data['centroid-0'], \n",
    "                                               grain_data['centroid-1'])\n",
    "gdf['centroid_x'] = centroid_x\n",
    "gdf['centroid_y'] = centroid_y"
   ]
  },
  {
   "cell_type": "code",
   "execution_count": 62,
   "id": "f1b8a302",
   "metadata": {
    "execution": {
     "iopub.execute_input": "2025-01-23T16:56:38.880718Z",
     "iopub.status.busy": "2025-01-23T16:56:38.880388Z",
     "iopub.status.idle": "2025-01-23T16:56:38.891942Z",
     "shell.execute_reply": "2025-01-23T16:56:38.891318Z",
     "shell.execute_reply.started": "2025-01-23T16:56:38.880692Z"
    }
   },
   "outputs": [
    {
     "data": {
      "text/html": [
       "<div>\n",
       "<style scoped>\n",
       "    .dataframe tbody tr th:only-of-type {\n",
       "        vertical-align: middle;\n",
       "    }\n",
       "\n",
       "    .dataframe tbody tr th {\n",
       "        vertical-align: top;\n",
       "    }\n",
       "\n",
       "    .dataframe thead th {\n",
       "        text-align: right;\n",
       "    }\n",
       "</style>\n",
       "<table border=\"1\" class=\"dataframe\">\n",
       "  <thead>\n",
       "    <tr style=\"text-align: right;\">\n",
       "      <th></th>\n",
       "      <th>geometry</th>\n",
       "      <th>centroid_x</th>\n",
       "      <th>centroid_y</th>\n",
       "      <th>major_axis_length</th>\n",
       "      <th>minor_axis_length</th>\n",
       "    </tr>\n",
       "  </thead>\n",
       "  <tbody>\n",
       "    <tr>\n",
       "      <th>0</th>\n",
       "      <td>POLYGON ((339043.943 4686358.495, 339043.941 4...</td>\n",
       "      <td>339043.917150</td>\n",
       "      <td>4.686359e+06</td>\n",
       "      <td>0.068124</td>\n",
       "      <td>0.043964</td>\n",
       "    </tr>\n",
       "    <tr>\n",
       "      <th>1</th>\n",
       "      <td>POLYGON ((339043.824 4686358.479, 339043.822 4...</td>\n",
       "      <td>339043.815807</td>\n",
       "      <td>4.686359e+06</td>\n",
       "      <td>0.067158</td>\n",
       "      <td>0.042242</td>\n",
       "    </tr>\n",
       "    <tr>\n",
       "      <th>2</th>\n",
       "      <td>POLYGON ((339043.228 4686358.364, 339043.226 4...</td>\n",
       "      <td>339043.236121</td>\n",
       "      <td>4.686358e+06</td>\n",
       "      <td>0.054104</td>\n",
       "      <td>0.032287</td>\n",
       "    </tr>\n",
       "    <tr>\n",
       "      <th>3</th>\n",
       "      <td>POLYGON ((339043.768 4686358.191, 339043.767 4...</td>\n",
       "      <td>339043.769040</td>\n",
       "      <td>4.686358e+06</td>\n",
       "      <td>0.052650</td>\n",
       "      <td>0.035780</td>\n",
       "    </tr>\n",
       "    <tr>\n",
       "      <th>4</th>\n",
       "      <td>POLYGON ((339043.036 4686357.764, 339043.034 4...</td>\n",
       "      <td>339043.033934</td>\n",
       "      <td>4.686358e+06</td>\n",
       "      <td>0.045152</td>\n",
       "      <td>0.032856</td>\n",
       "    </tr>\n",
       "  </tbody>\n",
       "</table>\n",
       "</div>"
      ],
      "text/plain": [
       "                                            geometry     centroid_x  \\\n",
       "0  POLYGON ((339043.943 4686358.495, 339043.941 4...  339043.917150   \n",
       "1  POLYGON ((339043.824 4686358.479, 339043.822 4...  339043.815807   \n",
       "2  POLYGON ((339043.228 4686358.364, 339043.226 4...  339043.236121   \n",
       "3  POLYGON ((339043.768 4686358.191, 339043.767 4...  339043.769040   \n",
       "4  POLYGON ((339043.036 4686357.764, 339043.034 4...  339043.033934   \n",
       "\n",
       "     centroid_y  major_axis_length  minor_axis_length  \n",
       "0  4.686359e+06           0.068124           0.043964  \n",
       "1  4.686359e+06           0.067158           0.042242  \n",
       "2  4.686358e+06           0.054104           0.032287  \n",
       "3  4.686358e+06           0.052650           0.035780  \n",
       "4  4.686358e+06           0.045152           0.032856  "
      ]
     },
     "execution_count": 62,
     "metadata": {},
     "output_type": "execute_result"
    }
   ],
   "source": [
    "# convert grain axis lengths to UTM units\n",
    "gdf['major_axis_length'] = grain_data['major_axis_length'] * dataset.transform[0]\n",
    "gdf['minor_axis_length'] = grain_data['minor_axis_length'] * dataset.transform[0]\n",
    "gdf.head()"
   ]
  },
  {
   "cell_type": "code",
   "execution_count": 63,
   "id": "1a7a7dd3",
   "metadata": {
    "execution": {
     "iopub.execute_input": "2025-01-23T16:56:39.597208Z",
     "iopub.status.busy": "2025-01-23T16:56:39.596696Z",
     "iopub.status.idle": "2025-01-23T16:56:39.649556Z",
     "shell.execute_reply": "2025-01-23T16:56:39.649166Z",
     "shell.execute_reply.started": "2025-01-23T16:56:39.597169Z"
    }
   },
   "outputs": [],
   "source": [
    "# check if everything looks good\n",
    "band1 = dataset.read(1)\n",
    "band2 = dataset.read(2)\n",
    "band3 = dataset.read(3)\n",
    "plt.figure()\n",
    "plt.imshow(np.stack((band1, band2, band3), axis=2), extent = [dataset.bounds[0], dataset.bounds[2], \n",
    "                                         dataset.bounds[1], dataset.bounds[3]])\n",
    "plt.scatter(gdf['centroid_x'], gdf['centroid_y']);"
   ]
  },
  {
   "cell_type": "code",
   "execution_count": 64,
   "id": "2e284de5",
   "metadata": {
    "execution": {
     "iopub.execute_input": "2025-01-23T16:56:46.583736Z",
     "iopub.status.busy": "2025-01-23T16:56:46.583156Z",
     "iopub.status.idle": "2025-01-23T16:56:46.592326Z",
     "shell.execute_reply": "2025-01-23T16:56:46.591696Z",
     "shell.execute_reply.started": "2025-01-23T16:56:46.583692Z"
    }
   },
   "outputs": [],
   "source": [
    "gdf.crs = dataset.crs # set geodataframe CRS"
   ]
  },
  {
   "cell_type": "code",
   "execution_count": 65,
   "id": "27f9b8b3",
   "metadata": {
    "execution": {
     "iopub.execute_input": "2025-01-23T16:56:51.704578Z",
     "iopub.status.busy": "2025-01-23T16:56:51.704233Z",
     "iopub.status.idle": "2025-01-23T16:56:51.734366Z",
     "shell.execute_reply": "2025-01-23T16:56:51.734059Z",
     "shell.execute_reply.started": "2025-01-23T16:56:51.704552Z"
    }
   },
   "outputs": [
    {
     "name": "stderr",
     "output_type": "stream",
     "text": [
      "/var/folders/wn/31h1q45j6y321jzk91br_d3m0000gn/T/ipykernel_7410/571464815.py:1: UserWarning: Column names longer than 10 characters will be truncated when saved to ESRI Shapefile.\n",
      "  gdf.to_file(\"/Users/zoltan/Dropbox/Segmentation/Kalinda_Roberts_project/projected_grains.shp\") # write shapefile\n",
      "/Users/zoltan/miniforge3/envs/segmenteverygrain/lib/python3.9/site-packages/pyogrio/raw.py:723: RuntimeWarning: Normalized/laundered field name: 'major_axis_length' to 'major_axis'\n",
      "  ogr_write(\n",
      "/Users/zoltan/miniforge3/envs/segmenteverygrain/lib/python3.9/site-packages/pyogrio/raw.py:723: RuntimeWarning: Normalized/laundered field name: 'minor_axis_length' to 'minor_axis'\n",
      "  ogr_write(\n"
     ]
    }
   ],
   "source": [
    "gdf.to_file(\"/Users/zoltan/Dropbox/Segmentation/Kalinda_Roberts_project/projected_grains.shp\") # write shapefile"
   ]
  },
  {
   "cell_type": "code",
   "execution_count": 66,
   "id": "361ceb2d",
   "metadata": {
    "execution": {
     "iopub.execute_input": "2025-01-23T16:56:58.425401Z",
     "iopub.status.busy": "2025-01-23T16:56:58.424874Z",
     "iopub.status.idle": "2025-01-23T16:56:58.430893Z",
     "shell.execute_reply": "2025-01-23T16:56:58.430289Z",
     "shell.execute_reply.started": "2025-01-23T16:56:58.425366Z"
    }
   },
   "outputs": [],
   "source": [
    "dataset.close()"
   ]
  }
 ],
 "metadata": {
  "kernelspec": {
   "display_name": "Python 3 (ipykernel)",
   "language": "python",
   "name": "python3"
  },
  "language_info": {
   "codemirror_mode": {
    "name": "ipython",
    "version": 3
   },
   "file_extension": ".py",
   "mimetype": "text/x-python",
   "name": "python",
   "nbconvert_exporter": "python",
   "pygments_lexer": "ipython3",
   "version": "3.9.20"
  }
 },
 "nbformat": 4,
 "nbformat_minor": 5
}
