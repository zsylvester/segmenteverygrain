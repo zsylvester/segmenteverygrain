{
 "cells": [
  {
   "cell_type": "markdown",
   "id": "95a8f02b",
   "metadata": {
    "tags": []
   },
   "source": [
    "## Import packages"
   ]
  },
  {
   "cell_type": "markdown",
   "id": "360fd114-4a50-4a7d-8fa2-357867cbd601",
   "metadata": {},
   "source": [
    "Noet that `rasterio` and `geopandas` need to be installed in the current Python environment for this notebook to work."
   ]
  },
  {
   "cell_type": "code",
   "execution_count": 2,
   "id": "f2ebc518",
   "metadata": {
    "execution": {
     "iopub.execute_input": "2024-12-18T17:56:18.168629Z",
     "iopub.status.busy": "2024-12-18T17:56:18.167941Z",
     "iopub.status.idle": "2024-12-18T17:56:22.138277Z",
     "shell.execute_reply": "2024-12-18T17:56:22.137831Z",
     "shell.execute_reply.started": "2024-12-18T17:56:18.168575Z"
    }
   },
   "outputs": [],
   "source": [
    "import pandas as pd\n",
    "import numpy as np\n",
    "import matplotlib.pyplot as plt\n",
    "import cv2\n",
    "from skimage.measure import regionprops, regionprops_table\n",
    "from keras.utils import load_img\n",
    "from keras.saving import load_model\n",
    "from importlib import reload\n",
    "import segmenteverygrain as seg\n",
    "from segment_anything import sam_model_registry, SamPredictor\n",
    "from tqdm import trange, tqdm\n",
    "%matplotlib qt"
   ]
  },
  {
   "cell_type": "markdown",
   "id": "f474ac20",
   "metadata": {
    "tags": []
   },
   "source": [
    "## Load models"
   ]
  },
  {
   "cell_type": "code",
   "execution_count": 3,
   "id": "fe1bd2bc",
   "metadata": {
    "execution": {
     "iopub.execute_input": "2024-12-18T17:56:31.965227Z",
     "iopub.status.busy": "2024-12-18T17:56:31.963816Z",
     "iopub.status.idle": "2024-12-18T17:56:34.544967Z",
     "shell.execute_reply": "2024-12-18T17:56:34.544481Z",
     "shell.execute_reply.started": "2024-12-18T17:56:31.965175Z"
    }
   },
   "outputs": [
    {
     "name": "stderr",
     "output_type": "stream",
     "text": [
      "2024-12-18 11:56:31.978965: I metal_plugin/src/device/metal_device.cc:1154] Metal device set to: Apple M2 Max\n",
      "2024-12-18 11:56:31.979033: I metal_plugin/src/device/metal_device.cc:296] systemMemory: 96.00 GB\n",
      "2024-12-18 11:56:31.979042: I metal_plugin/src/device/metal_device.cc:313] maxCacheSize: 36.00 GB\n",
      "2024-12-18 11:56:31.979092: I tensorflow/core/common_runtime/pluggable_device/pluggable_device_factory.cc:305] Could not identify NUMA node of platform GPU ID 0, defaulting to 0. Your kernel may not have been built with NUMA support.\n",
      "2024-12-18 11:56:31.979145: I tensorflow/core/common_runtime/pluggable_device/pluggable_device_factory.cc:271] Created TensorFlow device (/job:localhost/replica:0/task:0/device:GPU:0 with 0 MB memory) -> physical PluggableDevice (device: 0, name: METAL, pci bus id: <undefined>)\n",
      "/Users/zoltan/miniforge3/envs/segmenteverygrain/lib/python3.9/site-packages/segment_anything/build_sam.py:105: FutureWarning: You are using `torch.load` with `weights_only=False` (the current default value), which uses the default pickle module implicitly. It is possible to construct malicious pickle data which will execute arbitrary code during unpickling (See https://github.com/pytorch/pytorch/blob/main/SECURITY.md#untrusted-models for more details). In a future release, the default value for `weights_only` will be flipped to `True`. This limits the functions that could be executed during unpickling. Arbitrary objects will no longer be allowed to be loaded via this mode unless they are explicitly allowlisted by the user via `torch.serialization.add_safe_globals`. We recommend you start setting `weights_only=True` for any use case where you don't have full control of the loaded file. Please open an issue on GitHub for any issues related to this experimental feature.\n",
      "  state_dict = torch.load(f)\n"
     ]
    }
   ],
   "source": [
    "model = load_model(\"seg_model.keras\", custom_objects={'weighted_crossentropy': seg.weighted_crossentropy})\n",
    "\n",
    "# the SAM model checkpoints can be downloaded from: https://dl.fbaipublicfiles.com/segment_anything/sam_vit_h_4b8939.pth\n",
    "sam = sam_model_registry[\"default\"](checkpoint=\"/Users/zoltan/Dropbox/Segmentation/sam_vit_h_4b8939.pth\")"
   ]
  },
  {
   "cell_type": "markdown",
   "id": "a3c1dfc6",
   "metadata": {
    "tags": []
   },
   "source": [
    "## Run segmentation\n",
    "\n",
    "Grains are supposed to be well defined in the image; e.g., if a grain consists of only a few pixels, it is unlikely to be detected.\n",
    "\n",
    "The segmentation can take a few minutes even for medium-sized images, so do not start with large images (downsample them if necessary). Images with ~2000 pixels along their largest dimension are a good start."
   ]
  },
  {
   "cell_type": "code",
   "execution_count": 4,
   "id": "94bf3f94",
   "metadata": {
    "execution": {
     "iopub.execute_input": "2024-12-18T17:56:43.912057Z",
     "iopub.status.busy": "2024-12-18T17:56:43.911552Z",
     "iopub.status.idle": "2024-12-18T17:57:57.879489Z",
     "shell.execute_reply": "2024-12-18T17:57:57.879003Z",
     "shell.execute_reply.started": "2024-12-18T17:56:43.912023Z"
    }
   },
   "outputs": [
    {
     "name": "stdout",
     "output_type": "stream",
     "text": [
      "segmenting image tiles...\n"
     ]
    },
    {
     "name": "stderr",
     "output_type": "stream",
     "text": [
      "  0%|                                                     | 0/6 [00:00<?, ?it/s]2024-12-18 11:56:44.229264: I tensorflow/core/grappler/optimizers/custom_graph_optimizer_registry.cc:117] Plugin optimizer for device_type GPU is enabled.\n",
      "100%|█████████████████████████████████████████████| 6/6 [00:01<00:00,  4.28it/s]\n",
      "100%|█████████████████████████████████████████████| 5/5 [00:00<00:00,  5.67it/s]\n"
     ]
    },
    {
     "name": "stdout",
     "output_type": "stream",
     "text": [
      "creating masks using SAM...\n"
     ]
    },
    {
     "name": "stderr",
     "output_type": "stream",
     "text": [
      "100%|███████████████████████████████████████| 1301/1301 [00:49<00:00, 26.41it/s]\n"
     ]
    },
    {
     "name": "stdout",
     "output_type": "stream",
     "text": [
      "finding overlapping polygons...\n"
     ]
    },
    {
     "name": "stderr",
     "output_type": "stream",
     "text": [
      "1293it [00:03, 365.44it/s]\n"
     ]
    },
    {
     "name": "stdout",
     "output_type": "stream",
     "text": [
      "finding best polygons...\n"
     ]
    },
    {
     "name": "stderr",
     "output_type": "stream",
     "text": [
      "100%|█████████████████████████████████████████| 393/393 [00:08<00:00, 49.02it/s]\n"
     ]
    },
    {
     "name": "stdout",
     "output_type": "stream",
     "text": [
      "creating labeled image...\n"
     ]
    },
    {
     "name": "stderr",
     "output_type": "stream",
     "text": [
      "100%|████████████████████████████████████████| 428/428 [00:01<00:00, 381.02it/s]\n"
     ]
    }
   ],
   "source": [
    "fname = '/Users/zoltan/Dropbox/Segmentation/Kalinda_Roberts_project/RI_T01_Grid_65.tif'\n",
    "image = np.array(load_img(fname))\n",
    "image_pred = seg.predict_image(image, model, I=256)\n",
    "\n",
    "# decreasing the 'dbs_max_dist' parameter results in more SAM prompts (and longer processing times):\n",
    "labels, coords = seg.label_grains(image, image_pred, dbs_max_dist=10.0) # Unet prediction\n",
    "\n",
    "# SAM segmentation, using the point prompts from the Unet:\n",
    "all_grains, labels, mask_all, grain_data, fig, ax = seg.sam_segmentation(sam, image, image_pred, \n",
    "            coords, labels, min_area=50.0, plot_image=True, remove_edge_grains=False, remove_large_objects=False)\n",
    "\n",
    "# big_im = np.array(load_img(fname))\n",
    "# big_im_pred = seg.predict_big_image(big_im, model, I=256)\n",
    "# # decreasing the 'dbs_max_dist' parameter results in more SAM prompts (and longer processing times):\n",
    "# labels, grains, coords = seg.label_grains(big_im, big_im_pred, dbs_max_dist=10.0)\n",
    "# all_grains, labels, mask_all, grain_data, fig, ax = seg.sam_segmentation(sam, big_im, big_im_pred, coords, labels, min_area=50.0)"
   ]
  },
  {
   "cell_type": "markdown",
   "id": "968737c4",
   "metadata": {
    "tags": []
   },
   "source": [
    "## Delete or merge grains in segmentation result\n",
    "* click on the grain that you want to remove and press the 'x' key\n",
    "* click on two grains that you want to merge and press the 'm' key (they have to be the last two grains you clicked on)\n",
    "* press the 'g' key to hide the grain masks (so that you can see the original image better); press the 'g' key again to show the grain masks"
   ]
  },
  {
   "cell_type": "code",
   "execution_count": 5,
   "id": "e1761761",
   "metadata": {
    "execution": {
     "iopub.execute_input": "2024-12-18T17:58:47.982417Z",
     "iopub.status.busy": "2024-12-18T17:58:47.981654Z",
     "iopub.status.idle": "2024-12-18T17:58:47.996141Z",
     "shell.execute_reply": "2024-12-18T17:58:47.995374Z",
     "shell.execute_reply.started": "2024-12-18T17:58:47.982357Z"
    }
   },
   "outputs": [],
   "source": [
    "grain_inds = []\n",
    "cid1 = fig.canvas.mpl_connect('button_press_event', \n",
    "                              lambda event: seg.onclick2(event, all_grains, grain_inds, ax=ax))\n",
    "cid2 = fig.canvas.mpl_connect('key_press_event', \n",
    "                              lambda event: seg.onpress2(event, all_grains, grain_inds, fig=fig, ax=ax))"
   ]
  },
  {
   "cell_type": "markdown",
   "id": "5d08448d",
   "metadata": {},
   "source": [
    "Run this cell if you do not want to delete / merge existing grains anymore; it is a good idea to do this before moving on to the next step."
   ]
  },
  {
   "cell_type": "code",
   "execution_count": 6,
   "id": "8b6987ae",
   "metadata": {
    "execution": {
     "iopub.execute_input": "2024-12-18T17:59:14.772817Z",
     "iopub.status.busy": "2024-12-18T17:59:14.772287Z",
     "iopub.status.idle": "2024-12-18T17:59:14.777202Z",
     "shell.execute_reply": "2024-12-18T17:59:14.776402Z",
     "shell.execute_reply.started": "2024-12-18T17:59:14.772782Z"
    }
   },
   "outputs": [],
   "source": [
    "fig.canvas.mpl_disconnect(cid1)\n",
    "fig.canvas.mpl_disconnect(cid2)"
   ]
  },
  {
   "cell_type": "markdown",
   "id": "b1ef7d75",
   "metadata": {},
   "source": [
    "Use this function to update the 'all_grains' list after deleting and merging grains:"
   ]
  },
  {
   "cell_type": "code",
   "execution_count": 9,
   "id": "9f7b8082",
   "metadata": {
    "execution": {
     "iopub.execute_input": "2024-12-18T17:59:47.216838Z",
     "iopub.status.busy": "2024-12-18T17:59:47.216311Z",
     "iopub.status.idle": "2024-12-18T17:59:47.847240Z",
     "shell.execute_reply": "2024-12-18T17:59:47.846918Z",
     "shell.execute_reply.started": "2024-12-18T17:59:47.216804Z"
    }
   },
   "outputs": [
    {
     "name": "stderr",
     "output_type": "stream",
     "text": [
      "100%|███████████████████████████████████████| 427/427 [00:00<00:00, 2306.76it/s]\n",
      "427it [00:00, 3641.94it/s]\n"
     ]
    }
   ],
   "source": [
    "all_grains, labels, mask_all = seg.get_grains_from_patches(ax, image)"
   ]
  },
  {
   "cell_type": "markdown",
   "id": "36ca344c",
   "metadata": {},
   "source": [
    "Plot the updated set of grains:"
   ]
  },
  {
   "cell_type": "code",
   "execution_count": 19,
   "id": "7e0f7f02",
   "metadata": {
    "execution": {
     "iopub.execute_input": "2024-12-18T18:09:21.884504Z",
     "iopub.status.busy": "2024-12-18T18:09:21.883911Z",
     "iopub.status.idle": "2024-12-18T18:09:23.501489Z",
     "shell.execute_reply": "2024-12-18T18:09:23.501169Z",
     "shell.execute_reply.started": "2024-12-18T18:09:21.884467Z"
    }
   },
   "outputs": [
    {
     "name": "stderr",
     "output_type": "stream",
     "text": [
      "100%|████████████████████████████████████████| 427/427 [00:01<00:00, 324.71it/s]\n"
     ]
    }
   ],
   "source": [
    "fig, ax = plt.subplots(figsize=(15,10))\n",
    "ax.imshow(image)\n",
    "plt.xticks([])\n",
    "plt.yticks([])\n",
    "seg.plot_image_w_colorful_grains(image, all_grains, ax, cmap='Paired')\n",
    "seg.plot_grain_axes_and_centroids(all_grains, labels, ax, linewidth=1, markersize=10)\n",
    "plt.xlim([0, np.shape(image)[1]])\n",
    "plt.ylim([np.shape(image)[0], 0]);"
   ]
  },
  {
   "cell_type": "markdown",
   "id": "ab7201a5",
   "metadata": {
    "tags": []
   },
   "source": [
    "## Add new grains using the Segment Anything Model\n",
    "\n",
    "* click on unsegmented grain that you want to add\n",
    "* press the 'x' key if you want to delete the last grain you added\n",
    "* press the 'm' key if you want to merge the last two grains that you added\n",
    "* right click outside the grain (but inside the most recent mask) if you want to restrict the grain to a smaller mask - this adds a background prompt"
   ]
  },
  {
   "cell_type": "code",
   "execution_count": 20,
   "id": "04b1a138",
   "metadata": {
    "execution": {
     "iopub.execute_input": "2024-12-18T18:09:32.635818Z",
     "iopub.status.busy": "2024-12-18T18:09:32.635307Z",
     "iopub.status.idle": "2024-12-18T18:09:39.542000Z",
     "shell.execute_reply": "2024-12-18T18:09:39.541500Z",
     "shell.execute_reply.started": "2024-12-18T18:09:32.635779Z"
    }
   },
   "outputs": [],
   "source": [
    "reload(seg)\n",
    "predictor = SamPredictor(sam)\n",
    "predictor.set_image(image) # this can take a while\n",
    "coords = []\n",
    "cid3 = fig.canvas.mpl_connect('button_press_event', lambda event: seg.onclick(event, ax, coords, image, predictor))\n",
    "cid4 = fig.canvas.mpl_connect('key_press_event', lambda event: seg.onpress(event, ax, fig))"
   ]
  },
  {
   "cell_type": "code",
   "execution_count": 21,
   "id": "02386a92",
   "metadata": {
    "execution": {
     "iopub.execute_input": "2024-12-18T18:10:49.612440Z",
     "iopub.status.busy": "2024-12-18T18:10:49.611885Z",
     "iopub.status.idle": "2024-12-18T18:10:49.616603Z",
     "shell.execute_reply": "2024-12-18T18:10:49.615861Z",
     "shell.execute_reply.started": "2024-12-18T18:10:49.612405Z"
    }
   },
   "outputs": [],
   "source": [
    "fig.canvas.mpl_disconnect(cid3)\n",
    "fig.canvas.mpl_disconnect(cid4)"
   ]
  },
  {
   "cell_type": "markdown",
   "id": "6ae4b89a",
   "metadata": {},
   "source": [
    "After you are done with the deletion / addition of grain masks, run this cell to generate an updated set of grains:"
   ]
  },
  {
   "cell_type": "code",
   "execution_count": 22,
   "id": "4355b526",
   "metadata": {
    "execution": {
     "iopub.execute_input": "2024-12-18T18:11:05.431362Z",
     "iopub.status.busy": "2024-12-18T18:11:05.430854Z",
     "iopub.status.idle": "2024-12-18T18:11:06.090520Z",
     "shell.execute_reply": "2024-12-18T18:11:06.090072Z",
     "shell.execute_reply.started": "2024-12-18T18:11:05.431328Z"
    }
   },
   "outputs": [
    {
     "name": "stderr",
     "output_type": "stream",
     "text": [
      "100%|███████████████████████████████████████| 453/453 [00:00<00:00, 2451.27it/s]\n",
      "453it [00:00, 3551.44it/s]\n"
     ]
    }
   ],
   "source": [
    "all_grains, labels, mask_all = seg.get_grains_from_patches(ax, image)"
   ]
  },
  {
   "cell_type": "markdown",
   "id": "768a05d2",
   "metadata": {
    "tags": []
   },
   "source": [
    "## Get grain size distribution"
   ]
  },
  {
   "cell_type": "markdown",
   "id": "96892a89",
   "metadata": {},
   "source": [
    "Run this cell and then click (left mouse button) on one end of the scale bar in the image and click (right mouse button) on the other end of the scale bar:"
   ]
  },
  {
   "cell_type": "code",
   "execution_count": 52,
   "id": "869c6cd4",
   "metadata": {},
   "outputs": [
    {
     "name": "stdout",
     "output_type": "stream",
     "text": [
      "number of pixels: 193.11\n"
     ]
    }
   ],
   "source": [
    "cid5 = fig.canvas.mpl_connect('button_press_event', lambda event: seg.click_for_scale(event, ax))"
   ]
  },
  {
   "cell_type": "markdown",
   "id": "658e2f0a",
   "metadata": {},
   "source": [
    "Use the length of the scale bar in pixels (it should be printed above) to get the scale of the image (in units / pixel):"
   ]
  },
  {
   "cell_type": "code",
   "execution_count": 57,
   "id": "7893cfb7",
   "metadata": {},
   "outputs": [],
   "source": [
    "n_of_units = 500 # centimeters in the case of 'IMG_5208_image.png'\n",
    "units_per_pixel = n_of_units/193.11 # length of scale bar in pixels"
   ]
  },
  {
   "cell_type": "code",
   "execution_count": 58,
   "id": "b56c5732",
   "metadata": {},
   "outputs": [],
   "source": [
    "props = regionprops_table(labels.astype('int'), intensity_image = big_im, properties =\\\n",
    "        ('label', 'area', 'centroid', 'major_axis_length', 'minor_axis_length', \n",
    "         'orientation', 'perimeter', 'max_intensity', 'mean_intensity', 'min_intensity'))\n",
    "grain_data = pd.DataFrame(props)\n",
    "grain_data['major_axis_length'] = grain_data['major_axis_length'].values*units_per_pixel\n",
    "grain_data['minor_axis_length'] = grain_data['minor_axis_length'].values*units_per_pixel\n",
    "grain_data['perimeter'] = grain_data['perimeter'].values*units_per_pixel\n",
    "grain_data['area'] = grain_data['area'].values*units_per_pixel**2"
   ]
  },
  {
   "cell_type": "code",
   "execution_count": 59,
   "id": "202f5650",
   "metadata": {},
   "outputs": [
    {
     "data": {
      "text/html": [
       "<div>\n",
       "<style scoped>\n",
       "    .dataframe tbody tr th:only-of-type {\n",
       "        vertical-align: middle;\n",
       "    }\n",
       "\n",
       "    .dataframe tbody tr th {\n",
       "        vertical-align: top;\n",
       "    }\n",
       "\n",
       "    .dataframe thead th {\n",
       "        text-align: right;\n",
       "    }\n",
       "</style>\n",
       "<table border=\"1\" class=\"dataframe\">\n",
       "  <thead>\n",
       "    <tr style=\"text-align: right;\">\n",
       "      <th></th>\n",
       "      <th>label</th>\n",
       "      <th>area</th>\n",
       "      <th>centroid-0</th>\n",
       "      <th>centroid-1</th>\n",
       "      <th>major_axis_length</th>\n",
       "      <th>minor_axis_length</th>\n",
       "      <th>orientation</th>\n",
       "      <th>perimeter</th>\n",
       "      <th>max_intensity-0</th>\n",
       "      <th>max_intensity-1</th>\n",
       "      <th>max_intensity-2</th>\n",
       "      <th>mean_intensity-0</th>\n",
       "      <th>mean_intensity-1</th>\n",
       "      <th>mean_intensity-2</th>\n",
       "      <th>min_intensity-0</th>\n",
       "      <th>min_intensity-1</th>\n",
       "      <th>min_intensity-2</th>\n",
       "    </tr>\n",
       "  </thead>\n",
       "  <tbody>\n",
       "    <tr>\n",
       "      <th>0</th>\n",
       "      <td>1</td>\n",
       "      <td>15016.838126</td>\n",
       "      <td>20.546875</td>\n",
       "      <td>945.926786</td>\n",
       "      <td>168.641397</td>\n",
       "      <td>118.488355</td>\n",
       "      <td>1.139348</td>\n",
       "      <td>483.430889</td>\n",
       "      <td>255.0</td>\n",
       "      <td>255.0</td>\n",
       "      <td>255.0</td>\n",
       "      <td>218.377232</td>\n",
       "      <td>212.426339</td>\n",
       "      <td>219.841071</td>\n",
       "      <td>60.0</td>\n",
       "      <td>43.0</td>\n",
       "      <td>13.0</td>\n",
       "    </tr>\n",
       "    <tr>\n",
       "      <th>1</th>\n",
       "      <td>2</td>\n",
       "      <td>10176.589408</td>\n",
       "      <td>339.316206</td>\n",
       "      <td>1820.215415</td>\n",
       "      <td>144.012838</td>\n",
       "      <td>92.730107</td>\n",
       "      <td>-1.510110</td>\n",
       "      <td>397.175106</td>\n",
       "      <td>255.0</td>\n",
       "      <td>255.0</td>\n",
       "      <td>255.0</td>\n",
       "      <td>183.735178</td>\n",
       "      <td>177.980237</td>\n",
       "      <td>181.127141</td>\n",
       "      <td>27.0</td>\n",
       "      <td>47.0</td>\n",
       "      <td>38.0</td>\n",
       "    </tr>\n",
       "    <tr>\n",
       "      <th>2</th>\n",
       "      <td>3</td>\n",
       "      <td>17182.212552</td>\n",
       "      <td>451.810769</td>\n",
       "      <td>15.046430</td>\n",
       "      <td>231.092918</td>\n",
       "      <td>99.993859</td>\n",
       "      <td>-0.021373</td>\n",
       "      <td>573.868806</td>\n",
       "      <td>238.0</td>\n",
       "      <td>233.0</td>\n",
       "      <td>255.0</td>\n",
       "      <td>205.172844</td>\n",
       "      <td>203.001171</td>\n",
       "      <td>209.460008</td>\n",
       "      <td>62.0</td>\n",
       "      <td>64.0</td>\n",
       "      <td>54.0</td>\n",
       "    </tr>\n",
       "    <tr>\n",
       "      <th>3</th>\n",
       "      <td>4</td>\n",
       "      <td>11812.352133</td>\n",
       "      <td>514.209989</td>\n",
       "      <td>629.208286</td>\n",
       "      <td>149.117158</td>\n",
       "      <td>102.839337</td>\n",
       "      <td>0.292422</td>\n",
       "      <td>422.546630</td>\n",
       "      <td>255.0</td>\n",
       "      <td>255.0</td>\n",
       "      <td>255.0</td>\n",
       "      <td>219.042565</td>\n",
       "      <td>214.907491</td>\n",
       "      <td>220.919410</td>\n",
       "      <td>40.0</td>\n",
       "      <td>77.0</td>\n",
       "      <td>66.0</td>\n",
       "    </tr>\n",
       "    <tr>\n",
       "      <th>4</th>\n",
       "      <td>5</td>\n",
       "      <td>10712.905056</td>\n",
       "      <td>551.856696</td>\n",
       "      <td>465.237797</td>\n",
       "      <td>177.367748</td>\n",
       "      <td>78.752628</td>\n",
       "      <td>-1.112341</td>\n",
       "      <td>441.483269</td>\n",
       "      <td>255.0</td>\n",
       "      <td>249.0</td>\n",
       "      <td>255.0</td>\n",
       "      <td>204.268461</td>\n",
       "      <td>198.521902</td>\n",
       "      <td>202.667710</td>\n",
       "      <td>53.0</td>\n",
       "      <td>68.0</td>\n",
       "      <td>58.0</td>\n",
       "    </tr>\n",
       "  </tbody>\n",
       "</table>\n",
       "</div>"
      ],
      "text/plain": [
       "   label          area  centroid-0   centroid-1  major_axis_length  \\\n",
       "0      1  15016.838126   20.546875   945.926786         168.641397   \n",
       "1      2  10176.589408  339.316206  1820.215415         144.012838   \n",
       "2      3  17182.212552  451.810769    15.046430         231.092918   \n",
       "3      4  11812.352133  514.209989   629.208286         149.117158   \n",
       "4      5  10712.905056  551.856696   465.237797         177.367748   \n",
       "\n",
       "   minor_axis_length  orientation   perimeter  max_intensity-0  \\\n",
       "0         118.488355     1.139348  483.430889            255.0   \n",
       "1          92.730107    -1.510110  397.175106            255.0   \n",
       "2          99.993859    -0.021373  573.868806            238.0   \n",
       "3         102.839337     0.292422  422.546630            255.0   \n",
       "4          78.752628    -1.112341  441.483269            255.0   \n",
       "\n",
       "   max_intensity-1  max_intensity-2  mean_intensity-0  mean_intensity-1  \\\n",
       "0            255.0            255.0        218.377232        212.426339   \n",
       "1            255.0            255.0        183.735178        177.980237   \n",
       "2            233.0            255.0        205.172844        203.001171   \n",
       "3            255.0            255.0        219.042565        214.907491   \n",
       "4            249.0            255.0        204.268461        198.521902   \n",
       "\n",
       "   mean_intensity-2  min_intensity-0  min_intensity-1  min_intensity-2  \n",
       "0        219.841071             60.0             43.0             13.0  \n",
       "1        181.127141             27.0             47.0             38.0  \n",
       "2        209.460008             62.0             64.0             54.0  \n",
       "3        220.919410             40.0             77.0             66.0  \n",
       "4        202.667710             53.0             68.0             58.0  "
      ]
     },
     "execution_count": 59,
     "metadata": {},
     "output_type": "execute_result"
    }
   ],
   "source": [
    "grain_data.head()"
   ]
  },
  {
   "cell_type": "code",
   "execution_count": 60,
   "id": "a8663eef",
   "metadata": {},
   "outputs": [],
   "source": [
    "# plot histogram of grain axis lengths\n",
    "# note that input data needs to be in milimeters\n",
    "fig, ax = seg.plot_histogram_of_axis_lengths(grain_data['major_axis_length'], grain_data['minor_axis_length'], binsize=0.2, xlimits=[0.25, 4])"
   ]
  },
  {
   "cell_type": "markdown",
   "id": "039415c6",
   "metadata": {
    "tags": []
   },
   "source": [
    "## Save mask and image to PNG files"
   ]
  },
  {
   "cell_type": "code",
   "execution_count": 486,
   "id": "c4962ba6",
   "metadata": {},
   "outputs": [
    {
     "data": {
      "text/plain": [
       "True"
      ]
     },
     "execution_count": 486,
     "metadata": {},
     "output_type": "execute_result"
    }
   ],
   "source": [
    "dirname = '/Users/zoltan/Dropbox/Segmentation/images/'\n",
    "# write grayscale mask to PNG file\n",
    "cv2.imwrite(dirname + fname.split('/')[-1][:-4] + '_mask.png', mask_all)\n",
    "# Save the image as a PNG file\n",
    "cv2.imwrite(dirname + fname.split('/')[-1][:-4] + '_image.png', cv2.cvtColor(big_im, cv2.COLOR_BGR2RGB))"
   ]
  },
  {
   "cell_type": "markdown",
   "id": "24f154fb",
   "metadata": {
    "tags": []
   },
   "source": [
    "## Convert polygon row, col coordinates to projected coordinates and save them to shapefile"
   ]
  },
  {
   "cell_type": "code",
   "execution_count": 24,
   "id": "16c934cc",
   "metadata": {
    "execution": {
     "iopub.execute_input": "2024-12-18T18:12:01.069850Z",
     "iopub.status.busy": "2024-12-18T18:12:01.069331Z",
     "iopub.status.idle": "2024-12-18T18:12:01.120071Z",
     "shell.execute_reply": "2024-12-18T18:12:01.119391Z",
     "shell.execute_reply.started": "2024-12-18T18:12:01.069807Z"
    }
   },
   "outputs": [],
   "source": [
    "import rasterio\n",
    "dataset = rasterio.open(fname)"
   ]
  },
  {
   "cell_type": "code",
   "execution_count": 25,
   "id": "d0577a80",
   "metadata": {
    "execution": {
     "iopub.execute_input": "2024-12-18T18:12:02.984118Z",
     "iopub.status.busy": "2024-12-18T18:12:02.983605Z",
     "iopub.status.idle": "2024-12-18T18:12:02.991710Z",
     "shell.execute_reply": "2024-12-18T18:12:02.990284Z",
     "shell.execute_reply.started": "2024-12-18T18:12:02.984084Z"
    }
   },
   "outputs": [
    {
     "data": {
      "text/plain": [
       "{'driver': 'GTiff',\n",
       " 'dtype': 'uint8',\n",
       " 'nodata': None,\n",
       " 'width': 1113,\n",
       " 'height': 1112,\n",
       " 'count': 4,\n",
       " 'crs': CRS.from_wkt('PROJCS[\"WGS 84 / UTM zone 19N\",GEOGCS[\"WGS 84\",DATUM[\"WGS_1984\",SPHEROID[\"WGS 84\",6378137,298.257223563,AUTHORITY[\"EPSG\",\"7030\"]],AUTHORITY[\"EPSG\",\"6326\"]],PRIMEM[\"Greenwich\",0],UNIT[\"degree\",0.0174532925199433,AUTHORITY[\"EPSG\",\"9122\"]],AUTHORITY[\"EPSG\",\"4326\"]],PROJECTION[\"Transverse_Mercator\"],PARAMETER[\"latitude_of_origin\",0],PARAMETER[\"central_meridian\",-69],PARAMETER[\"scale_factor\",0.9996],PARAMETER[\"false_easting\",500000],PARAMETER[\"false_northing\",0],UNIT[\"metre\",1,AUTHORITY[\"EPSG\",\"9001\"]],AXIS[\"Easting\",EAST],AXIS[\"Northing\",NORTH],AUTHORITY[\"EPSG\",\"32619\"]]'),\n",
       " 'transform': Affine(0.0017999999999882017, 0.0, 339041.9403932594,\n",
       "        0.0, -0.0018000000000683416, 4686358.8424565075)}"
      ]
     },
     "execution_count": 25,
     "metadata": {},
     "output_type": "execute_result"
    }
   ],
   "source": [
    "dataset.meta"
   ]
  },
  {
   "cell_type": "code",
   "execution_count": 26,
   "id": "26b2fc5b",
   "metadata": {
    "execution": {
     "iopub.execute_input": "2024-12-18T18:12:07.123107Z",
     "iopub.status.busy": "2024-12-18T18:12:07.121901Z",
     "iopub.status.idle": "2024-12-18T18:12:07.231305Z",
     "shell.execute_reply": "2024-12-18T18:12:07.230847Z",
     "shell.execute_reply.started": "2024-12-18T18:12:07.123033Z"
    }
   },
   "outputs": [],
   "source": [
    "# convert polygon coordinates from row, col to UTM\n",
    "from shapely.geometry import Polygon\n",
    "projected_polys = []\n",
    "for grain in all_grains:\n",
    "    x, y = rasterio.transform.xy(dataset.transform, grain.exterior.xy[1], grain.exterior.xy[0])\n",
    "    poly = Polygon(np.vstack((x, y)).T)\n",
    "    projected_polys.append(poly)"
   ]
  },
  {
   "cell_type": "code",
   "execution_count": 28,
   "id": "13746f7b",
   "metadata": {
    "execution": {
     "iopub.execute_input": "2024-12-18T18:14:46.865250Z",
     "iopub.status.busy": "2024-12-18T18:14:46.864247Z",
     "iopub.status.idle": "2024-12-18T18:14:48.882761Z",
     "shell.execute_reply": "2024-12-18T18:14:48.882448Z",
     "shell.execute_reply.started": "2024-12-18T18:14:46.865169Z"
    }
   },
   "outputs": [
    {
     "data": {
      "text/html": [
       "<div>\n",
       "<style scoped>\n",
       "    .dataframe tbody tr th:only-of-type {\n",
       "        vertical-align: middle;\n",
       "    }\n",
       "\n",
       "    .dataframe tbody tr th {\n",
       "        vertical-align: top;\n",
       "    }\n",
       "\n",
       "    .dataframe thead th {\n",
       "        text-align: right;\n",
       "    }\n",
       "</style>\n",
       "<table border=\"1\" class=\"dataframe\">\n",
       "  <thead>\n",
       "    <tr style=\"text-align: right;\">\n",
       "      <th></th>\n",
       "      <th>geometry</th>\n",
       "    </tr>\n",
       "  </thead>\n",
       "  <tbody>\n",
       "    <tr>\n",
       "      <th>0</th>\n",
       "      <td>POLYGON ((339043.943 4686358.495, 339043.941 4...</td>\n",
       "    </tr>\n",
       "    <tr>\n",
       "      <th>1</th>\n",
       "      <td>POLYGON ((339043.824 4686358.479, 339043.822 4...</td>\n",
       "    </tr>\n",
       "    <tr>\n",
       "      <th>2</th>\n",
       "      <td>POLYGON ((339043.228 4686358.364, 339043.226 4...</td>\n",
       "    </tr>\n",
       "    <tr>\n",
       "      <th>3</th>\n",
       "      <td>POLYGON ((339043.768 4686358.191, 339043.767 4...</td>\n",
       "    </tr>\n",
       "    <tr>\n",
       "      <th>4</th>\n",
       "      <td>POLYGON ((339043.036 4686357.764, 339043.034 4...</td>\n",
       "    </tr>\n",
       "  </tbody>\n",
       "</table>\n",
       "</div>"
      ],
      "text/plain": [
       "                                            geometry\n",
       "0  POLYGON ((339043.943 4686358.495, 339043.941 4...\n",
       "1  POLYGON ((339043.824 4686358.479, 339043.822 4...\n",
       "2  POLYGON ((339043.228 4686358.364, 339043.226 4...\n",
       "3  POLYGON ((339043.768 4686358.191, 339043.767 4...\n",
       "4  POLYGON ((339043.036 4686357.764, 339043.034 4..."
      ]
     },
     "execution_count": 28,
     "metadata": {},
     "output_type": "execute_result"
    }
   ],
   "source": [
    "# create geopandas dataframe\n",
    "import geopandas\n",
    "gdf = geopandas.GeoDataFrame(projected_polys, columns = ['geometry'])\n",
    "gdf.head()"
   ]
  },
  {
   "cell_type": "code",
   "execution_count": 30,
   "id": "548b71c0",
   "metadata": {
    "execution": {
     "iopub.execute_input": "2024-12-18T18:14:55.426162Z",
     "iopub.status.busy": "2024-12-18T18:14:55.425626Z",
     "iopub.status.idle": "2024-12-18T18:14:55.517355Z",
     "shell.execute_reply": "2024-12-18T18:14:55.516996Z",
     "shell.execute_reply.started": "2024-12-18T18:14:55.426128Z"
    }
   },
   "outputs": [
    {
     "data": {
      "text/html": [
       "<div>\n",
       "<style scoped>\n",
       "    .dataframe tbody tr th:only-of-type {\n",
       "        vertical-align: middle;\n",
       "    }\n",
       "\n",
       "    .dataframe tbody tr th {\n",
       "        vertical-align: top;\n",
       "    }\n",
       "\n",
       "    .dataframe thead th {\n",
       "        text-align: right;\n",
       "    }\n",
       "</style>\n",
       "<table border=\"1\" class=\"dataframe\">\n",
       "  <thead>\n",
       "    <tr style=\"text-align: right;\">\n",
       "      <th></th>\n",
       "      <th>label</th>\n",
       "      <th>area</th>\n",
       "      <th>centroid-0</th>\n",
       "      <th>centroid-1</th>\n",
       "      <th>major_axis_length</th>\n",
       "      <th>minor_axis_length</th>\n",
       "    </tr>\n",
       "  </thead>\n",
       "  <tbody>\n",
       "    <tr>\n",
       "      <th>0</th>\n",
       "      <td>1</td>\n",
       "      <td>683.0</td>\n",
       "      <td>182.021962</td>\n",
       "      <td>1097.698389</td>\n",
       "      <td>37.846881</td>\n",
       "      <td>24.424525</td>\n",
       "    </tr>\n",
       "    <tr>\n",
       "      <th>1</th>\n",
       "      <td>2</td>\n",
       "      <td>676.0</td>\n",
       "      <td>189.627219</td>\n",
       "      <td>1041.396450</td>\n",
       "      <td>37.309940</td>\n",
       "      <td>23.467704</td>\n",
       "    </tr>\n",
       "    <tr>\n",
       "      <th>2</th>\n",
       "      <td>3</td>\n",
       "      <td>410.0</td>\n",
       "      <td>255.880488</td>\n",
       "      <td>719.348780</td>\n",
       "      <td>30.057850</td>\n",
       "      <td>17.937276</td>\n",
       "    </tr>\n",
       "    <tr>\n",
       "      <th>3</th>\n",
       "      <td>4</td>\n",
       "      <td>393.0</td>\n",
       "      <td>348.519084</td>\n",
       "      <td>1015.414758</td>\n",
       "      <td>29.249796</td>\n",
       "      <td>19.877529</td>\n",
       "    </tr>\n",
       "    <tr>\n",
       "      <th>4</th>\n",
       "      <td>5</td>\n",
       "      <td>354.0</td>\n",
       "      <td>587.093220</td>\n",
       "      <td>607.022599</td>\n",
       "      <td>25.084603</td>\n",
       "      <td>18.253541</td>\n",
       "    </tr>\n",
       "  </tbody>\n",
       "</table>\n",
       "</div>"
      ],
      "text/plain": [
       "   label   area  centroid-0   centroid-1  major_axis_length  minor_axis_length\n",
       "0      1  683.0  182.021962  1097.698389          37.846881          24.424525\n",
       "1      2  676.0  189.627219  1041.396450          37.309940          23.467704\n",
       "2      3  410.0  255.880488   719.348780          30.057850          17.937276\n",
       "3      4  393.0  348.519084  1015.414758          29.249796          19.877529\n",
       "4      5  354.0  587.093220   607.022599          25.084603          18.253541"
      ]
     },
     "execution_count": 30,
     "metadata": {},
     "output_type": "execute_result"
    }
   ],
   "source": [
    "# create property dataframe from labeled image\n",
    "props = regionprops_table(labels.astype('int'), intensity_image = image, properties =\\\n",
    "        ('label', 'area', 'centroid', 'major_axis_length', 'minor_axis_length'))\n",
    "grain_data = pd.DataFrame(props)\n",
    "grain_data['major_axis_length'] = grain_data['major_axis_length'].values\n",
    "grain_data['minor_axis_length'] = grain_data['minor_axis_length'].values\n",
    "grain_data['area'] = grain_data['area'].values\n",
    "grain_data.head()"
   ]
  },
  {
   "cell_type": "code",
   "execution_count": 31,
   "id": "552ca32c",
   "metadata": {
    "execution": {
     "iopub.execute_input": "2024-12-18T18:14:58.866604Z",
     "iopub.status.busy": "2024-12-18T18:14:58.865784Z",
     "iopub.status.idle": "2024-12-18T18:14:58.875996Z",
     "shell.execute_reply": "2024-12-18T18:14:58.875069Z",
     "shell.execute_reply.started": "2024-12-18T18:14:58.866550Z"
    }
   },
   "outputs": [],
   "source": [
    "# convert centroids from row, col to UTM and add them to geodataframe\n",
    "centroid_x, centroid_y = rasterio.transform.xy(dataset.transform, grain_data['centroid-0'], \n",
    "                                               grain_data['centroid-1'])\n",
    "gdf['centroid_x'] = centroid_x\n",
    "gdf['centroid_y'] = centroid_y"
   ]
  },
  {
   "cell_type": "code",
   "execution_count": 32,
   "id": "f1b8a302",
   "metadata": {
    "execution": {
     "iopub.execute_input": "2024-12-18T18:15:00.711660Z",
     "iopub.status.busy": "2024-12-18T18:15:00.711027Z",
     "iopub.status.idle": "2024-12-18T18:15:00.729830Z",
     "shell.execute_reply": "2024-12-18T18:15:00.729175Z",
     "shell.execute_reply.started": "2024-12-18T18:15:00.711621Z"
    }
   },
   "outputs": [
    {
     "data": {
      "text/html": [
       "<div>\n",
       "<style scoped>\n",
       "    .dataframe tbody tr th:only-of-type {\n",
       "        vertical-align: middle;\n",
       "    }\n",
       "\n",
       "    .dataframe tbody tr th {\n",
       "        vertical-align: top;\n",
       "    }\n",
       "\n",
       "    .dataframe thead th {\n",
       "        text-align: right;\n",
       "    }\n",
       "</style>\n",
       "<table border=\"1\" class=\"dataframe\">\n",
       "  <thead>\n",
       "    <tr style=\"text-align: right;\">\n",
       "      <th></th>\n",
       "      <th>geometry</th>\n",
       "      <th>centroid_x</th>\n",
       "      <th>centroid_y</th>\n",
       "      <th>major_axis_length</th>\n",
       "      <th>minor_axis_length</th>\n",
       "    </tr>\n",
       "  </thead>\n",
       "  <tbody>\n",
       "    <tr>\n",
       "      <th>0</th>\n",
       "      <td>POLYGON ((339043.943 4686358.495, 339043.941 4...</td>\n",
       "      <td>339043.917150</td>\n",
       "      <td>4.686359e+06</td>\n",
       "      <td>0.068124</td>\n",
       "      <td>0.043964</td>\n",
       "    </tr>\n",
       "    <tr>\n",
       "      <th>1</th>\n",
       "      <td>POLYGON ((339043.824 4686358.479, 339043.822 4...</td>\n",
       "      <td>339043.815807</td>\n",
       "      <td>4.686359e+06</td>\n",
       "      <td>0.067158</td>\n",
       "      <td>0.042242</td>\n",
       "    </tr>\n",
       "    <tr>\n",
       "      <th>2</th>\n",
       "      <td>POLYGON ((339043.228 4686358.364, 339043.226 4...</td>\n",
       "      <td>339043.236121</td>\n",
       "      <td>4.686358e+06</td>\n",
       "      <td>0.054104</td>\n",
       "      <td>0.032287</td>\n",
       "    </tr>\n",
       "    <tr>\n",
       "      <th>3</th>\n",
       "      <td>POLYGON ((339043.768 4686358.191, 339043.767 4...</td>\n",
       "      <td>339043.769040</td>\n",
       "      <td>4.686358e+06</td>\n",
       "      <td>0.052650</td>\n",
       "      <td>0.035780</td>\n",
       "    </tr>\n",
       "    <tr>\n",
       "      <th>4</th>\n",
       "      <td>POLYGON ((339043.036 4686357.764, 339043.034 4...</td>\n",
       "      <td>339043.033934</td>\n",
       "      <td>4.686358e+06</td>\n",
       "      <td>0.045152</td>\n",
       "      <td>0.032856</td>\n",
       "    </tr>\n",
       "  </tbody>\n",
       "</table>\n",
       "</div>"
      ],
      "text/plain": [
       "                                            geometry     centroid_x  \\\n",
       "0  POLYGON ((339043.943 4686358.495, 339043.941 4...  339043.917150   \n",
       "1  POLYGON ((339043.824 4686358.479, 339043.822 4...  339043.815807   \n",
       "2  POLYGON ((339043.228 4686358.364, 339043.226 4...  339043.236121   \n",
       "3  POLYGON ((339043.768 4686358.191, 339043.767 4...  339043.769040   \n",
       "4  POLYGON ((339043.036 4686357.764, 339043.034 4...  339043.033934   \n",
       "\n",
       "     centroid_y  major_axis_length  minor_axis_length  \n",
       "0  4.686359e+06           0.068124           0.043964  \n",
       "1  4.686359e+06           0.067158           0.042242  \n",
       "2  4.686358e+06           0.054104           0.032287  \n",
       "3  4.686358e+06           0.052650           0.035780  \n",
       "4  4.686358e+06           0.045152           0.032856  "
      ]
     },
     "execution_count": 32,
     "metadata": {},
     "output_type": "execute_result"
    }
   ],
   "source": [
    "# convert grain axis lengths to UTM units\n",
    "gdf['major_axis_length'] = grain_data['major_axis_length'] * dataset.transform[0]\n",
    "gdf['minor_axis_length'] = grain_data['minor_axis_length'] * dataset.transform[0]\n",
    "gdf.head()"
   ]
  },
  {
   "cell_type": "code",
   "execution_count": 33,
   "id": "1a7a7dd3",
   "metadata": {
    "execution": {
     "iopub.execute_input": "2024-12-18T18:15:04.468046Z",
     "iopub.status.busy": "2024-12-18T18:15:04.467527Z",
     "iopub.status.idle": "2024-12-18T18:15:04.550758Z",
     "shell.execute_reply": "2024-12-18T18:15:04.549913Z",
     "shell.execute_reply.started": "2024-12-18T18:15:04.468010Z"
    }
   },
   "outputs": [],
   "source": [
    "# check if everything looks good\n",
    "band1 = dataset.read(1)\n",
    "band2 = dataset.read(2)\n",
    "band3 = dataset.read(3)\n",
    "plt.figure()\n",
    "plt.imshow(np.stack((band1, band2, band3), axis=2), extent = [dataset.bounds[0], dataset.bounds[2], \n",
    "                                         dataset.bounds[1], dataset.bounds[3]])\n",
    "plt.scatter(gdf['centroid_x'], gdf['centroid_y']);"
   ]
  },
  {
   "cell_type": "code",
   "execution_count": 34,
   "id": "2e284de5",
   "metadata": {
    "execution": {
     "iopub.execute_input": "2024-12-18T18:15:20.286032Z",
     "iopub.status.busy": "2024-12-18T18:15:20.285490Z",
     "iopub.status.idle": "2024-12-18T18:15:20.295342Z",
     "shell.execute_reply": "2024-12-18T18:15:20.293643Z",
     "shell.execute_reply.started": "2024-12-18T18:15:20.285995Z"
    }
   },
   "outputs": [],
   "source": [
    "gdf.crs = dataset.crs # set geodataframe CRS"
   ]
  },
  {
   "cell_type": "code",
   "execution_count": 35,
   "id": "27f9b8b3",
   "metadata": {
    "execution": {
     "iopub.execute_input": "2024-12-18T18:15:23.807901Z",
     "iopub.status.busy": "2024-12-18T18:15:23.807396Z",
     "iopub.status.idle": "2024-12-18T18:15:27.257072Z",
     "shell.execute_reply": "2024-12-18T18:15:27.256662Z",
     "shell.execute_reply.started": "2024-12-18T18:15:23.807866Z"
    }
   },
   "outputs": [
    {
     "name": "stderr",
     "output_type": "stream",
     "text": [
      "/var/folders/wn/31h1q45j6y321jzk91br_d3m0000gn/T/ipykernel_7410/571464815.py:1: UserWarning: Column names longer than 10 characters will be truncated when saved to ESRI Shapefile.\n",
      "  gdf.to_file(\"/Users/zoltan/Dropbox/Segmentation/Kalinda_Roberts_project/projected_grains.shp\") # write shapefile\n",
      "/Users/zoltan/miniforge3/envs/segmenteverygrain/lib/python3.9/site-packages/pyogrio/raw.py:723: RuntimeWarning: Normalized/laundered field name: 'major_axis_length' to 'major_axis'\n",
      "  ogr_write(\n",
      "/Users/zoltan/miniforge3/envs/segmenteverygrain/lib/python3.9/site-packages/pyogrio/raw.py:723: RuntimeWarning: Normalized/laundered field name: 'minor_axis_length' to 'minor_axis'\n",
      "  ogr_write(\n"
     ]
    }
   ],
   "source": [
    "gdf.to_file(\"/Users/zoltan/Dropbox/Segmentation/Kalinda_Roberts_project/projected_grains.shp\") # write shapefile"
   ]
  },
  {
   "cell_type": "code",
   "execution_count": 36,
   "id": "361ceb2d",
   "metadata": {
    "execution": {
     "iopub.execute_input": "2024-12-18T18:15:34.148648Z",
     "iopub.status.busy": "2024-12-18T18:15:34.147740Z",
     "iopub.status.idle": "2024-12-18T18:15:34.153332Z",
     "shell.execute_reply": "2024-12-18T18:15:34.152650Z",
     "shell.execute_reply.started": "2024-12-18T18:15:34.148611Z"
    }
   },
   "outputs": [],
   "source": [
    "dataset.close()"
   ]
  }
 ],
 "metadata": {
  "kernelspec": {
   "display_name": "Python 3 (ipykernel)",
   "language": "python",
   "name": "python3"
  },
  "language_info": {
   "codemirror_mode": {
    "name": "ipython",
    "version": 3
   },
   "file_extension": ".py",
   "mimetype": "text/x-python",
   "name": "python",
   "nbconvert_exporter": "python",
   "pygments_lexer": "ipython3",
   "version": "3.9.20"
  }
 },
 "nbformat": 4,
 "nbformat_minor": 5
}
