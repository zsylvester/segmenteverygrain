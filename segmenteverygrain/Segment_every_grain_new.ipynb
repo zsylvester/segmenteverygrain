{
 "cells": [
  {
   "cell_type": "markdown",
   "id": "95a8f02b",
   "metadata": {},
   "source": [
    "## Import packages"
   ]
  },
  {
   "cell_type": "code",
   "execution_count": null,
   "id": "f2ebc518",
   "metadata": {
    "execution": {
     "iopub.execute_input": "2025-01-24T02:02:13.455303Z",
     "iopub.status.busy": "2025-01-24T02:02:13.454797Z",
     "iopub.status.idle": "2025-01-24T02:02:13.467341Z",
     "shell.execute_reply": "2025-01-24T02:02:13.466505Z",
     "shell.execute_reply.started": "2025-01-24T02:02:13.455259Z"
    }
   },
   "outputs": [],
   "source": [
    "import pandas as pd\n",
    "import numpy as np\n",
    "import matplotlib.pyplot as plt\n",
    "import cv2\n",
    "from skimage.measure import regionprops, regionprops_table\n",
    "from keras.utils import load_img\n",
    "from keras.saving import load_model\n",
    "from importlib import reload\n",
    "import segmenteverygrain as seg\n",
    "import interactions as segi\n",
    "from segment_anything import sam_model_registry, SamPredictor\n",
    "from tqdm import trange, tqdm\n",
    "%matplotlib qt"
   ]
  },
  {
   "cell_type": "markdown",
   "id": "f474ac20",
   "metadata": {},
   "source": [
    "## Load models"
   ]
  },
  {
   "cell_type": "code",
   "execution_count": null,
   "id": "fe1bd2bc",
   "metadata": {
    "execution": {
     "iopub.execute_input": "2025-01-24T02:02:15.162313Z",
     "iopub.status.busy": "2025-01-24T02:02:15.162156Z",
     "iopub.status.idle": "2025-01-24T02:02:17.772801Z",
     "shell.execute_reply": "2025-01-24T02:02:17.772432Z",
     "shell.execute_reply.started": "2025-01-24T02:02:15.162300Z"
    }
   },
   "outputs": [
    {
     "name": "stderr",
     "output_type": "stream",
     "text": [
      "2025-03-21 13:42:01.239706: E external/local_xla/xla/stream_executor/cuda/cuda_driver.cc:152] failed call to cuInit: INTERNAL: CUDA error: Failed call to cuInit: UNKNOWN ERROR (303)\n"
     ]
    }
   ],
   "source": [
    "model = load_model(\"seg_model.keras\", custom_objects={'weighted_crossentropy': seg.weighted_crossentropy})\n",
    "\n",
    "# the SAM model checkpoints can be downloaded from: https://dl.fbaipublicfiles.com/segment_anything/sam_vit_h_4b8939.pth\n",
    "sam = sam_model_registry[\"default\"](checkpoint=\"sam_vit_h_4b8939.pth\")"
   ]
  },
  {
   "cell_type": "markdown",
   "id": "a3c1dfc6",
   "metadata": {},
   "source": [
    "## Run segmentation\n",
    "\n",
    "Grains are supposed to be well defined in the image; e.g., if a grain consists of only a few pixels, it is unlikely to be detected.\n",
    "\n",
    "The segmentation can take a few minutes even for medium-sized images. Images with ~2000 pixels along their largest dimension are a good start and allow the user to get an idea about how well the segmentation works.\n",
    "\n",
    "If you have a much larger image, see the section **\"Run segmentation on large image\"** at the end of the notebook. Running the `predict_large_image` function takes a lot longer (e.g., several hours), but it is possible to analyze very large images with tens of thousands of grains.\n",
    "\n",
    "Image used below is available from [here](https://github.com/zsylvester/segmenteverygrain/blob/main/torrey_pines_beach_image.jpeg)."
   ]
  },
  {
   "cell_type": "code",
   "execution_count": null,
   "id": "94bf3f94",
   "metadata": {
    "execution": {
     "iopub.execute_input": "2025-01-24T02:03:31.981893Z",
     "iopub.status.busy": "2025-01-24T02:03:31.981476Z",
     "iopub.status.idle": "2025-01-24T02:03:35.515711Z",
     "shell.execute_reply": "2025-01-24T02:03:35.515383Z",
     "shell.execute_reply.started": "2025-01-24T02:03:31.981864Z"
    }
   },
   "outputs": [
    {
     "name": "stdout",
     "output_type": "stream",
     "text": [
      "segmenting image tiles...\n"
     ]
    },
    {
     "name": "stderr",
     "output_type": "stream",
     "text": [
      "100%|██████████| 7/7 [00:02<00:00,  2.56it/s]\n",
      "100%|██████████| 6/6 [00:02<00:00,  2.91it/s]\n"
     ]
    }
   ],
   "source": [
    "reload(seg)\n",
    "# replace this with the path to your image:\n",
    "fname = 'torrey_pines_beach_image.jpeg'\n",
    "\n",
    "image = np.array(load_img(fname))\n",
    "image_pred = seg.predict_image(image, model, I=256)\n",
    "\n",
    "# decreasing the 'dbs_max_dist' parameter results in more SAM prompts (and longer processing times):\n",
    "labels, coords = seg.label_grains(image, image_pred, dbs_max_dist=20.0) # Unet prediction"
   ]
  },
  {
   "cell_type": "markdown",
   "id": "7c091d4c",
   "metadata": {},
   "source": [
    "Use the figure created in the next cell to check the quality of the Unet labeling (sometimes it doesn't work at all) and the distribution of SAM prompts (= black dots). If the Unet prediction is of poor quality, it is a good idea to create some training data and fine tune the base model so that it works better with the images of interest."
   ]
  },
  {
   "cell_type": "code",
   "execution_count": 4,
   "id": "e031a13f",
   "metadata": {
    "execution": {
     "iopub.execute_input": "2025-01-24T02:03:45.748777Z",
     "iopub.status.busy": "2025-01-24T02:03:45.748389Z",
     "iopub.status.idle": "2025-01-24T02:03:45.798745Z",
     "shell.execute_reply": "2025-01-24T02:03:45.798264Z",
     "shell.execute_reply.started": "2025-01-24T02:03:45.748746Z"
    }
   },
   "outputs": [],
   "source": [
    "fig, ax = plt.subplots(figsize=(15,10))\n",
    "ax.imshow(image_pred)\n",
    "plt.scatter(np.array(coords)[:,0], np.array(coords)[:,1], c='k')\n",
    "plt.xticks([])\n",
    "plt.yticks([]);"
   ]
  },
  {
   "cell_type": "code",
   "execution_count": 5,
   "id": "99bcedac-6a3f-4f1d-97a9-b167fa14994c",
   "metadata": {
    "execution": {
     "iopub.execute_input": "2025-01-24T02:03:49.103280Z",
     "iopub.status.busy": "2025-01-24T02:03:49.102880Z",
     "iopub.status.idle": "2025-01-24T02:04:48.394323Z",
     "shell.execute_reply": "2025-01-24T02:04:48.393986Z",
     "shell.execute_reply.started": "2025-01-24T02:03:49.103248Z"
    }
   },
   "outputs": [
    {
     "name": "stdout",
     "output_type": "stream",
     "text": [
      "creating masks using SAM...\n"
     ]
    },
    {
     "name": "stderr",
     "output_type": "stream",
     "text": [
      "100%|██████████| 1041/1041 [01:09<00:00, 15.04it/s]\n"
     ]
    },
    {
     "name": "stdout",
     "output_type": "stream",
     "text": [
      "finding overlapping polygons...\n"
     ]
    },
    {
     "name": "stderr",
     "output_type": "stream",
     "text": [
      "1041it [00:06, 160.51it/s]\n"
     ]
    },
    {
     "name": "stdout",
     "output_type": "stream",
     "text": [
      "finding best polygons...\n"
     ]
    },
    {
     "name": "stderr",
     "output_type": "stream",
     "text": [
      "100%|██████████| 394/394 [00:12<00:00, 31.77it/s]\n"
     ]
    },
    {
     "name": "stdout",
     "output_type": "stream",
     "text": [
      "creating labeled image...\n"
     ]
    },
    {
     "name": "stderr",
     "output_type": "stream",
     "text": [
      "100%|██████████| 467/467 [00:02<00:00, 162.70it/s]\n"
     ]
    }
   ],
   "source": [
    "# SAM segmentation, using the point prompts from the Unet:\n",
    "all_grains, labels, mask_all, grain_data, fig, ax = seg.sam_segmentation(sam, image, image_pred, \n",
    "            coords, labels, min_area=400.0, plot_image=True, remove_edge_grains=False, remove_large_objects=False)"
   ]
  },
  {
   "cell_type": "markdown",
   "id": "968737c4",
   "metadata": {},
   "source": [
    "## Edit grains in segmentation result\n",
    "\n",
    "The editing interface will open in a separate window to allow fullscreen and other functionality. Navigation within the interface is described in the [matplotlib documentation](https://matplotlib.org/stable/users/explain/figure/interactive.html#interactive-navigation).\n",
    "\n",
    "Additional controls:\n",
    "- `Left click`: Select/unselect existing grain or place foreground prompt for grain detection\n",
    "- `Shift + left click/drag`: Create or adjust box prompt for grain detection\n",
    "- `Right click`: Place background prompt for grain detection\n",
    "- `Middle click`: Display measurement information about the indicated grain\n",
    "- `Middle click + drag`: Measure scale bar to calibrate pixels per meter\n",
    "- `Control`: Hold to temporarily hide selected grains\n",
    "- `Escape`: Remove all prompts and unselect all grains\n",
    "- `c`: Use selection box and/or foreground/background prompts to detect a grain\n",
    "- `d`: Delete selected (highlighted) grains\n",
    "- `m`: Merge selected grains (must be touching)\n",
    "- `z`: Delete the most recently-created grain\n",
    "\n",
    "Plot creation parameters:\n",
    "- `px_per_m`: The ratio of pixels to meters, if known. This will be overwritten if a scale bar is measured in the interface using middle click & drag.\n",
    "- `scale_m`: The length in meters of a scale bar in the image. Measure it with middle click & drag to calibrate size/area measurements."
   ]
  },
  {
   "cell_type": "code",
   "execution_count": 13,
   "id": "e1761761",
   "metadata": {
    "execution": {
     "iopub.execute_input": "2024-12-18T18:02:27.598014Z",
     "iopub.status.busy": "2024-12-18T18:02:27.597195Z",
     "iopub.status.idle": "2024-12-18T18:02:27.605451Z",
     "shell.execute_reply": "2024-12-18T18:02:27.604241Z",
     "shell.execute_reply.started": "2024-12-18T18:02:27.597958Z"
    }
   },
   "outputs": [
    {
     "name": "stderr",
     "output_type": "stream",
     "text": [
      "100%|██████████| 467/467 [00:06<00:00, 76.69it/s]\n"
     ]
    }
   ],
   "source": [
    "# Get image predictor\n",
    "predictor = SamPredictor(sam)\n",
    "predictor.set_image(image)\n",
    "\n",
    "# Create Grain objects from detected polygons\n",
    "grains = segi.polygons_to_grains(all_grains)\n",
    "\n",
    "# Display interactive interface\n",
    "plot = segi.GrainPlot(\n",
    "    grains, \n",
    "    image = image, \n",
    "    predictor = predictor,\n",
    "    blit = True,\n",
    "    figsize = (12, 8),              # in\n",
    "    px_per_m = 1.0,                 # px/m\n",
    "    scale_m = 1.0                   # m\n",
    ")\n",
    "plot.activate()"
   ]
  },
  {
   "cell_type": "code",
   "execution_count": 28,
   "id": "202f5650",
   "metadata": {
    "execution": {
     "iopub.execute_input": "2024-12-15T21:27:05.113040Z",
     "iopub.status.busy": "2024-12-15T21:27:05.112674Z",
     "iopub.status.idle": "2024-12-15T21:27:05.134670Z",
     "shell.execute_reply": "2024-12-15T21:27:05.134248Z",
     "shell.execute_reply.started": "2024-12-15T21:27:05.113013Z"
    }
   },
   "outputs": [
    {
     "data": {
      "application/vnd.microsoft.datawrangler.viewer.v0+json": {
       "columns": [
        {
         "name": "index",
         "rawType": "int64",
         "type": "integer"
        },
        {
         "name": "area",
         "rawType": "float64",
         "type": "float"
        },
        {
         "name": "centroid-0",
         "rawType": "float64",
         "type": "float"
        },
        {
         "name": "centroid-1",
         "rawType": "float64",
         "type": "float"
        },
        {
         "name": "major_axis_length",
         "rawType": "float64",
         "type": "float"
        },
        {
         "name": "minor_axis_length",
         "rawType": "float64",
         "type": "float"
        },
        {
         "name": "orientation",
         "rawType": "float64",
         "type": "float"
        },
        {
         "name": "perimeter",
         "rawType": "float64",
         "type": "float"
        },
        {
         "name": "max_intensity-0",
         "rawType": "float64",
         "type": "float"
        },
        {
         "name": "max_intensity-1",
         "rawType": "float64",
         "type": "float"
        },
        {
         "name": "max_intensity-2",
         "rawType": "float64",
         "type": "float"
        },
        {
         "name": "mean_intensity-0",
         "rawType": "float64",
         "type": "float"
        },
        {
         "name": "mean_intensity-1",
         "rawType": "float64",
         "type": "float"
        },
        {
         "name": "mean_intensity-2",
         "rawType": "float64",
         "type": "float"
        },
        {
         "name": "min_intensity-0",
         "rawType": "float64",
         "type": "float"
        },
        {
         "name": "min_intensity-1",
         "rawType": "float64",
         "type": "float"
        },
        {
         "name": "min_intensity-2",
         "rawType": "float64",
         "type": "float"
        }
       ],
       "conversionMethod": "pd.DataFrame",
       "ref": "13801d4a-17d9-4ecc-957a-1ec9854161d2",
       "rows": [
        [
         "0",
         "0.06986348449763091",
         "863.4042338709677",
         "25.73891129032258",
         "0.4872852990676623",
         "0.23927450014050866",
         "1.0875169078997036",
         "1.2943732111731634",
         "253.0",
         "255.0",
         "255.0",
         "170.15524193548387",
         "175.7384072580645",
         "171.78477822580646",
         "0.0",
         "0.0",
         "0.0"
        ],
        [
         "0",
         "0.016162973480046666",
         "151.17211328976035",
         "916.4640522875817",
         "0.2178067492164709",
         "0.1118590977360779",
         "0.7970451103013434",
         "0.5834749637403939",
         "116.0",
         "130.0",
         "141.0",
         "30.25925925925926",
         "34.21568627450981",
         "36.21132897603486",
         "0.0",
         "0.0",
         "0.0"
        ],
        [
         "0",
         "0.051904625075356835",
         "552.6533242876526",
         "1255.1377204884668",
         "0.2795422749238979",
         "0.2517294218157143",
         "0.009141744492507313",
         "0.9395204937661846",
         "235.0",
         "233.0",
         "210.0",
         "141.4762550881954",
         "137.12550881953868",
         "122.67299864314789",
         "4.0",
         "4.0",
         "4.0"
        ],
        [
         "0",
         "0.0326076545588741",
         "589.158747300216",
         "901.5928725701943",
         "0.31556846444177633",
         "0.14267212551258165",
         "1.395407217523815",
         "0.7971022817558685",
         "234.0",
         "218.0",
         "195.0",
         "76.35637149028078",
         "63.087473002159825",
         "51.423326133909285",
         "3.0",
         "0.0",
         "0.0"
        ],
        [
         "0",
         "0.025388897340116876",
         "690.3994452149792",
         "1242.5658807212205",
         "0.447397105584628",
         "0.11025026083286502",
         "1.1364506636038798",
         "0.9956323443080778",
         "167.0",
         "166.0",
         "138.0",
         "25.79750346740638",
         "33.57281553398058",
         "37.94174757281554",
         "0.0",
         "0.0",
         "0.0"
        ]
       ],
       "shape": {
        "columns": 16,
        "rows": 5
       }
      },
      "text/html": [
       "<div>\n",
       "<style scoped>\n",
       "    .dataframe tbody tr th:only-of-type {\n",
       "        vertical-align: middle;\n",
       "    }\n",
       "\n",
       "    .dataframe tbody tr th {\n",
       "        vertical-align: top;\n",
       "    }\n",
       "\n",
       "    .dataframe thead th {\n",
       "        text-align: right;\n",
       "    }\n",
       "</style>\n",
       "<table border=\"1\" class=\"dataframe\">\n",
       "  <thead>\n",
       "    <tr style=\"text-align: right;\">\n",
       "      <th></th>\n",
       "      <th>area</th>\n",
       "      <th>centroid-0</th>\n",
       "      <th>centroid-1</th>\n",
       "      <th>major_axis_length</th>\n",
       "      <th>minor_axis_length</th>\n",
       "      <th>orientation</th>\n",
       "      <th>perimeter</th>\n",
       "      <th>max_intensity-0</th>\n",
       "      <th>max_intensity-1</th>\n",
       "      <th>max_intensity-2</th>\n",
       "      <th>mean_intensity-0</th>\n",
       "      <th>mean_intensity-1</th>\n",
       "      <th>mean_intensity-2</th>\n",
       "      <th>min_intensity-0</th>\n",
       "      <th>min_intensity-1</th>\n",
       "      <th>min_intensity-2</th>\n",
       "    </tr>\n",
       "  </thead>\n",
       "  <tbody>\n",
       "    <tr>\n",
       "      <th>0</th>\n",
       "      <td>0.069863</td>\n",
       "      <td>863.404234</td>\n",
       "      <td>25.738911</td>\n",
       "      <td>0.487285</td>\n",
       "      <td>0.239275</td>\n",
       "      <td>1.087517</td>\n",
       "      <td>1.294373</td>\n",
       "      <td>253.0</td>\n",
       "      <td>255.0</td>\n",
       "      <td>255.0</td>\n",
       "      <td>170.155242</td>\n",
       "      <td>175.738407</td>\n",
       "      <td>171.784778</td>\n",
       "      <td>0.0</td>\n",
       "      <td>0.0</td>\n",
       "      <td>0.0</td>\n",
       "    </tr>\n",
       "    <tr>\n",
       "      <th>0</th>\n",
       "      <td>0.016163</td>\n",
       "      <td>151.172113</td>\n",
       "      <td>916.464052</td>\n",
       "      <td>0.217807</td>\n",
       "      <td>0.111859</td>\n",
       "      <td>0.797045</td>\n",
       "      <td>0.583475</td>\n",
       "      <td>116.0</td>\n",
       "      <td>130.0</td>\n",
       "      <td>141.0</td>\n",
       "      <td>30.259259</td>\n",
       "      <td>34.215686</td>\n",
       "      <td>36.211329</td>\n",
       "      <td>0.0</td>\n",
       "      <td>0.0</td>\n",
       "      <td>0.0</td>\n",
       "    </tr>\n",
       "    <tr>\n",
       "      <th>0</th>\n",
       "      <td>0.051905</td>\n",
       "      <td>552.653324</td>\n",
       "      <td>1255.137720</td>\n",
       "      <td>0.279542</td>\n",
       "      <td>0.251729</td>\n",
       "      <td>0.009142</td>\n",
       "      <td>0.939520</td>\n",
       "      <td>235.0</td>\n",
       "      <td>233.0</td>\n",
       "      <td>210.0</td>\n",
       "      <td>141.476255</td>\n",
       "      <td>137.125509</td>\n",
       "      <td>122.672999</td>\n",
       "      <td>4.0</td>\n",
       "      <td>4.0</td>\n",
       "      <td>4.0</td>\n",
       "    </tr>\n",
       "    <tr>\n",
       "      <th>0</th>\n",
       "      <td>0.032608</td>\n",
       "      <td>589.158747</td>\n",
       "      <td>901.592873</td>\n",
       "      <td>0.315568</td>\n",
       "      <td>0.142672</td>\n",
       "      <td>1.395407</td>\n",
       "      <td>0.797102</td>\n",
       "      <td>234.0</td>\n",
       "      <td>218.0</td>\n",
       "      <td>195.0</td>\n",
       "      <td>76.356371</td>\n",
       "      <td>63.087473</td>\n",
       "      <td>51.423326</td>\n",
       "      <td>3.0</td>\n",
       "      <td>0.0</td>\n",
       "      <td>0.0</td>\n",
       "    </tr>\n",
       "    <tr>\n",
       "      <th>0</th>\n",
       "      <td>0.025389</td>\n",
       "      <td>690.399445</td>\n",
       "      <td>1242.565881</td>\n",
       "      <td>0.447397</td>\n",
       "      <td>0.110250</td>\n",
       "      <td>1.136451</td>\n",
       "      <td>0.995632</td>\n",
       "      <td>167.0</td>\n",
       "      <td>166.0</td>\n",
       "      <td>138.0</td>\n",
       "      <td>25.797503</td>\n",
       "      <td>33.572816</td>\n",
       "      <td>37.941748</td>\n",
       "      <td>0.0</td>\n",
       "      <td>0.0</td>\n",
       "      <td>0.0</td>\n",
       "    </tr>\n",
       "  </tbody>\n",
       "</table>\n",
       "</div>"
      ],
      "text/plain": [
       "       area  centroid-0   centroid-1  major_axis_length  minor_axis_length  \\\n",
       "0  0.069863  863.404234    25.738911           0.487285           0.239275   \n",
       "0  0.016163  151.172113   916.464052           0.217807           0.111859   \n",
       "0  0.051905  552.653324  1255.137720           0.279542           0.251729   \n",
       "0  0.032608  589.158747   901.592873           0.315568           0.142672   \n",
       "0  0.025389  690.399445  1242.565881           0.447397           0.110250   \n",
       "\n",
       "   orientation  perimeter  max_intensity-0  max_intensity-1  max_intensity-2  \\\n",
       "0     1.087517   1.294373            253.0            255.0            255.0   \n",
       "0     0.797045   0.583475            116.0            130.0            141.0   \n",
       "0     0.009142   0.939520            235.0            233.0            210.0   \n",
       "0     1.395407   0.797102            234.0            218.0            195.0   \n",
       "0     1.136451   0.995632            167.0            166.0            138.0   \n",
       "\n",
       "   mean_intensity-0  mean_intensity-1  mean_intensity-2  min_intensity-0  \\\n",
       "0        170.155242        175.738407        171.784778              0.0   \n",
       "0         30.259259         34.215686         36.211329              0.0   \n",
       "0        141.476255        137.125509        122.672999              4.0   \n",
       "0         76.356371         63.087473         51.423326              3.0   \n",
       "0         25.797503         33.572816         37.941748              0.0   \n",
       "\n",
       "   min_intensity-1  min_intensity-2  \n",
       "0              0.0              0.0  \n",
       "0              0.0              0.0  \n",
       "0              4.0              4.0  \n",
       "0              0.0              0.0  \n",
       "0              0.0              0.0  "
      ]
     },
     "execution_count": 28,
     "metadata": {},
     "output_type": "execute_result"
    }
   ],
   "source": [
    "plot.deactivate()\n",
    "\n",
    "grain_data = segi.get_summary(plot.grains, plot.px_per_m)\n",
    "grain_data.head()"
   ]
  },
  {
   "cell_type": "code",
   "execution_count": 29,
   "id": "5a701881-07fa-4662-aafa-d432661fafff",
   "metadata": {},
   "outputs": [],
   "source": [
    "grain_data.to_csv(fname[:-4]+'.csv') # save grain data to CSV file"
   ]
  },
  {
   "cell_type": "code",
   "execution_count": 30,
   "id": "a8663eef",
   "metadata": {
    "execution": {
     "iopub.execute_input": "2024-12-15T21:30:19.433084Z",
     "iopub.status.busy": "2024-12-15T21:30:19.432525Z",
     "iopub.status.idle": "2024-12-15T21:30:19.519229Z",
     "shell.execute_reply": "2024-12-15T21:30:19.518066Z",
     "shell.execute_reply.started": "2024-12-15T21:30:19.433047Z"
    }
   },
   "outputs": [],
   "source": [
    "# plot histogram of grain axis lengths\n",
    "# note that input data needs to be in milimeters\n",
    "fig, ax = seg.plot_histogram_of_axis_lengths(grain_data['major_axis_length'], grain_data['minor_axis_length'], binsize=0.2, xlimits=[0.25, 4])"
   ]
  },
  {
   "cell_type": "markdown",
   "id": "039415c6",
   "metadata": {},
   "source": [
    "## Save mask and grain labels to PNG files"
   ]
  },
  {
   "cell_type": "code",
   "execution_count": 29,
   "id": "c4962ba6",
   "metadata": {
    "execution": {
     "iopub.execute_input": "2025-01-24T02:05:34.692332Z",
     "iopub.status.busy": "2025-01-24T02:05:34.691926Z",
     "iopub.status.idle": "2025-01-24T02:05:34.756696Z",
     "shell.execute_reply": "2025-01-24T02:05:34.756394Z",
     "shell.execute_reply.started": "2025-01-24T02:05:34.692302Z"
    }
   },
   "outputs": [
    {
     "data": {
      "text/plain": [
       "True"
      ]
     },
     "execution_count": 29,
     "metadata": {},
     "output_type": "execute_result"
    }
   ],
   "source": [
    "dirname = '/Users/zoltan/Dropbox/Segmentation/images/'\n",
    "# write grayscale mask to PNG file\n",
    "cv2.imwrite(dirname + fname.split('/')[-1][:-4] + '_mask.png', mask_all)\n",
    "# Save the image as a PNG file\n",
    "cv2.imwrite(dirname + fname.split('/')[-1][:-4] + '_image.png', cv2.cvtColor(image, cv2.COLOR_BGR2RGB))"
   ]
  },
  {
   "cell_type": "markdown",
   "id": "77db7f2b-7718-4466-a1d8-41aa3d3d0803",
   "metadata": {},
   "source": [
    "## Run segmentation on large image (new!)\n",
    "In this case 'fname' points to an image that is larger than a few megapixels and has thousands of grains.\n",
    "The 'predict_large_image' function breaks the input image into smaller patches and it runs the segmentation process on each patch.\n",
    "\n",
    "The image used below (from [Mair et al., 2022, Earth Surface Dynamics](https://esurf.copernicus.org/articles/10/953/2022/)) is available [here](https://github.com/zsylvester/segmenteverygrain/blob/main/mair_et_al_L2_DJI_0382_image.jpg)."
   ]
  },
  {
   "cell_type": "code",
   "execution_count": 9,
   "id": "90eed72b-4cad-409a-b7bf-bbad0e5dfa74",
   "metadata": {},
   "outputs": [
    {
     "name": "stdout",
     "output_type": "stream",
     "text": [
      "segmenting image tiles...\n"
     ]
    },
    {
     "name": "stderr",
     "output_type": "stream",
     "text": [
      "100%|█████████████████████████████████████████████████████████████████████████████████████████████████████| 9/9 [00:07<00:00,  1.24it/s]\n",
      "100%|█████████████████████████████████████████████████████████████████████████████████████████████████████| 8/8 [00:06<00:00,  1.25it/s]\n"
     ]
    },
    {
     "name": "stdout",
     "output_type": "stream",
     "text": [
      "creating masks using SAM...\n"
     ]
    },
    {
     "name": "stderr",
     "output_type": "stream",
     "text": [
      "100%|███████████████████████████████████████████████████████████████████████████████████████████████| 3197/3197 [03:56<00:00, 13.51it/s]\n"
     ]
    },
    {
     "name": "stdout",
     "output_type": "stream",
     "text": [
      "finding overlapping polygons...\n"
     ]
    },
    {
     "name": "stderr",
     "output_type": "stream",
     "text": [
      "2887it [00:06, 463.54it/s]\n"
     ]
    },
    {
     "name": "stdout",
     "output_type": "stream",
     "text": [
      "finding best polygons...\n"
     ]
    },
    {
     "name": "stderr",
     "output_type": "stream",
     "text": [
      "100%|████████████████████████████████████████████████████████████████████████████████████████████████| 969/969 [00:09<00:00, 106.43it/s]\n"
     ]
    },
    {
     "name": "stdout",
     "output_type": "stream",
     "text": [
      "creating labeled image...\n",
      "processed patch #1 out of 6 patches\n",
      "segmenting image tiles...\n"
     ]
    },
    {
     "name": "stderr",
     "output_type": "stream",
     "text": [
      "100%|█████████████████████████████████████████████████████████████████████████████████████████████████████| 9/9 [00:07<00:00,  1.21it/s]\n",
      "100%|█████████████████████████████████████████████████████████████████████████████████████████████████████| 8/8 [00:06<00:00,  1.19it/s]\n"
     ]
    },
    {
     "name": "stdout",
     "output_type": "stream",
     "text": [
      "creating masks using SAM...\n"
     ]
    },
    {
     "name": "stderr",
     "output_type": "stream",
     "text": [
      "100%|███████████████████████████████████████████████████████████████████████████████████████████████| 2575/2575 [03:08<00:00, 13.66it/s]\n"
     ]
    },
    {
     "name": "stdout",
     "output_type": "stream",
     "text": [
      "finding overlapping polygons...\n"
     ]
    },
    {
     "name": "stderr",
     "output_type": "stream",
     "text": [
      "2282it [00:08, 278.10it/s]\n"
     ]
    },
    {
     "name": "stdout",
     "output_type": "stream",
     "text": [
      "finding best polygons...\n"
     ]
    },
    {
     "name": "stderr",
     "output_type": "stream",
     "text": [
      "100%|█████████████████████████████████████████████████████████████████████████████████████████████████| 681/681 [00:12<00:00, 53.85it/s]\n"
     ]
    },
    {
     "name": "stdout",
     "output_type": "stream",
     "text": [
      "creating labeled image...\n",
      "processed patch #2 out of 6 patches\n",
      "segmenting image tiles...\n"
     ]
    },
    {
     "name": "stderr",
     "output_type": "stream",
     "text": [
      "100%|█████████████████████████████████████████████████████████████████████████████████████████████████████| 9/9 [00:07<00:00,  1.20it/s]\n",
      "100%|█████████████████████████████████████████████████████████████████████████████████████████████████████| 8/8 [00:06<00:00,  1.17it/s]\n"
     ]
    },
    {
     "name": "stdout",
     "output_type": "stream",
     "text": [
      "creating masks using SAM...\n"
     ]
    },
    {
     "name": "stderr",
     "output_type": "stream",
     "text": [
      "100%|███████████████████████████████████████████████████████████████████████████████████████████████| 2140/2140 [02:24<00:00, 14.78it/s]\n"
     ]
    },
    {
     "name": "stdout",
     "output_type": "stream",
     "text": [
      "finding overlapping polygons...\n"
     ]
    },
    {
     "name": "stderr",
     "output_type": "stream",
     "text": [
      "1894it [00:05, 332.08it/s]\n"
     ]
    },
    {
     "name": "stdout",
     "output_type": "stream",
     "text": [
      "finding best polygons...\n"
     ]
    },
    {
     "name": "stderr",
     "output_type": "stream",
     "text": [
      "100%|█████████████████████████████████████████████████████████████████████████████████████████████████| 595/595 [00:07<00:00, 80.87it/s]\n"
     ]
    },
    {
     "name": "stdout",
     "output_type": "stream",
     "text": [
      "creating labeled image...\n",
      "processed patch #3 out of 6 patches\n",
      "segmenting image tiles...\n"
     ]
    },
    {
     "name": "stderr",
     "output_type": "stream",
     "text": [
      "100%|█████████████████████████████████████████████████████████████████████████████████████████████████████| 9/9 [00:07<00:00,  1.25it/s]\n",
      "100%|█████████████████████████████████████████████████████████████████████████████████████████████████████| 8/8 [00:06<00:00,  1.26it/s]\n"
     ]
    },
    {
     "name": "stdout",
     "output_type": "stream",
     "text": [
      "creating masks using SAM...\n"
     ]
    },
    {
     "name": "stderr",
     "output_type": "stream",
     "text": [
      "100%|███████████████████████████████████████████████████████████████████████████████████████████████| 3564/3564 [03:59<00:00, 14.87it/s]\n"
     ]
    },
    {
     "name": "stdout",
     "output_type": "stream",
     "text": [
      "finding overlapping polygons...\n"
     ]
    },
    {
     "name": "stderr",
     "output_type": "stream",
     "text": [
      "3312it [00:04, 729.47it/s]\n"
     ]
    },
    {
     "name": "stdout",
     "output_type": "stream",
     "text": [
      "finding best polygons...\n"
     ]
    },
    {
     "name": "stderr",
     "output_type": "stream",
     "text": [
      "100%|██████████████████████████████████████████████████████████████████████████████████████████████| 1157/1157 [00:06<00:00, 190.14it/s]\n"
     ]
    },
    {
     "name": "stdout",
     "output_type": "stream",
     "text": [
      "creating labeled image...\n",
      "processed patch #4 out of 6 patches\n",
      "segmenting image tiles...\n"
     ]
    },
    {
     "name": "stderr",
     "output_type": "stream",
     "text": [
      "100%|█████████████████████████████████████████████████████████████████████████████████████████████████████| 9/9 [00:07<00:00,  1.21it/s]\n",
      "100%|█████████████████████████████████████████████████████████████████████████████████████████████████████| 8/8 [00:06<00:00,  1.24it/s]\n"
     ]
    },
    {
     "name": "stdout",
     "output_type": "stream",
     "text": [
      "creating masks using SAM...\n"
     ]
    },
    {
     "name": "stderr",
     "output_type": "stream",
     "text": [
      "100%|███████████████████████████████████████████████████████████████████████████████████████████████| 2484/2484 [02:48<00:00, 14.74it/s]\n"
     ]
    },
    {
     "name": "stdout",
     "output_type": "stream",
     "text": [
      "finding overlapping polygons...\n"
     ]
    },
    {
     "name": "stderr",
     "output_type": "stream",
     "text": [
      "2242it [00:05, 390.88it/s]\n"
     ]
    },
    {
     "name": "stdout",
     "output_type": "stream",
     "text": [
      "finding best polygons...\n"
     ]
    },
    {
     "name": "stderr",
     "output_type": "stream",
     "text": [
      "100%|█████████████████████████████████████████████████████████████████████████████████████████████████| 709/709 [00:07<00:00, 98.42it/s]\n"
     ]
    },
    {
     "name": "stdout",
     "output_type": "stream",
     "text": [
      "creating labeled image...\n",
      "processed patch #5 out of 6 patches\n",
      "segmenting image tiles...\n"
     ]
    },
    {
     "name": "stderr",
     "output_type": "stream",
     "text": [
      "100%|█████████████████████████████████████████████████████████████████████████████████████████████████████| 9/9 [00:07<00:00,  1.19it/s]\n",
      "100%|█████████████████████████████████████████████████████████████████████████████████████████████████████| 8/8 [00:06<00:00,  1.23it/s]\n"
     ]
    },
    {
     "name": "stdout",
     "output_type": "stream",
     "text": [
      "creating masks using SAM...\n"
     ]
    },
    {
     "name": "stderr",
     "output_type": "stream",
     "text": [
      "100%|███████████████████████████████████████████████████████████████████████████████████████████████| 1978/1978 [02:06<00:00, 15.58it/s]\n"
     ]
    },
    {
     "name": "stdout",
     "output_type": "stream",
     "text": [
      "finding overlapping polygons...\n"
     ]
    },
    {
     "name": "stderr",
     "output_type": "stream",
     "text": [
      "1707it [00:06, 259.20it/s]\n"
     ]
    },
    {
     "name": "stdout",
     "output_type": "stream",
     "text": [
      "finding best polygons...\n"
     ]
    },
    {
     "name": "stderr",
     "output_type": "stream",
     "text": [
      "100%|█████████████████████████████████████████████████████████████████████████████████████████████████| 509/509 [00:12<00:00, 41.57it/s]\n"
     ]
    },
    {
     "name": "stdout",
     "output_type": "stream",
     "text": [
      "creating labeled image...\n",
      "processed patch #6 out of 6 patches\n"
     ]
    },
    {
     "name": "stderr",
     "output_type": "stream",
     "text": [
      "4946it [00:02, 2167.19it/s]\n",
      "100%|████████████████████████████████████████████████████████████████████████████████████████████████| 336/336 [00:00<00:00, 610.84it/s]\n"
     ]
    }
   ],
   "source": [
    "from PIL import Image\n",
    "Image.MAX_IMAGE_PIXELS = None # needed if working with very large images\n",
    "fname = \"mair_et_al_L2_DJI_0382_image.jpg\"\n",
    "all_grains, image_pred, all_coords = seg.predict_large_image(fname, model, sam, min_area=400.0, patch_size=2000, overlap=200)"
   ]
  },
  {
   "cell_type": "code",
   "execution_count": 13,
   "id": "d1e52b04-e54e-44e6-8061-b8d0c0c76970",
   "metadata": {},
   "outputs": [
    {
     "name": "stderr",
     "output_type": "stream",
     "text": [
      "100%|██████████████████████████████████████████████████████████████████████████████████████████████| 4567/4567 [00:14<00:00, 322.67it/s]\n"
     ]
    }
   ],
   "source": [
    "# plot results\n",
    "image = np.array(load_img(fname))\n",
    "fig, ax = plt.subplots(figsize=(15,10))\n",
    "plt.xticks([])\n",
    "plt.yticks([])\n",
    "seg.plot_image_w_colorful_grains(image, all_grains, ax, cmap='Paired')\n",
    "plt.axis('equal')\n",
    "plt.xlim([0, np.shape(image)[1]])\n",
    "plt.ylim([np.shape(image)[0], 0]);"
   ]
  },
  {
   "cell_type": "code",
   "execution_count": 11,
   "id": "4dae73a8-f9ce-4fb9-8661-19d4c03340f3",
   "metadata": {},
   "outputs": [],
   "source": [
    "# this is a faster way of deleting false positives (because it avoids highlighting and deleting the 'bad' grains)\n",
    "grain_inds = []\n",
    "cid1 = fig.canvas.mpl_connect('button_press_event', lambda event: seg.onclick2(event, all_grains, grain_inds, ax=ax, select_only=True))"
   ]
  },
  {
   "cell_type": "code",
   "execution_count": 12,
   "id": "98b9650b-c6d9-4c23-85cc-b0234f3d2b2b",
   "metadata": {},
   "outputs": [
    {
     "name": "stderr",
     "output_type": "stream",
     "text": [
      "100%|███████████████████████████████████████████████████████████████████████████████████████████████████| 14/14 [00:01<00:00, 13.45it/s]\n"
     ]
    }
   ],
   "source": [
    "# delete polygons from 'all_grains'\n",
    "grain_inds = np.unique(grain_inds)\n",
    "grain_inds = sorted(grain_inds, reverse=True)\n",
    "for ind in tqdm(grain_inds):\n",
    "    all_grains.remove(all_grains[ind])"
   ]
  },
  {
   "cell_type": "markdown",
   "id": "74b9e579-8c81-4baf-9262-eb4b1584c646",
   "metadata": {},
   "source": [
    "After plotting the results, you will want to use the functions for deleting, merging, and adding grains (see above), before saving the results (same workflow as for a small image)."
   ]
  },
  {
   "cell_type": "markdown",
   "id": "d25703e4-2a4e-4e98-aa49-ff9b816b2ec0",
   "metadata": {},
   "source": [
    "### Finetuning the base model"
   ]
  },
  {
   "cell_type": "code",
   "execution_count": null,
   "id": "396f62c8-be0f-47fe-b660-2c55e2d51d42",
   "metadata": {},
   "outputs": [],
   "source": [
    "# patchify images and masks\n",
    "input_dir = \"./Masks_and_images/\" # the input directory should contain files with 'image' and 'mask' in their filenames\n",
    "patch_dir = \"./New_project/\" # a directory called \"Patches\" will be created here\n",
    "image_dir, mask_dir = seg.patchify_training_data(input_dir, patch_dir)"
   ]
  },
  {
   "cell_type": "code",
   "execution_count": null,
   "id": "05f98137-2dfd-4b88-8dc5-e4e79fa343ad",
   "metadata": {},
   "outputs": [],
   "source": [
    "# create training, validation, and test datasets\n",
    "train_dataset, val_dataset, test_dataset = seg.create_train_val_test_data(image_dir, mask_dir, augmentation=True)"
   ]
  },
  {
   "cell_type": "code",
   "execution_count": null,
   "id": "43650ad9-c2e5-4fc2-856f-4f39b8f1d9e3",
   "metadata": {},
   "outputs": [],
   "source": [
    "# load base model weights and train the model with the new data\n",
    "model = seg.create_and_train_model(train_dataset, val_dataset, test_dataset, model_file='seg_model.keras', epochs=100)"
   ]
  },
  {
   "cell_type": "code",
   "execution_count": null,
   "id": "41375c1f-5f16-496f-b5e8-497626eb89dc",
   "metadata": {},
   "outputs": [],
   "source": [
    "# save finetuned model as new model (this then can be loaded using \"model = load_model(\"new_model.keras\", custom_objects={'weighted_crossentropy': seg.weighted_crossentropy})\"\n",
    "model.save('new_model.keras')"
   ]
  }
 ],
 "metadata": {
  "kernelspec": {
   "display_name": "segmenteverygrain",
   "language": "python",
   "name": "python3"
  },
  "language_info": {
   "codemirror_mode": {
    "name": "ipython",
    "version": 3
   },
   "file_extension": ".py",
   "mimetype": "text/x-python",
   "name": "python",
   "nbconvert_exporter": "python",
   "pygments_lexer": "ipython3",
   "version": "3.9.20"
  }
 },
 "nbformat": 4,
 "nbformat_minor": 5
}
