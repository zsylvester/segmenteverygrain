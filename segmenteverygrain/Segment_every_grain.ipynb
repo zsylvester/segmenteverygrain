{
 "cells": [
  {
   "cell_type": "markdown",
   "id": "95a8f02b",
   "metadata": {},
   "source": [
    "## Import packages"
   ]
  },
  {
   "cell_type": "code",
   "execution_count": 1,
   "id": "f2ebc518",
   "metadata": {},
   "outputs": [],
   "source": [
    "import pandas as pd\n",
    "import numpy as np\n",
    "import matplotlib.pyplot as plt\n",
    "import cv2\n",
    "from skimage import measure\n",
    "from skimage.measure import regionprops, regionprops_table\n",
    "from tensorflow.keras.optimizers.legacy import Adam\n",
    "from tensorflow.keras.preprocessing.image import load_img\n",
    "from importlib import reload\n",
    "import segmenteverygrain as seg\n",
    "from segment_anything import sam_model_registry, SamAutomaticMaskGenerator, SamPredictor\n",
    "from tqdm import trange\n",
    "%matplotlib qt"
   ]
  },
  {
   "cell_type": "markdown",
   "id": "f474ac20",
   "metadata": {},
   "source": [
    "## Load models"
   ]
  },
  {
   "cell_type": "code",
   "execution_count": 2,
   "id": "fe1bd2bc",
   "metadata": {},
   "outputs": [],
   "source": [
    "model = seg.Unet()\n",
    "model.compile(optimizer=Adam(), loss=seg.weighted_crossentropy, metrics=[\"accuracy\"])\n",
    "model.load_weights('./checkpoints/seg_model') # replace this if you have a finetuned Unet model and want to use it\n",
    "\n",
    "# the SAM model checkpoints can be downloaded from: https://dl.fbaipublicfiles.com/segment_anything/sam_vit_h_4b8939.pth\n",
    "sam = sam_model_registry[\"default\"](checkpoint=\"/Users/zoltan/Dropbox/Segmentation/sam_vit_h_4b8939.pth\")"
   ]
  },
  {
   "cell_type": "markdown",
   "id": "a3c1dfc6",
   "metadata": {},
   "source": [
    "## Run segmentation\n",
    "\n",
    "Grains are supposed to be well defined in the image; e.g., if a grain consists of only a few pixels, it is unlikely to be detected.\n",
    "\n",
    "The segmentation can take a few minutes even for medium-sized images, so do not start with large images (downsample them if necessary). Images with ~2000 pixels along their largest dimension are a good start."
   ]
  },
  {
   "cell_type": "code",
   "execution_count": 45,
   "id": "e9fb9235-2988-43ef-beaa-8815c720817d",
   "metadata": {},
   "outputs": [
    {
     "data": {
      "text/plain": [
       "<module 'segmenteverygrain' from '/Users/zoltan/Dropbox/Segmentation/segmenteverygrain/segmenteverygrain/segmenteverygrain.py'>"
      ]
     },
     "execution_count": 45,
     "metadata": {},
     "output_type": "execute_result"
    }
   ],
   "source": [
    "reload(seg)"
   ]
  },
  {
   "cell_type": "code",
   "execution_count": 46,
   "id": "94bf3f94",
   "metadata": {},
   "outputs": [
    {
     "name": "stdout",
     "output_type": "stream",
     "text": [
      "segmenting image tiles...\n"
     ]
    },
    {
     "name": "stderr",
     "output_type": "stream",
     "text": [
      "100%|██████████████████████████████████████████████████████████████████████████████████| 7/7 [00:02<00:00,  3.15it/s]\n",
      "100%|██████████████████████████████████████████████████████████████████████████████████| 6/6 [00:01<00:00,  3.13it/s]\n"
     ]
    },
    {
     "name": "stdout",
     "output_type": "stream",
     "text": [
      "creating masks using SAM...\n"
     ]
    },
    {
     "name": "stderr",
     "output_type": "stream",
     "text": [
      "100%|██████████████████████████████████████████████████████████████████████████████| 995/995 [00:40<00:00, 24.83it/s]\n"
     ]
    },
    {
     "name": "stdout",
     "output_type": "stream",
     "text": [
      "finding overlapping polygons...\n"
     ]
    },
    {
     "name": "stderr",
     "output_type": "stream",
     "text": [
      "992it [00:02, 459.31it/s]\n"
     ]
    },
    {
     "name": "stdout",
     "output_type": "stream",
     "text": [
      "finding best polygons...\n"
     ]
    },
    {
     "name": "stderr",
     "output_type": "stream",
     "text": [
      "100%|█████████████████████████████████████████████████████████████████████████████| 380/380 [00:01<00:00, 271.73it/s]\n"
     ]
    },
    {
     "name": "stdout",
     "output_type": "stream",
     "text": [
      "creating labeled image...\n"
     ]
    }
   ],
   "source": [
    "# replace this with the path to your image:\n",
    "fname = '/Users/zoltan/Dropbox/Segmentation/torrey_pines_beach.jpeg'\n",
    "big_im = np.array(load_img(fname))\n",
    "big_im_pred = seg.predict_big_image(big_im, model, I=256)\n",
    "\n",
    "# decreasing the 'dbs_max_dist' parameter results in more SAM prompts (and longer processing times):\n",
    "labels, coords = seg.label_grains(big_im, big_im_pred, dbs_max_dist=20.0) # Unet prediction\n",
    "\n",
    "# SAM segmentation, using the point prompts from the Unet:\n",
    "all_grains, labels, mask_all, grain_data, fig, ax = seg.sam_segmentation(sam, big_im, big_im_pred, \n",
    "                                                coords, labels, min_area=400.0, plot_image=True, remove_edge_grains=False, remove_large_objects=False)"
   ]
  },
  {
   "cell_type": "markdown",
   "id": "7c091d4c",
   "metadata": {},
   "source": [
    "Use this figure to check the distribution of SAM prompts (= black dots):"
   ]
  },
  {
   "cell_type": "code",
   "execution_count": 13,
   "id": "e031a13f",
   "metadata": {},
   "outputs": [],
   "source": [
    "plt.figure(figsize=(15,10))\n",
    "plt.imshow(big_im_pred)\n",
    "plt.scatter(np.array(coords)[:,0], np.array(coords)[:,1], c='k')\n",
    "plt.xticks([])\n",
    "plt.yticks([]);"
   ]
  },
  {
   "cell_type": "markdown",
   "id": "968737c4",
   "metadata": {},
   "source": [
    "## Delete or merge grains in segmentation result\n",
    "* click on the grain that you want to remove and press the 'x' key\n",
    "* click on two grains that you want to merge and press the 'm' key (they have to be the last two grains you clicked on)\n",
    "* press the 'g' key to hide the grain masks (so that you can see the original image better); press the 'g' key again to show the grain masks"
   ]
  },
  {
   "cell_type": "code",
   "execution_count": 64,
   "id": "e1761761",
   "metadata": {},
   "outputs": [],
   "source": [
    "grain_inds = []\n",
    "cid1 = fig.canvas.mpl_connect('button_press_event', \n",
    "                              lambda event: seg.onclick2(event, all_grains, grain_inds, ax=ax))\n",
    "cid2 = fig.canvas.mpl_connect('key_press_event', \n",
    "                              lambda event: seg.onpress2(event, all_grains, grain_inds, fig=fig, ax=ax))"
   ]
  },
  {
   "cell_type": "markdown",
   "id": "5d08448d",
   "metadata": {},
   "source": [
    "Run this cell if you do not want to delete / merge existing grains anymore; it is a good idea to do this before moving on to the next step."
   ]
  },
  {
   "cell_type": "code",
   "execution_count": 37,
   "id": "8b6987ae",
   "metadata": {},
   "outputs": [],
   "source": [
    "fig.canvas.mpl_disconnect(cid1)\n",
    "fig.canvas.mpl_disconnect(cid2)"
   ]
  },
  {
   "cell_type": "markdown",
   "id": "b1ef7d75",
   "metadata": {},
   "source": [
    "Use this function to update the 'all_grains' list after deleting and merging grains:"
   ]
  },
  {
   "cell_type": "code",
   "execution_count": 44,
   "id": "9f7b8082",
   "metadata": {},
   "outputs": [],
   "source": [
    "all_grains, labels, mask_all, fig, ax = seg.get_grains_from_patches(ax, big_im)"
   ]
  },
  {
   "cell_type": "markdown",
   "id": "36ca344c",
   "metadata": {},
   "source": [
    "Plot the updated set of grains:"
   ]
  },
  {
   "cell_type": "code",
   "execution_count": 43,
   "id": "7e0f7f02",
   "metadata": {},
   "outputs": [],
   "source": [
    "fig, ax = plt.subplots(figsize=(15,10))\n",
    "ax.imshow(big_im)\n",
    "plt.xticks([])\n",
    "plt.yticks([])\n",
    "seg.plot_image_w_colorful_grains(big_im, all_grains, ax, cmap='Paired')\n",
    "# seg.plot_grain_axes_and_centroids(all_grains, labels, ax, linewidth=1, markersize=10)\n",
    "plt.xlim([0, np.shape(big_im)[1]])\n",
    "plt.ylim([np.shape(big_im)[0], 0]);"
   ]
  },
  {
   "cell_type": "markdown",
   "id": "ab7201a5",
   "metadata": {},
   "source": [
    "## Add new grains using the Segment Anything Model\n",
    "\n",
    "* click on unsegmented grain that you want to add\n",
    "* press the 'x' key if you want to delete the last grain you added\n",
    "* press the 'm' key if you want to merge the last two grains that you added\n",
    "* right click outside the grain (but inside the most recent mask) if you want to restrict the grain to a smaller mask - this adds a background prompt"
   ]
  },
  {
   "cell_type": "code",
   "execution_count": 208,
   "id": "da1241ea-2e6b-4d6f-9c8d-7d9a55b42d81",
   "metadata": {},
   "outputs": [
    {
     "data": {
      "text/plain": [
       "([], [])"
      ]
     },
     "execution_count": 208,
     "metadata": {},
     "output_type": "execute_result"
    }
   ],
   "source": [
    "fname = \"/Users/zoltan/Dropbox/Permian_Basin/Thin_sections_2023/J4-7228.0_10x_upper_part_reduced_size.jpg\"\n",
    "big_im = np.array(load_img(fname))\n",
    "fig, ax = plt.subplots(figsize=(15,10))\n",
    "ax.imshow(big_im)\n",
    "plt.xticks([])\n",
    "plt.yticks([])"
   ]
  },
  {
   "cell_type": "code",
   "execution_count": 209,
   "id": "04b1a138",
   "metadata": {},
   "outputs": [],
   "source": [
    "predictor = SamPredictor(sam)\n",
    "predictor.set_image(big_im) # this can take a while\n",
    "coords = []\n",
    "cid3 = fig.canvas.mpl_connect('button_press_event', lambda event: seg.onclick(event, ax, coords, big_im, predictor))\n",
    "cid4 = fig.canvas.mpl_connect('key_press_event', lambda event: seg.onpress(event, ax, fig))"
   ]
  },
  {
   "cell_type": "code",
   "execution_count": 205,
   "id": "02386a92",
   "metadata": {},
   "outputs": [],
   "source": [
    "fig.canvas.mpl_disconnect(cid3)\n",
    "fig.canvas.mpl_disconnect(cid4)"
   ]
  },
  {
   "cell_type": "code",
   "execution_count": null,
   "id": "9479bc5e-ec2b-4c5a-b08c-8fc6a498401e",
   "metadata": {},
   "outputs": [],
   "source": [
    "reload(seg)"
   ]
  },
  {
   "cell_type": "markdown",
   "id": "6ae4b89a",
   "metadata": {},
   "source": [
    "After you are done with the deletion / addition of grain masks, run this cell to generate an updated set of grains:"
   ]
  },
  {
   "cell_type": "code",
   "execution_count": 57,
   "id": "4355b526",
   "metadata": {},
   "outputs": [
    {
     "name": "stderr",
     "output_type": "stream",
     "text": [
      "100%|█████████████████████████████████████| 10081/10081 [42:25<00:00,  3.96it/s]\n"
     ]
    }
   ],
   "source": [
    "all_grains, labels, mask_all, fig, ax = seg.get_grains_from_patches(ax, big_im)"
   ]
  },
  {
   "cell_type": "markdown",
   "id": "768a05d2",
   "metadata": {},
   "source": [
    "## Get grain size distribution"
   ]
  },
  {
   "cell_type": "markdown",
   "id": "96892a89",
   "metadata": {},
   "source": [
    "Run this cell and then click (left mouse button) on one end of the scale bar in the image and click (right mouse button) on the other end of the scale bar:"
   ]
  },
  {
   "cell_type": "code",
   "execution_count": 151,
   "id": "869c6cd4",
   "metadata": {},
   "outputs": [
    {
     "name": "stdout",
     "output_type": "stream",
     "text": [
      "number of pixels: 773.27\n"
     ]
    }
   ],
   "source": [
    "cid5 = fig.canvas.mpl_connect('button_press_event', lambda event: seg.click_for_scale(event, ax))"
   ]
  },
  {
   "cell_type": "markdown",
   "id": "658e2f0a",
   "metadata": {},
   "source": [
    "Use the length of the scale bar in pixels (it should be printed above) to get the scale of the image (in units / pixel):"
   ]
  },
  {
   "cell_type": "code",
   "execution_count": 152,
   "id": "7893cfb7",
   "metadata": {},
   "outputs": [],
   "source": [
    "n_of_units = 500\n",
    "units_per_pixel = n_of_units/773.27 # length of scale bar in pixels"
   ]
  },
  {
   "cell_type": "code",
   "execution_count": 156,
   "id": "b56c5732",
   "metadata": {},
   "outputs": [],
   "source": [
    "props = regionprops_table(rasterized.astype('int'), intensity_image = big_im, properties =\\\n",
    "        ('label', 'area', 'centroid', 'major_axis_length', 'minor_axis_length', \n",
    "         'orientation', 'perimeter', 'max_intensity', 'mean_intensity', 'min_intensity'))\n",
    "grain_data = pd.DataFrame(props)\n",
    "grain_data['major_axis_length'] = grain_data['major_axis_length'].values*units_per_pixel\n",
    "grain_data['minor_axis_length'] = grain_data['minor_axis_length'].values*units_per_pixel\n",
    "grain_data['perimeter'] = grain_data['perimeter'].values*units_per_pixel\n",
    "grain_data['area'] = grain_data['area'].values*units_per_pixel**2"
   ]
  },
  {
   "cell_type": "code",
   "execution_count": 697,
   "id": "202f5650",
   "metadata": {},
   "outputs": [
    {
     "data": {
      "text/html": [
       "<div>\n",
       "<style scoped>\n",
       "    .dataframe tbody tr th:only-of-type {\n",
       "        vertical-align: middle;\n",
       "    }\n",
       "\n",
       "    .dataframe tbody tr th {\n",
       "        vertical-align: top;\n",
       "    }\n",
       "\n",
       "    .dataframe thead th {\n",
       "        text-align: right;\n",
       "    }\n",
       "</style>\n",
       "<table border=\"1\" class=\"dataframe\">\n",
       "  <thead>\n",
       "    <tr style=\"text-align: right;\">\n",
       "      <th></th>\n",
       "      <th>label</th>\n",
       "      <th>area</th>\n",
       "      <th>centroid-0</th>\n",
       "      <th>centroid-1</th>\n",
       "      <th>major_axis_length</th>\n",
       "      <th>minor_axis_length</th>\n",
       "      <th>orientation</th>\n",
       "      <th>perimeter</th>\n",
       "      <th>max_intensity-0</th>\n",
       "      <th>max_intensity-1</th>\n",
       "      <th>max_intensity-2</th>\n",
       "      <th>mean_intensity-0</th>\n",
       "      <th>mean_intensity-1</th>\n",
       "      <th>mean_intensity-2</th>\n",
       "      <th>min_intensity-0</th>\n",
       "      <th>min_intensity-1</th>\n",
       "      <th>min_intensity-2</th>\n",
       "    </tr>\n",
       "  </thead>\n",
       "  <tbody>\n",
       "    <tr>\n",
       "      <th>0</th>\n",
       "      <td>1</td>\n",
       "      <td>210.659649</td>\n",
       "      <td>1106.354806</td>\n",
       "      <td>38.431493</td>\n",
       "      <td>20.201423</td>\n",
       "      <td>13.974698</td>\n",
       "      <td>1.184300</td>\n",
       "      <td>58.038774</td>\n",
       "      <td>221.0</td>\n",
       "      <td>223.0</td>\n",
       "      <td>224.0</td>\n",
       "      <td>158.148262</td>\n",
       "      <td>157.610429</td>\n",
       "      <td>150.855828</td>\n",
       "      <td>61.0</td>\n",
       "      <td>60.0</td>\n",
       "      <td>72.0</td>\n",
       "    </tr>\n",
       "    <tr>\n",
       "      <th>1</th>\n",
       "      <td>2</td>\n",
       "      <td>107.268410</td>\n",
       "      <td>554.865462</td>\n",
       "      <td>60.995984</td>\n",
       "      <td>18.078866</td>\n",
       "      <td>7.772253</td>\n",
       "      <td>-1.303846</td>\n",
       "      <td>43.055309</td>\n",
       "      <td>252.0</td>\n",
       "      <td>255.0</td>\n",
       "      <td>255.0</td>\n",
       "      <td>179.953815</td>\n",
       "      <td>190.333333</td>\n",
       "      <td>189.985944</td>\n",
       "      <td>59.0</td>\n",
       "      <td>52.0</td>\n",
       "      <td>72.0</td>\n",
       "    </tr>\n",
       "    <tr>\n",
       "      <th>2</th>\n",
       "      <td>3</td>\n",
       "      <td>31.878965</td>\n",
       "      <td>774.020270</td>\n",
       "      <td>43.189189</td>\n",
       "      <td>7.660721</td>\n",
       "      <td>5.315649</td>\n",
       "      <td>-1.363193</td>\n",
       "      <td>20.327564</td>\n",
       "      <td>243.0</td>\n",
       "      <td>255.0</td>\n",
       "      <td>239.0</td>\n",
       "      <td>183.344595</td>\n",
       "      <td>194.283784</td>\n",
       "      <td>186.655405</td>\n",
       "      <td>38.0</td>\n",
       "      <td>94.0</td>\n",
       "      <td>87.0</td>\n",
       "    </tr>\n",
       "    <tr>\n",
       "      <th>3</th>\n",
       "      <td>4</td>\n",
       "      <td>178.996082</td>\n",
       "      <td>128.078219</td>\n",
       "      <td>407.138387</td>\n",
       "      <td>24.902167</td>\n",
       "      <td>10.000839</td>\n",
       "      <td>1.187134</td>\n",
       "      <td>59.895215</td>\n",
       "      <td>235.0</td>\n",
       "      <td>242.0</td>\n",
       "      <td>231.0</td>\n",
       "      <td>178.498195</td>\n",
       "      <td>178.044525</td>\n",
       "      <td>168.651023</td>\n",
       "      <td>67.0</td>\n",
       "      <td>73.0</td>\n",
       "      <td>69.0</td>\n",
       "    </tr>\n",
       "    <tr>\n",
       "      <th>4</th>\n",
       "      <td>5</td>\n",
       "      <td>122.346299</td>\n",
       "      <td>141.345070</td>\n",
       "      <td>699.503521</td>\n",
       "      <td>15.353942</td>\n",
       "      <td>10.284223</td>\n",
       "      <td>-1.113555</td>\n",
       "      <td>42.511570</td>\n",
       "      <td>246.0</td>\n",
       "      <td>255.0</td>\n",
       "      <td>255.0</td>\n",
       "      <td>172.940141</td>\n",
       "      <td>177.843310</td>\n",
       "      <td>180.357394</td>\n",
       "      <td>64.0</td>\n",
       "      <td>62.0</td>\n",
       "      <td>93.0</td>\n",
       "    </tr>\n",
       "  </tbody>\n",
       "</table>\n",
       "</div>"
      ],
      "text/plain": [
       "   label        area   centroid-0  centroid-1  major_axis_length  \\\n",
       "0      1  210.659649  1106.354806   38.431493          20.201423   \n",
       "1      2  107.268410   554.865462   60.995984          18.078866   \n",
       "2      3   31.878965   774.020270   43.189189           7.660721   \n",
       "3      4  178.996082   128.078219  407.138387          24.902167   \n",
       "4      5  122.346299   141.345070  699.503521          15.353942   \n",
       "\n",
       "   minor_axis_length  orientation  perimeter  max_intensity-0  \\\n",
       "0          13.974698     1.184300  58.038774            221.0   \n",
       "1           7.772253    -1.303846  43.055309            252.0   \n",
       "2           5.315649    -1.363193  20.327564            243.0   \n",
       "3          10.000839     1.187134  59.895215            235.0   \n",
       "4          10.284223    -1.113555  42.511570            246.0   \n",
       "\n",
       "   max_intensity-1  max_intensity-2  mean_intensity-0  mean_intensity-1  \\\n",
       "0            223.0            224.0        158.148262        157.610429   \n",
       "1            255.0            255.0        179.953815        190.333333   \n",
       "2            255.0            239.0        183.344595        194.283784   \n",
       "3            242.0            231.0        178.498195        178.044525   \n",
       "4            255.0            255.0        172.940141        177.843310   \n",
       "\n",
       "   mean_intensity-2  min_intensity-0  min_intensity-1  min_intensity-2  \n",
       "0        150.855828             61.0             60.0             72.0  \n",
       "1        189.985944             59.0             52.0             72.0  \n",
       "2        186.655405             38.0             94.0             87.0  \n",
       "3        168.651023             67.0             73.0             69.0  \n",
       "4        180.357394             64.0             62.0             93.0  "
      ]
     },
     "execution_count": 697,
     "metadata": {},
     "output_type": "execute_result"
    }
   ],
   "source": [
    "grain_data.head()"
   ]
  },
  {
   "cell_type": "code",
   "execution_count": 158,
   "id": "5a701881-07fa-4662-aafa-d432661fafff",
   "metadata": {},
   "outputs": [],
   "source": [
    "grain_data.to_csv(fname[:-4]+'.csv')"
   ]
  },
  {
   "cell_type": "code",
   "execution_count": 161,
   "id": "a8663eef",
   "metadata": {},
   "outputs": [],
   "source": [
    "plt.figure()\n",
    "plt.hist(grain_data['major_axis_length'], np.arange(0, 100, 1), alpha=0.5)\n",
    "plt.hist(grain_data['minor_axis_length'], np.arange(0, 100, 1), alpha=0.5)\n",
    "plt.xlim(0,100)\n",
    "plt.xlabel('axis length (microns)')\n",
    "plt.ylabel('count');"
   ]
  },
  {
   "cell_type": "markdown",
   "id": "039415c6",
   "metadata": {},
   "source": [
    "## Save mask and grain labels to PNG files"
   ]
  },
  {
   "cell_type": "code",
   "execution_count": 58,
   "id": "c4962ba6",
   "metadata": {},
   "outputs": [
    {
     "data": {
      "text/plain": [
       "True"
      ]
     },
     "execution_count": 58,
     "metadata": {},
     "output_type": "execute_result"
    }
   ],
   "source": [
    "dirname = '/Users/zoltan/Dropbox/Segmentation/images/'\n",
    "# write grayscale mask to PNG file\n",
    "cv2.imwrite(dirname + fname.split('/')[-1][:-4] + '_mask.png', mask_all)\n",
    "# Save the image as a PNG file\n",
    "cv2.imwrite(dirname + fname.split('/')[-1][:-4] + '_image.png', cv2.cvtColor(big_im, cv2.COLOR_BGR2RGB))"
   ]
  },
  {
   "cell_type": "markdown",
   "id": "77db7f2b-7718-4466-a1d8-41aa3d3d0803",
   "metadata": {},
   "source": [
    "## Run segmentation on large image (new!)\n",
    "In this case 'fname' points to an image that is larger than a few megapixels and has thousands of grains.\n",
    "The 'predict_large_image' function breaks the input image into smaller patches and it runs the segmentation process on each patch."
   ]
  },
  {
   "cell_type": "code",
   "execution_count": 33,
   "id": "90eed72b-4cad-409a-b7bf-bbad0e5dfa74",
   "metadata": {
    "scrolled": true
   },
   "outputs": [
    {
     "name": "stdout",
     "output_type": "stream",
     "text": [
      "segmenting image tiles...\n"
     ]
    },
    {
     "name": "stderr",
     "output_type": "stream",
     "text": [
      "100%|██████████████████████████████████████████████████████████████████████████████████| 9/9 [00:06<00:00,  1.30it/s]\n",
      "100%|██████████████████████████████████████████████████████████████████████████████████| 8/8 [00:06<00:00,  1.30it/s]\n"
     ]
    },
    {
     "name": "stdout",
     "output_type": "stream",
     "text": [
      "creating masks using SAM...\n"
     ]
    },
    {
     "name": "stderr",
     "output_type": "stream",
     "text": [
      "100%|████████████████████████████████████████████████████████████████████████████| 3197/3197 [03:25<00:00, 15.54it/s]\n"
     ]
    },
    {
     "name": "stdout",
     "output_type": "stream",
     "text": [
      "finding overlapping polygons...\n"
     ]
    },
    {
     "name": "stderr",
     "output_type": "stream",
     "text": [
      "2894it [00:05, 488.74it/s]\n"
     ]
    },
    {
     "name": "stdout",
     "output_type": "stream",
     "text": [
      "finding best polygons...\n"
     ]
    },
    {
     "name": "stderr",
     "output_type": "stream",
     "text": [
      "100%|█████████████████████████████████████████████████████████████████████████████| 971/971 [00:05<00:00, 192.26it/s]\n"
     ]
    },
    {
     "name": "stdout",
     "output_type": "stream",
     "text": [
      "creating labeled image...\n",
      "segmenting image tiles...\n"
     ]
    },
    {
     "name": "stderr",
     "output_type": "stream",
     "text": [
      "100%|██████████████████████████████████████████████████████████████████████████████████| 9/9 [00:07<00:00,  1.20it/s]\n",
      "100%|██████████████████████████████████████████████████████████████████████████████████| 8/8 [00:06<00:00,  1.23it/s]\n"
     ]
    },
    {
     "name": "stdout",
     "output_type": "stream",
     "text": [
      "creating masks using SAM...\n"
     ]
    },
    {
     "name": "stderr",
     "output_type": "stream",
     "text": [
      "100%|████████████████████████████████████████████████████████████████████████████| 2575/2575 [02:53<00:00, 14.85it/s]\n"
     ]
    },
    {
     "name": "stdout",
     "output_type": "stream",
     "text": [
      "finding overlapping polygons...\n"
     ]
    },
    {
     "name": "stderr",
     "output_type": "stream",
     "text": [
      "2308it [00:08, 273.48it/s]\n"
     ]
    },
    {
     "name": "stdout",
     "output_type": "stream",
     "text": [
      "finding best polygons...\n"
     ]
    },
    {
     "name": "stderr",
     "output_type": "stream",
     "text": [
      "100%|██████████████████████████████████████████████████████████████████████████████| 675/675 [00:07<00:00, 85.80it/s]\n"
     ]
    },
    {
     "name": "stdout",
     "output_type": "stream",
     "text": [
      "creating labeled image...\n",
      "segmenting image tiles...\n"
     ]
    },
    {
     "name": "stderr",
     "output_type": "stream",
     "text": [
      "100%|██████████████████████████████████████████████████████████████████████████████████| 9/9 [00:07<00:00,  1.18it/s]\n",
      "100%|██████████████████████████████████████████████████████████████████████████████████| 8/8 [00:06<00:00,  1.20it/s]\n"
     ]
    },
    {
     "name": "stdout",
     "output_type": "stream",
     "text": [
      "creating masks using SAM...\n"
     ]
    },
    {
     "name": "stderr",
     "output_type": "stream",
     "text": [
      " 53%|████████████████████████████████████████▏                                   | 1130/2140 [01:07<01:08, 14.66it/s]/Users/zoltan/mambaforge/envs/segmenteverygrain/lib/python3.8/site-packages/numpy/core/fromnumeric.py:3464: RuntimeWarning: Mean of empty slice.\n",
      "  return _methods._mean(a, axis=axis, dtype=dtype,\n",
      "/Users/zoltan/mambaforge/envs/segmenteverygrain/lib/python3.8/site-packages/numpy/core/_methods.py:192: RuntimeWarning: invalid value encountered in scalar divide\n",
      "  ret = ret.dtype.type(ret / rcount)\n",
      " 63%|███████████████████████████████████████████████▊                            | 1348/2140 [01:20<00:45, 17.33it/s]/Users/zoltan/mambaforge/envs/segmenteverygrain/lib/python3.8/site-packages/numpy/core/fromnumeric.py:3464: RuntimeWarning: Mean of empty slice.\n",
      "  return _methods._mean(a, axis=axis, dtype=dtype,\n",
      "/Users/zoltan/mambaforge/envs/segmenteverygrain/lib/python3.8/site-packages/numpy/core/_methods.py:192: RuntimeWarning: invalid value encountered in scalar divide\n",
      "  ret = ret.dtype.type(ret / rcount)\n",
      "100%|████████████████████████████████████████████████████████████████████████████| 2140/2140 [02:07<00:00, 16.76it/s]\n"
     ]
    },
    {
     "name": "stdout",
     "output_type": "stream",
     "text": [
      "finding overlapping polygons...\n"
     ]
    },
    {
     "name": "stderr",
     "output_type": "stream",
     "text": [
      "1894it [00:05, 338.10it/s]\n"
     ]
    },
    {
     "name": "stdout",
     "output_type": "stream",
     "text": [
      "finding best polygons...\n"
     ]
    },
    {
     "name": "stderr",
     "output_type": "stream",
     "text": [
      "100%|█████████████████████████████████████████████████████████████████████████████| 595/595 [00:05<00:00, 110.60it/s]\n"
     ]
    },
    {
     "name": "stdout",
     "output_type": "stream",
     "text": [
      "creating labeled image...\n",
      "segmenting image tiles...\n"
     ]
    },
    {
     "name": "stderr",
     "output_type": "stream",
     "text": [
      "100%|██████████████████████████████████████████████████████████████████████████████████| 9/9 [00:07<00:00,  1.24it/s]\n",
      "100%|██████████████████████████████████████████████████████████████████████████████████| 8/8 [00:06<00:00,  1.18it/s]\n"
     ]
    },
    {
     "name": "stdout",
     "output_type": "stream",
     "text": [
      "creating masks using SAM...\n"
     ]
    },
    {
     "name": "stderr",
     "output_type": "stream",
     "text": [
      "100%|████████████████████████████████████████████████████████████████████████████| 3564/3564 [03:34<00:00, 16.60it/s]\n"
     ]
    },
    {
     "name": "stdout",
     "output_type": "stream",
     "text": [
      "finding overlapping polygons...\n"
     ]
    },
    {
     "name": "stderr",
     "output_type": "stream",
     "text": [
      "3316it [00:04, 722.47it/s]\n"
     ]
    },
    {
     "name": "stdout",
     "output_type": "stream",
     "text": [
      "finding best polygons...\n"
     ]
    },
    {
     "name": "stderr",
     "output_type": "stream",
     "text": [
      "100%|███████████████████████████████████████████████████████████████████████████| 1157/1157 [00:04<00:00, 285.11it/s]\n"
     ]
    },
    {
     "name": "stdout",
     "output_type": "stream",
     "text": [
      "creating labeled image...\n",
      "segmenting image tiles...\n"
     ]
    },
    {
     "name": "stderr",
     "output_type": "stream",
     "text": [
      "100%|██████████████████████████████████████████████████████████████████████████████████| 9/9 [00:07<00:00,  1.20it/s]\n",
      "100%|██████████████████████████████████████████████████████████████████████████████████| 8/8 [00:06<00:00,  1.22it/s]\n"
     ]
    },
    {
     "name": "stdout",
     "output_type": "stream",
     "text": [
      "creating masks using SAM...\n"
     ]
    },
    {
     "name": "stderr",
     "output_type": "stream",
     "text": [
      "100%|████████████████████████████████████████████████████████████████████████████| 2484/2484 [02:30<00:00, 16.53it/s]\n"
     ]
    },
    {
     "name": "stdout",
     "output_type": "stream",
     "text": [
      "finding overlapping polygons...\n"
     ]
    },
    {
     "name": "stderr",
     "output_type": "stream",
     "text": [
      "2248it [00:05, 389.11it/s]\n"
     ]
    },
    {
     "name": "stdout",
     "output_type": "stream",
     "text": [
      "finding best polygons...\n"
     ]
    },
    {
     "name": "stderr",
     "output_type": "stream",
     "text": [
      "100%|█████████████████████████████████████████████████████████████████████████████| 709/709 [00:05<00:00, 135.47it/s]\n"
     ]
    },
    {
     "name": "stdout",
     "output_type": "stream",
     "text": [
      "creating labeled image...\n",
      "segmenting image tiles...\n"
     ]
    },
    {
     "name": "stderr",
     "output_type": "stream",
     "text": [
      "100%|██████████████████████████████████████████████████████████████████████████████████| 9/9 [00:08<00:00,  1.12it/s]\n",
      "100%|██████████████████████████████████████████████████████████████████████████████████| 8/8 [00:06<00:00,  1.21it/s]\n"
     ]
    },
    {
     "name": "stdout",
     "output_type": "stream",
     "text": [
      "creating masks using SAM...\n"
     ]
    },
    {
     "name": "stderr",
     "output_type": "stream",
     "text": [
      "100%|████████████████████████████████████████████████████████████████████████████| 1978/1978 [01:56<00:00, 17.04it/s]\n"
     ]
    },
    {
     "name": "stdout",
     "output_type": "stream",
     "text": [
      "finding overlapping polygons...\n"
     ]
    },
    {
     "name": "stderr",
     "output_type": "stream",
     "text": [
      "1712it [00:06, 257.94it/s]\n"
     ]
    },
    {
     "name": "stdout",
     "output_type": "stream",
     "text": [
      "finding best polygons...\n"
     ]
    },
    {
     "name": "stderr",
     "output_type": "stream",
     "text": [
      "100%|██████████████████████████████████████████████████████████████████████████████| 508/508 [00:06<00:00, 74.57it/s]\n"
     ]
    },
    {
     "name": "stdout",
     "output_type": "stream",
     "text": [
      "creating labeled image...\n"
     ]
    },
    {
     "name": "stderr",
     "output_type": "stream",
     "text": [
      "4731it [00:02, 2242.65it/s]\n",
      "100%|█████████████████████████████████████████████████████████████████████████████| 319/319 [00:00<00:00, 881.09it/s]\n"
     ]
    }
   ],
   "source": [
    "reload(seg)\n",
    "from PIL import Image\n",
    "Image.MAX_IMAGE_PIXELS = None # needed if working with very large images\n",
    "fname = \"/Users/zoltan/Dropbox/Segmentation/images/mair_et_al_L2_DJI_0382_image.png\"\n",
    "all_grains = seg.predict_large_image(fname, model, sam, min_area=400.0, patch_size=2000, overlap=200)"
   ]
  },
  {
   "cell_type": "code",
   "execution_count": 34,
   "id": "d1e52b04-e54e-44e6-8061-b8d0c0c76970",
   "metadata": {},
   "outputs": [],
   "source": [
    "# plot results\n",
    "big_im = np.array(load_img(fname))\n",
    "fig, ax = plt.subplots(figsize=(15,10))\n",
    "ax.imshow(big_im)\n",
    "plt.xticks([])\n",
    "plt.yticks([])\n",
    "seg.plot_image_w_colorful_grains(big_im, all_grains, ax, cmap='Paired')\n",
    "plt.axis('equal')\n",
    "plt.xlim([0, np.shape(big_im)[1]])\n",
    "plt.ylim([np.shape(big_im)[0], 0]);"
   ]
  },
  {
   "cell_type": "code",
   "execution_count": 40,
   "id": "4dae73a8-f9ce-4fb9-8661-19d4c03340f3",
   "metadata": {},
   "outputs": [],
   "source": [
    "# this is a faster way of deleting false positives (because it avoids highlighting and deleting the grains)\n",
    "grain_inds = []\n",
    "cid1 = fig.canvas.mpl_connect('button_press_event', \n",
    "                              lambda event: seg.onclick2(event, all_grains, grain_inds, ax=ax, select_only=True))"
   ]
  },
  {
   "cell_type": "code",
   "execution_count": 42,
   "id": "98b9650b-c6d9-4c23-85cc-b0234f3d2b2b",
   "metadata": {},
   "outputs": [],
   "source": [
    "# delete polygons from 'all_grains'\n",
    "grain_inds = np.unique(grain_inds)\n",
    "grain_inds = sorted(grain_inds, reverse=True)\n",
    "for ind in grain_inds:\n",
    "    all_grains.remove(all_grains[ind])"
   ]
  },
  {
   "cell_type": "code",
   "execution_count": null,
   "id": "554154c2-a582-4cf1-9ab7-b68d8b8d1a85",
   "metadata": {},
   "outputs": [],
   "source": [
    "fig.canvas.mpl_disconnect(cid1)"
   ]
  },
  {
   "cell_type": "code",
   "execution_count": null,
   "id": "35a89999-f559-4324-99ab-cb1c92ef0899",
   "metadata": {},
   "outputs": [],
   "source": [
    "# plot image with updated grains\n",
    "big_im = np.array(load_img(fname))\n",
    "fig, ax = plt.subplots(figsize=(15,10))\n",
    "ax.imshow(big_im)\n",
    "plt.xticks([])\n",
    "plt.yticks([])\n",
    "seg.plot_image_w_colorful_grains(big_im, all_grains, ax, cmap='Paired')\n",
    "plt.axis('equal')\n",
    "plt.xlim([0, np.shape(big_im)[1]])\n",
    "plt.ylim([np.shape(big_im)[0], 0]);"
   ]
  },
  {
   "cell_type": "code",
   "execution_count": null,
   "id": "72d2afc3-be71-4c23-901a-063561a24737",
   "metadata": {},
   "outputs": [],
   "source": [
    "# collect data from plot, including mask\n",
    "all_grains, labels, mask_all, fig, ax = seg.get_grains_from_patches(ax, big_im)"
   ]
  },
  {
   "cell_type": "code",
   "execution_count": 140,
   "id": "e282e730-ea49-4663-9d8f-3ce122780393",
   "metadata": {},
   "outputs": [],
   "source": [
    "from skimage.measure import regionprops, regionprops_table\n",
    "props = regionprops_table(labels, intensity_image = big_im, properties=('label', 'area', 'centroid', 'major_axis_length', 'minor_axis_length', \n",
    "                                                                                'orientation', 'perimeter', 'max_intensity', 'mean_intensity', 'min_intensity'))"
   ]
  },
  {
   "cell_type": "code",
   "execution_count": 142,
   "id": "0bdcb292-5710-4462-9e24-d51113ef70ef",
   "metadata": {},
   "outputs": [],
   "source": [
    "df = pd.DataFrame(props)"
   ]
  },
  {
   "cell_type": "code",
   "execution_count": 143,
   "id": "d05cf9c6-ab54-4e86-a61e-b3d1bcc0b7b3",
   "metadata": {},
   "outputs": [
    {
     "data": {
      "text/html": [
       "<div>\n",
       "<style scoped>\n",
       "    .dataframe tbody tr th:only-of-type {\n",
       "        vertical-align: middle;\n",
       "    }\n",
       "\n",
       "    .dataframe tbody tr th {\n",
       "        vertical-align: top;\n",
       "    }\n",
       "\n",
       "    .dataframe thead th {\n",
       "        text-align: right;\n",
       "    }\n",
       "</style>\n",
       "<table border=\"1\" class=\"dataframe\">\n",
       "  <thead>\n",
       "    <tr style=\"text-align: right;\">\n",
       "      <th></th>\n",
       "      <th>label</th>\n",
       "      <th>area</th>\n",
       "      <th>centroid-0</th>\n",
       "      <th>centroid-1</th>\n",
       "      <th>major_axis_length</th>\n",
       "      <th>minor_axis_length</th>\n",
       "      <th>orientation</th>\n",
       "      <th>perimeter</th>\n",
       "      <th>max_intensity-0</th>\n",
       "      <th>max_intensity-1</th>\n",
       "      <th>max_intensity-2</th>\n",
       "      <th>mean_intensity-0</th>\n",
       "      <th>mean_intensity-1</th>\n",
       "      <th>mean_intensity-2</th>\n",
       "      <th>min_intensity-0</th>\n",
       "      <th>min_intensity-1</th>\n",
       "      <th>min_intensity-2</th>\n",
       "    </tr>\n",
       "  </thead>\n",
       "  <tbody>\n",
       "    <tr>\n",
       "      <th>0</th>\n",
       "      <td>1</td>\n",
       "      <td>830.0</td>\n",
       "      <td>43960.320482</td>\n",
       "      <td>1677.862651</td>\n",
       "      <td>38.752309</td>\n",
       "      <td>27.316355</td>\n",
       "      <td>0.273334</td>\n",
       "      <td>107.497475</td>\n",
       "      <td>200.0</td>\n",
       "      <td>205.0</td>\n",
       "      <td>214.0</td>\n",
       "      <td>77.914458</td>\n",
       "      <td>67.026506</td>\n",
       "      <td>61.689157</td>\n",
       "      <td>10.0</td>\n",
       "      <td>25.0</td>\n",
       "      <td>20.0</td>\n",
       "    </tr>\n",
       "    <tr>\n",
       "      <th>1</th>\n",
       "      <td>2</td>\n",
       "      <td>1136.0</td>\n",
       "      <td>43590.179577</td>\n",
       "      <td>686.280810</td>\n",
       "      <td>43.211267</td>\n",
       "      <td>34.025389</td>\n",
       "      <td>0.857311</td>\n",
       "      <td>126.225397</td>\n",
       "      <td>207.0</td>\n",
       "      <td>218.0</td>\n",
       "      <td>211.0</td>\n",
       "      <td>145.168134</td>\n",
       "      <td>143.100352</td>\n",
       "      <td>143.987676</td>\n",
       "      <td>34.0</td>\n",
       "      <td>37.0</td>\n",
       "      <td>65.0</td>\n",
       "    </tr>\n",
       "    <tr>\n",
       "      <th>2</th>\n",
       "      <td>3</td>\n",
       "      <td>1571.0</td>\n",
       "      <td>43189.798218</td>\n",
       "      <td>963.990452</td>\n",
       "      <td>56.501983</td>\n",
       "      <td>35.768381</td>\n",
       "      <td>0.805265</td>\n",
       "      <td>149.923882</td>\n",
       "      <td>217.0</td>\n",
       "      <td>222.0</td>\n",
       "      <td>216.0</td>\n",
       "      <td>149.928708</td>\n",
       "      <td>145.283896</td>\n",
       "      <td>141.232336</td>\n",
       "      <td>26.0</td>\n",
       "      <td>31.0</td>\n",
       "      <td>21.0</td>\n",
       "    </tr>\n",
       "    <tr>\n",
       "      <th>3</th>\n",
       "      <td>4</td>\n",
       "      <td>3388.0</td>\n",
       "      <td>43150.272137</td>\n",
       "      <td>588.850945</td>\n",
       "      <td>92.152532</td>\n",
       "      <td>47.986861</td>\n",
       "      <td>1.432245</td>\n",
       "      <td>237.823376</td>\n",
       "      <td>226.0</td>\n",
       "      <td>224.0</td>\n",
       "      <td>226.0</td>\n",
       "      <td>144.553424</td>\n",
       "      <td>139.338843</td>\n",
       "      <td>133.357143</td>\n",
       "      <td>32.0</td>\n",
       "      <td>41.0</td>\n",
       "      <td>39.0</td>\n",
       "    </tr>\n",
       "    <tr>\n",
       "      <th>4</th>\n",
       "      <td>5</td>\n",
       "      <td>897.0</td>\n",
       "      <td>42856.816054</td>\n",
       "      <td>620.888517</td>\n",
       "      <td>42.509864</td>\n",
       "      <td>27.112746</td>\n",
       "      <td>-1.446275</td>\n",
       "      <td>114.568542</td>\n",
       "      <td>223.0</td>\n",
       "      <td>223.0</td>\n",
       "      <td>216.0</td>\n",
       "      <td>177.035674</td>\n",
       "      <td>176.288740</td>\n",
       "      <td>176.924192</td>\n",
       "      <td>68.0</td>\n",
       "      <td>59.0</td>\n",
       "      <td>67.0</td>\n",
       "    </tr>\n",
       "  </tbody>\n",
       "</table>\n",
       "</div>"
      ],
      "text/plain": [
       "   label    area    centroid-0   centroid-1  major_axis_length  \\\n",
       "0      1   830.0  43960.320482  1677.862651          38.752309   \n",
       "1      2  1136.0  43590.179577   686.280810          43.211267   \n",
       "2      3  1571.0  43189.798218   963.990452          56.501983   \n",
       "3      4  3388.0  43150.272137   588.850945          92.152532   \n",
       "4      5   897.0  42856.816054   620.888517          42.509864   \n",
       "\n",
       "   minor_axis_length  orientation   perimeter  max_intensity-0  \\\n",
       "0          27.316355     0.273334  107.497475            200.0   \n",
       "1          34.025389     0.857311  126.225397            207.0   \n",
       "2          35.768381     0.805265  149.923882            217.0   \n",
       "3          47.986861     1.432245  237.823376            226.0   \n",
       "4          27.112746    -1.446275  114.568542            223.0   \n",
       "\n",
       "   max_intensity-1  max_intensity-2  mean_intensity-0  mean_intensity-1  \\\n",
       "0            205.0            214.0         77.914458         67.026506   \n",
       "1            218.0            211.0        145.168134        143.100352   \n",
       "2            222.0            216.0        149.928708        145.283896   \n",
       "3            224.0            226.0        144.553424        139.338843   \n",
       "4            223.0            216.0        177.035674        176.288740   \n",
       "\n",
       "   mean_intensity-2  min_intensity-0  min_intensity-1  min_intensity-2  \n",
       "0         61.689157             10.0             25.0             20.0  \n",
       "1        143.987676             34.0             37.0             65.0  \n",
       "2        141.232336             26.0             31.0             21.0  \n",
       "3        133.357143             32.0             41.0             39.0  \n",
       "4        176.924192             68.0             59.0             67.0  "
      ]
     },
     "execution_count": 143,
     "metadata": {},
     "output_type": "execute_result"
    }
   ],
   "source": [
    "df.head()"
   ]
  },
  {
   "cell_type": "code",
   "execution_count": 195,
   "id": "eb49df15-95dc-44f6-ae41-ad778daa309f",
   "metadata": {},
   "outputs": [
    {
     "name": "stderr",
     "output_type": "stream",
     "text": [
      "100%|███████████████████████████████████| 78923/78923 [00:21<00:00, 3616.88it/s]\n"
     ]
    }
   ],
   "source": [
    "# plot grains in black and white\n",
    "plt.figure()\n",
    "# plt.imshow(big_im[0:2001, 0:2001, :])\n",
    "for grain in tqdm(all_grains):\n",
    "    plt.plot(grain.exterior.xy[0], grain.exterior.xy[1], 'k', linewidth=0.2)\n",
    "plt.axis('equal')\n",
    "plt.gca().invert_yaxis();"
   ]
  },
  {
   "cell_type": "markdown",
   "id": "74b9e579-8c81-4baf-9262-eb4b1584c646",
   "metadata": {},
   "source": [
    "After plotting the results, you will want to use the functions for deleting, merging, and adding grains (see above), before saving the results (same workflow as for a small image)."
   ]
  }
 ],
 "metadata": {
  "kernelspec": {
   "display_name": "Python 3 (ipykernel)",
   "language": "python",
   "name": "python3"
  },
  "language_info": {
   "codemirror_mode": {
    "name": "ipython",
    "version": 3
   },
   "file_extension": ".py",
   "mimetype": "text/x-python",
   "name": "python",
   "nbconvert_exporter": "python",
   "pygments_lexer": "ipython3",
   "version": "3.8.19"
  }
 },
 "nbformat": 4,
 "nbformat_minor": 5
}
