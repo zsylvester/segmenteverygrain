{
 "cells": [
  {
   "cell_type": "markdown",
   "id": "95a8f02b",
   "metadata": {},
   "source": [
    "## Import packages"
   ]
  },
  {
   "cell_type": "code",
   "execution_count": 1,
   "id": "f2ebc518",
   "metadata": {
    "execution": {
     "iopub.execute_input": "2024-12-18T17:50:56.992333Z",
     "iopub.status.busy": "2024-12-18T17:50:56.991742Z",
     "iopub.status.idle": "2024-12-18T17:51:21.484369Z",
     "shell.execute_reply": "2024-12-18T17:51:21.483940Z",
     "shell.execute_reply.started": "2024-12-18T17:50:56.992297Z"
    }
   },
   "outputs": [],
   "source": [
    "import pandas as pd\n",
    "import numpy as np\n",
    "import matplotlib.pyplot as plt\n",
    "import cv2\n",
    "from skimage.measure import regionprops, regionprops_table\n",
    "from keras.utils import load_img\n",
    "from keras.saving import load_model\n",
    "from importlib import reload\n",
    "import segmenteverygrain as seg\n",
    "from segment_anything import sam_model_registry, SamPredictor\n",
    "from tqdm import trange, tqdm\n",
    "%matplotlib qt"
   ]
  },
  {
   "cell_type": "markdown",
   "id": "f474ac20",
   "metadata": {},
   "source": [
    "## Load models"
   ]
  },
  {
   "cell_type": "code",
   "execution_count": 3,
   "id": "fe1bd2bc",
   "metadata": {
    "execution": {
     "iopub.execute_input": "2024-12-18T17:51:27.354370Z",
     "iopub.status.busy": "2024-12-18T17:51:27.353423Z",
     "iopub.status.idle": "2024-12-18T17:51:30.117877Z",
     "shell.execute_reply": "2024-12-18T17:51:30.117410Z",
     "shell.execute_reply.started": "2024-12-18T17:51:27.354285Z"
    }
   },
   "outputs": [
    {
     "name": "stderr",
     "output_type": "stream",
     "text": [
      "2024-12-18 11:51:27.371355: I metal_plugin/src/device/metal_device.cc:1154] Metal device set to: Apple M2 Max\n",
      "2024-12-18 11:51:27.371391: I metal_plugin/src/device/metal_device.cc:296] systemMemory: 96.00 GB\n",
      "2024-12-18 11:51:27.371396: I metal_plugin/src/device/metal_device.cc:313] maxCacheSize: 36.00 GB\n",
      "2024-12-18 11:51:27.371448: I tensorflow/core/common_runtime/pluggable_device/pluggable_device_factory.cc:305] Could not identify NUMA node of platform GPU ID 0, defaulting to 0. Your kernel may not have been built with NUMA support.\n",
      "2024-12-18 11:51:27.371467: I tensorflow/core/common_runtime/pluggable_device/pluggable_device_factory.cc:271] Created TensorFlow device (/job:localhost/replica:0/task:0/device:GPU:0 with 0 MB memory) -> physical PluggableDevice (device: 0, name: METAL, pci bus id: <undefined>)\n",
      "/Users/zoltan/miniforge3/envs/segmenteverygrain/lib/python3.9/site-packages/segment_anything/build_sam.py:105: FutureWarning: You are using `torch.load` with `weights_only=False` (the current default value), which uses the default pickle module implicitly. It is possible to construct malicious pickle data which will execute arbitrary code during unpickling (See https://github.com/pytorch/pytorch/blob/main/SECURITY.md#untrusted-models for more details). In a future release, the default value for `weights_only` will be flipped to `True`. This limits the functions that could be executed during unpickling. Arbitrary objects will no longer be allowed to be loaded via this mode unless they are explicitly allowlisted by the user via `torch.serialization.add_safe_globals`. We recommend you start setting `weights_only=True` for any use case where you don't have full control of the loaded file. Please open an issue on GitHub for any issues related to this experimental feature.\n",
      "  state_dict = torch.load(f)\n"
     ]
    }
   ],
   "source": [
    "model = load_model(\"seg_model.keras\", custom_objects={'weighted_crossentropy': seg.weighted_crossentropy})\n",
    "\n",
    "# the SAM model checkpoints can be downloaded from: https://dl.fbaipublicfiles.com/segment_anything/sam_vit_h_4b8939.pth\n",
    "sam = sam_model_registry[\"default\"](checkpoint=\"/Users/zoltan/Dropbox/Segmentation/sam_vit_h_4b8939.pth\")"
   ]
  },
  {
   "cell_type": "markdown",
   "id": "a3c1dfc6",
   "metadata": {},
   "source": [
    "## Run segmentation\n",
    "\n",
    "Grains are supposed to be well defined in the image; e.g., if a grain consists of only a few pixels, it is unlikely to be detected.\n",
    "\n",
    "The segmentation can take a few minutes even for medium-sized images. Images with ~2000 pixels along their largest dimension are a good start and allow the user to get an idea about how well the segmentation works.\n",
    "\n",
    "If you have a much larger image, see the section **\"Run segmentation on large image\"** at the end of the notebook. Running the `predict_large_image` function takes a lot longer (e.g., several hours), but it is possible to analyze very large images with tens of thousands of grains.\n",
    "\n",
    "Image used below is available from [here](https://github.com/zsylvester/segmenteverygrain/blob/main/torrey_pines_beach.jpeg)."
   ]
  },
  {
   "cell_type": "code",
   "execution_count": 4,
   "id": "94bf3f94",
   "metadata": {
    "execution": {
     "iopub.execute_input": "2024-12-18T17:51:59.175754Z",
     "iopub.status.busy": "2024-12-18T17:51:59.175245Z",
     "iopub.status.idle": "2024-12-18T17:52:02.650052Z",
     "shell.execute_reply": "2024-12-18T17:52:02.649694Z",
     "shell.execute_reply.started": "2024-12-18T17:51:59.175719Z"
    }
   },
   "outputs": [
    {
     "name": "stdout",
     "output_type": "stream",
     "text": [
      "segmenting image tiles...\n"
     ]
    },
    {
     "name": "stderr",
     "output_type": "stream",
     "text": [
      "  0%|                                                     | 0/7 [00:00<?, ?it/s]2024-12-18 11:51:59.439679: I tensorflow/core/grappler/optimizers/custom_graph_optimizer_registry.cc:117] Plugin optimizer for device_type GPU is enabled.\n",
      "100%|█████████████████████████████████████████████| 7/7 [00:01<00:00,  5.70it/s]\n",
      "100%|█████████████████████████████████████████████| 6/6 [00:00<00:00,  8.13it/s]\n"
     ]
    }
   ],
   "source": [
    "reload(seg)\n",
    "# replace this with the path to your image:\n",
    "# fname = 'torrey_pines_beach.jpeg'\n",
    "\n",
    "image = np.array(load_img(fname))\n",
    "image_pred = seg.predict_image(image, model, I=256)\n",
    "\n",
    "# decreasing the 'dbs_max_dist' parameter results in more SAM prompts (and longer processing times):\n",
    "labels, coords = seg.label_grains(image, image_pred, dbs_max_dist=20.0) # Unet prediction"
   ]
  },
  {
   "cell_type": "markdown",
   "id": "7c091d4c",
   "metadata": {},
   "source": [
    "Use the figure created in the next cell to check the quality of the Unet labeling (sometimes it doesn't work at all) and the distribution of SAM prompts (= black dots). If the Unet prediction is of poor quality, it is a good idea to create some training data and fine tune the base model so that it works better with the images of interest."
   ]
  },
  {
   "cell_type": "code",
   "execution_count": 5,
   "id": "e031a13f",
   "metadata": {
    "execution": {
     "iopub.execute_input": "2024-12-18T17:52:06.915049Z",
     "iopub.status.busy": "2024-12-18T17:52:06.914517Z",
     "iopub.status.idle": "2024-12-18T17:52:07.273662Z",
     "shell.execute_reply": "2024-12-18T17:52:07.273162Z",
     "shell.execute_reply.started": "2024-12-18T17:52:06.915015Z"
    }
   },
   "outputs": [],
   "source": [
    "fig, ax = plt.subplots(figsize=(15,10))\n",
    "ax.imshow(image_pred)\n",
    "plt.scatter(np.array(coords)[:,0], np.array(coords)[:,1], c='k')\n",
    "plt.xticks([])\n",
    "plt.yticks([]);"
   ]
  },
  {
   "cell_type": "code",
   "execution_count": 6,
   "id": "99bcedac-6a3f-4f1d-97a9-b167fa14994c",
   "metadata": {
    "execution": {
     "iopub.execute_input": "2024-12-18T17:52:14.431715Z",
     "iopub.status.busy": "2024-12-18T17:52:14.431190Z",
     "iopub.status.idle": "2024-12-18T17:53:02.118390Z",
     "shell.execute_reply": "2024-12-18T17:53:02.117953Z",
     "shell.execute_reply.started": "2024-12-18T17:52:14.431667Z"
    }
   },
   "outputs": [
    {
     "name": "stdout",
     "output_type": "stream",
     "text": [
      "creating masks using SAM...\n"
     ]
    },
    {
     "name": "stderr",
     "output_type": "stream",
     "text": [
      "100%|█████████████████████████████████████████| 853/853 [00:32<00:00, 26.36it/s]\n"
     ]
    },
    {
     "name": "stdout",
     "output_type": "stream",
     "text": [
      "finding overlapping polygons...\n"
     ]
    },
    {
     "name": "stderr",
     "output_type": "stream",
     "text": [
      "853it [00:02, 351.70it/s]\n"
     ]
    },
    {
     "name": "stdout",
     "output_type": "stream",
     "text": [
      "finding best polygons...\n"
     ]
    },
    {
     "name": "stderr",
     "output_type": "stream",
     "text": [
      "100%|█████████████████████████████████████████| 292/292 [00:03<00:00, 74.98it/s]\n"
     ]
    },
    {
     "name": "stdout",
     "output_type": "stream",
     "text": [
      "creating labeled image...\n"
     ]
    },
    {
     "name": "stderr",
     "output_type": "stream",
     "text": [
      "100%|████████████████████████████████████████| 314/314 [00:01<00:00, 290.07it/s]\n"
     ]
    }
   ],
   "source": [
    "# SAM segmentation, using the point prompts from the Unet:\n",
    "all_grains, labels, mask_all, grain_data, fig, ax = seg.sam_segmentation(sam, image, image_pred, \n",
    "            coords, labels, min_area=400.0, plot_image=True, remove_edge_grains=False, remove_large_objects=False)"
   ]
  },
  {
   "cell_type": "markdown",
   "id": "968737c4",
   "metadata": {},
   "source": [
    "## Delete or merge grains in segmentation result\n",
    "* click on the grain that you want to remove and press the 'x' key\n",
    "* click on two grains that you want to merge and press the 'm' key (they have to be the last two grains you clicked on)\n",
    "* press the 'g' key to hide the grain masks (so that you can see the original image better); press the 'g' key again to show the grain masks"
   ]
  },
  {
   "cell_type": "code",
   "execution_count": 8,
   "id": "e1761761",
   "metadata": {
    "execution": {
     "iopub.execute_input": "2024-12-18T18:02:27.598014Z",
     "iopub.status.busy": "2024-12-18T18:02:27.597195Z",
     "iopub.status.idle": "2024-12-18T18:02:27.605451Z",
     "shell.execute_reply": "2024-12-18T18:02:27.604241Z",
     "shell.execute_reply.started": "2024-12-18T18:02:27.597958Z"
    }
   },
   "outputs": [],
   "source": [
    "grain_inds = []\n",
    "cid1 = fig.canvas.mpl_connect('button_press_event', \n",
    "                              lambda event: seg.onclick2(event, all_grains, grain_inds, ax=ax))\n",
    "cid2 = fig.canvas.mpl_connect('key_press_event', \n",
    "                              lambda event: seg.onpress2(event, all_grains, grain_inds, fig=fig, ax=ax))"
   ]
  },
  {
   "cell_type": "markdown",
   "id": "5d08448d",
   "metadata": {},
   "source": [
    "Run this cell if you do not want to delete / merge existing grains anymore; it is a good idea to do this before moving on to the next step."
   ]
  },
  {
   "cell_type": "code",
   "execution_count": 11,
   "id": "8b6987ae",
   "metadata": {
    "execution": {
     "iopub.execute_input": "2024-12-15T21:24:54.477942Z",
     "iopub.status.busy": "2024-12-15T21:24:54.477512Z",
     "iopub.status.idle": "2024-12-15T21:24:54.481767Z",
     "shell.execute_reply": "2024-12-15T21:24:54.480821Z",
     "shell.execute_reply.started": "2024-12-15T21:24:54.477906Z"
    }
   },
   "outputs": [],
   "source": [
    "fig.canvas.mpl_disconnect(cid1)\n",
    "fig.canvas.mpl_disconnect(cid2)"
   ]
  },
  {
   "cell_type": "markdown",
   "id": "b1ef7d75",
   "metadata": {},
   "source": [
    "Use this function to update the 'labels' array after deleting and merging grains (the 'all_grains' list is updated when doing the deletion and merging):"
   ]
  },
  {
   "cell_type": "code",
   "execution_count": 9,
   "id": "9f7b8082",
   "metadata": {
    "execution": {
     "iopub.execute_input": "2024-12-18T18:03:01.460474Z",
     "iopub.status.busy": "2024-12-18T18:03:01.459947Z",
     "iopub.status.idle": "2024-12-18T18:03:02.076969Z",
     "shell.execute_reply": "2024-12-18T18:03:02.076500Z",
     "shell.execute_reply.started": "2024-12-18T18:03:01.460440Z"
    }
   },
   "outputs": [
    {
     "name": "stderr",
     "output_type": "stream",
     "text": [
      "100%|███████████████████████████████████████| 311/311 [00:00<00:00, 2718.72it/s]\n",
      "311it [00:00, 1711.25it/s]\n"
     ]
    }
   ],
   "source": [
    "all_grains, labels, mask_all = seg.get_grains_from_patches(ax, image)"
   ]
  },
  {
   "cell_type": "markdown",
   "id": "36ca344c",
   "metadata": {},
   "source": [
    "Plot the updated set of grains:"
   ]
  },
  {
   "cell_type": "code",
   "execution_count": 15,
   "id": "7e0f7f02",
   "metadata": {
    "execution": {
     "iopub.execute_input": "2024-12-18T18:07:24.133192Z",
     "iopub.status.busy": "2024-12-18T18:07:24.132645Z",
     "iopub.status.idle": "2024-12-18T18:07:25.415541Z",
     "shell.execute_reply": "2024-12-18T18:07:25.415222Z",
     "shell.execute_reply.started": "2024-12-18T18:07:24.133157Z"
    }
   },
   "outputs": [
    {
     "name": "stderr",
     "output_type": "stream",
     "text": [
      "100%|████████████████████████████████████████| 311/311 [00:01<00:00, 298.81it/s]\n"
     ]
    }
   ],
   "source": [
    "fig, ax = plt.subplots(figsize=(15,10))\n",
    "plt.xticks([])\n",
    "plt.yticks([])\n",
    "seg.plot_image_w_colorful_grains(image, all_grains, ax, cmap='Paired', plot_image=True)\n",
    "seg.plot_grain_axes_and_centroids(all_grains, labels, ax, linewidth=1, markersize=10)\n",
    "plt.xlim([0, np.shape(image)[1]])\n",
    "plt.ylim([np.shape(image)[0], 0]);"
   ]
  },
  {
   "cell_type": "markdown",
   "id": "ab7201a5",
   "metadata": {},
   "source": [
    "## Add new grains using the Segment Anything Model\n",
    "\n",
    "* click on unsegmented grain that you want to add\n",
    "* press the 'x' key if you want to delete the last grain you added\n",
    "* press the 'm' key if you want to merge the last two grains that you added\n",
    "* right click outside the grain (but inside the most recent mask) if you want to restrict the grain to a smaller mask - this adds a background prompt"
   ]
  },
  {
   "cell_type": "code",
   "execution_count": 16,
   "id": "04b1a138",
   "metadata": {
    "execution": {
     "iopub.execute_input": "2024-12-18T18:07:32.551544Z",
     "iopub.status.busy": "2024-12-18T18:07:32.550976Z",
     "iopub.status.idle": "2024-12-18T18:07:39.634692Z",
     "shell.execute_reply": "2024-12-18T18:07:39.634152Z",
     "shell.execute_reply.started": "2024-12-18T18:07:32.551496Z"
    }
   },
   "outputs": [],
   "source": [
    "reload(seg)\n",
    "predictor = SamPredictor(sam)\n",
    "predictor.set_image(image) # this can take a while\n",
    "coords = []\n",
    "cid3 = fig.canvas.mpl_connect('button_press_event', lambda event: seg.onclick(event, ax, coords, image, predictor))\n",
    "cid4 = fig.canvas.mpl_connect('key_press_event', lambda event: seg.onpress(event, ax, fig))"
   ]
  },
  {
   "cell_type": "code",
   "execution_count": 17,
   "id": "02386a92",
   "metadata": {
    "execution": {
     "iopub.execute_input": "2024-12-18T18:08:01.061958Z",
     "iopub.status.busy": "2024-12-18T18:08:01.061409Z",
     "iopub.status.idle": "2024-12-18T18:08:01.066268Z",
     "shell.execute_reply": "2024-12-18T18:08:01.065589Z",
     "shell.execute_reply.started": "2024-12-18T18:08:01.061922Z"
    }
   },
   "outputs": [],
   "source": [
    "fig.canvas.mpl_disconnect(cid3)\n",
    "fig.canvas.mpl_disconnect(cid4)"
   ]
  },
  {
   "cell_type": "markdown",
   "id": "6ae4b89a",
   "metadata": {},
   "source": [
    "After you are done with the deletion / addition of grain masks, run this cell to generate an updated set of grains:"
   ]
  },
  {
   "cell_type": "code",
   "execution_count": 18,
   "id": "4355b526",
   "metadata": {
    "execution": {
     "iopub.execute_input": "2024-12-18T18:08:04.200106Z",
     "iopub.status.busy": "2024-12-18T18:08:04.199532Z",
     "iopub.status.idle": "2024-12-18T18:08:04.836426Z",
     "shell.execute_reply": "2024-12-18T18:08:04.836028Z",
     "shell.execute_reply.started": "2024-12-18T18:08:04.200058Z"
    }
   },
   "outputs": [
    {
     "name": "stderr",
     "output_type": "stream",
     "text": [
      "100%|███████████████████████████████████████| 316/316 [00:00<00:00, 2715.10it/s]\n",
      "316it [00:00, 1640.59it/s]\n"
     ]
    }
   ],
   "source": [
    "all_grains, labels, mask_all = seg.get_grains_from_patches(ax, image)"
   ]
  },
  {
   "cell_type": "markdown",
   "id": "768a05d2",
   "metadata": {},
   "source": [
    "## Get grain size distribution"
   ]
  },
  {
   "cell_type": "markdown",
   "id": "96892a89",
   "metadata": {},
   "source": [
    "Run this cell and then click (left mouse button) on one end of the scale bar in the image and click (right mouse button) on the other end of the scale bar:"
   ]
  },
  {
   "cell_type": "code",
   "execution_count": 14,
   "id": "869c6cd4",
   "metadata": {
    "execution": {
     "iopub.execute_input": "2024-12-15T21:26:15.570070Z",
     "iopub.status.busy": "2024-12-15T21:26:15.569536Z",
     "iopub.status.idle": "2024-12-15T21:26:15.575163Z",
     "shell.execute_reply": "2024-12-15T21:26:15.574027Z",
     "shell.execute_reply.started": "2024-12-15T21:26:15.570031Z"
    }
   },
   "outputs": [
    {
     "name": "stdout",
     "output_type": "stream",
     "text": [
      "number of pixels: 507.96\n"
     ]
    }
   ],
   "source": [
    "cid5 = fig.canvas.mpl_connect('button_press_event', lambda event: seg.click_for_scale(event, ax))"
   ]
  },
  {
   "cell_type": "markdown",
   "id": "658e2f0a",
   "metadata": {},
   "source": [
    "Use the length of the scale bar in pixels (it should be printed above) to get the scale of the image (in units / pixel):"
   ]
  },
  {
   "cell_type": "code",
   "execution_count": 15,
   "id": "7893cfb7",
   "metadata": {
    "execution": {
     "iopub.execute_input": "2024-12-15T21:26:57.052558Z",
     "iopub.status.busy": "2024-12-15T21:26:57.051935Z",
     "iopub.status.idle": "2024-12-15T21:26:57.057658Z",
     "shell.execute_reply": "2024-12-15T21:26:57.056523Z",
     "shell.execute_reply.started": "2024-12-15T21:26:57.052520Z"
    }
   },
   "outputs": [],
   "source": [
    "n_of_units = 10.59\n",
    "units_per_pixel = n_of_units/507.96 # length of scale bar in pixels"
   ]
  },
  {
   "cell_type": "code",
   "execution_count": 16,
   "id": "b56c5732",
   "metadata": {
    "execution": {
     "iopub.execute_input": "2024-12-15T21:26:58.475036Z",
     "iopub.status.busy": "2024-12-15T21:26:58.474619Z",
     "iopub.status.idle": "2024-12-15T21:26:58.843901Z",
     "shell.execute_reply": "2024-12-15T21:26:58.843528Z",
     "shell.execute_reply.started": "2024-12-15T21:26:58.475005Z"
    }
   },
   "outputs": [],
   "source": [
    "props = regionprops_table(labels.astype('int'), intensity_image = image, properties =\\\n",
    "        ('label', 'area', 'centroid', 'major_axis_length', 'minor_axis_length', \n",
    "         'orientation', 'perimeter', 'max_intensity', 'mean_intensity', 'min_intensity'))\n",
    "grain_data = pd.DataFrame(props)\n",
    "grain_data['major_axis_length'] = grain_data['major_axis_length'].values*units_per_pixel\n",
    "grain_data['minor_axis_length'] = grain_data['minor_axis_length'].values*units_per_pixel\n",
    "grain_data['perimeter'] = grain_data['perimeter'].values*units_per_pixel\n",
    "grain_data['area'] = grain_data['area'].values*units_per_pixel**2"
   ]
  },
  {
   "cell_type": "code",
   "execution_count": 17,
   "id": "202f5650",
   "metadata": {
    "execution": {
     "iopub.execute_input": "2024-12-15T21:27:05.113040Z",
     "iopub.status.busy": "2024-12-15T21:27:05.112674Z",
     "iopub.status.idle": "2024-12-15T21:27:05.134670Z",
     "shell.execute_reply": "2024-12-15T21:27:05.134248Z",
     "shell.execute_reply.started": "2024-12-15T21:27:05.113013Z"
    }
   },
   "outputs": [
    {
     "data": {
      "text/html": [
       "<div>\n",
       "<style scoped>\n",
       "    .dataframe tbody tr th:only-of-type {\n",
       "        vertical-align: middle;\n",
       "    }\n",
       "\n",
       "    .dataframe tbody tr th {\n",
       "        vertical-align: top;\n",
       "    }\n",
       "\n",
       "    .dataframe thead th {\n",
       "        text-align: right;\n",
       "    }\n",
       "</style>\n",
       "<table border=\"1\" class=\"dataframe\">\n",
       "  <thead>\n",
       "    <tr style=\"text-align: right;\">\n",
       "      <th></th>\n",
       "      <th>label</th>\n",
       "      <th>area</th>\n",
       "      <th>centroid-0</th>\n",
       "      <th>centroid-1</th>\n",
       "      <th>major_axis_length</th>\n",
       "      <th>minor_axis_length</th>\n",
       "      <th>orientation</th>\n",
       "      <th>perimeter</th>\n",
       "      <th>max_intensity-0</th>\n",
       "      <th>max_intensity-1</th>\n",
       "      <th>max_intensity-2</th>\n",
       "      <th>mean_intensity-0</th>\n",
       "      <th>mean_intensity-1</th>\n",
       "      <th>mean_intensity-2</th>\n",
       "      <th>min_intensity-0</th>\n",
       "      <th>min_intensity-1</th>\n",
       "      <th>min_intensity-2</th>\n",
       "    </tr>\n",
       "  </thead>\n",
       "  <tbody>\n",
       "    <tr>\n",
       "      <th>0</th>\n",
       "      <td>1</td>\n",
       "      <td>0.541131</td>\n",
       "      <td>1352.172691</td>\n",
       "      <td>725.494779</td>\n",
       "      <td>0.882174</td>\n",
       "      <td>0.801997</td>\n",
       "      <td>-0.423345</td>\n",
       "      <td>2.862370</td>\n",
       "      <td>222.0</td>\n",
       "      <td>206.0</td>\n",
       "      <td>191.0</td>\n",
       "      <td>102.339759</td>\n",
       "      <td>87.897992</td>\n",
       "      <td>66.669880</td>\n",
       "      <td>31.0</td>\n",
       "      <td>21.0</td>\n",
       "      <td>1.0</td>\n",
       "    </tr>\n",
       "    <tr>\n",
       "      <th>1</th>\n",
       "      <td>2</td>\n",
       "      <td>0.775403</td>\n",
       "      <td>1682.739350</td>\n",
       "      <td>1101.253924</td>\n",
       "      <td>1.205701</td>\n",
       "      <td>0.859913</td>\n",
       "      <td>0.097244</td>\n",
       "      <td>3.533700</td>\n",
       "      <td>255.0</td>\n",
       "      <td>252.0</td>\n",
       "      <td>236.0</td>\n",
       "      <td>169.756166</td>\n",
       "      <td>145.056614</td>\n",
       "      <td>119.452915</td>\n",
       "      <td>65.0</td>\n",
       "      <td>49.0</td>\n",
       "      <td>24.0</td>\n",
       "    </tr>\n",
       "    <tr>\n",
       "      <th>2</th>\n",
       "      <td>3</td>\n",
       "      <td>1.693805</td>\n",
       "      <td>86.278676</td>\n",
       "      <td>1099.849115</td>\n",
       "      <td>1.693834</td>\n",
       "      <td>1.336961</td>\n",
       "      <td>-0.141897</td>\n",
       "      <td>5.177631</td>\n",
       "      <td>202.0</td>\n",
       "      <td>194.0</td>\n",
       "      <td>177.0</td>\n",
       "      <td>105.707724</td>\n",
       "      <td>94.388247</td>\n",
       "      <td>79.773672</td>\n",
       "      <td>13.0</td>\n",
       "      <td>2.0</td>\n",
       "      <td>0.0</td>\n",
       "    </tr>\n",
       "    <tr>\n",
       "      <th>3</th>\n",
       "      <td>4</td>\n",
       "      <td>0.532873</td>\n",
       "      <td>175.368679</td>\n",
       "      <td>319.604405</td>\n",
       "      <td>1.068618</td>\n",
       "      <td>0.718817</td>\n",
       "      <td>-0.762373</td>\n",
       "      <td>3.206057</td>\n",
       "      <td>179.0</td>\n",
       "      <td>167.0</td>\n",
       "      <td>145.0</td>\n",
       "      <td>95.444535</td>\n",
       "      <td>80.330343</td>\n",
       "      <td>59.197390</td>\n",
       "      <td>15.0</td>\n",
       "      <td>0.0</td>\n",
       "      <td>0.0</td>\n",
       "    </tr>\n",
       "    <tr>\n",
       "      <th>4</th>\n",
       "      <td>5</td>\n",
       "      <td>0.415954</td>\n",
       "      <td>232.176594</td>\n",
       "      <td>199.407524</td>\n",
       "      <td>0.949713</td>\n",
       "      <td>0.587078</td>\n",
       "      <td>0.285941</td>\n",
       "      <td>2.632173</td>\n",
       "      <td>172.0</td>\n",
       "      <td>160.0</td>\n",
       "      <td>144.0</td>\n",
       "      <td>84.425287</td>\n",
       "      <td>69.421108</td>\n",
       "      <td>47.536050</td>\n",
       "      <td>31.0</td>\n",
       "      <td>16.0</td>\n",
       "      <td>0.0</td>\n",
       "    </tr>\n",
       "  </tbody>\n",
       "</table>\n",
       "</div>"
      ],
      "text/plain": [
       "   label      area   centroid-0   centroid-1  major_axis_length  \\\n",
       "0      1  0.541131  1352.172691   725.494779           0.882174   \n",
       "1      2  0.775403  1682.739350  1101.253924           1.205701   \n",
       "2      3  1.693805    86.278676  1099.849115           1.693834   \n",
       "3      4  0.532873   175.368679   319.604405           1.068618   \n",
       "4      5  0.415954   232.176594   199.407524           0.949713   \n",
       "\n",
       "   minor_axis_length  orientation  perimeter  max_intensity-0  \\\n",
       "0           0.801997    -0.423345   2.862370            222.0   \n",
       "1           0.859913     0.097244   3.533700            255.0   \n",
       "2           1.336961    -0.141897   5.177631            202.0   \n",
       "3           0.718817    -0.762373   3.206057            179.0   \n",
       "4           0.587078     0.285941   2.632173            172.0   \n",
       "\n",
       "   max_intensity-1  max_intensity-2  mean_intensity-0  mean_intensity-1  \\\n",
       "0            206.0            191.0        102.339759         87.897992   \n",
       "1            252.0            236.0        169.756166        145.056614   \n",
       "2            194.0            177.0        105.707724         94.388247   \n",
       "3            167.0            145.0         95.444535         80.330343   \n",
       "4            160.0            144.0         84.425287         69.421108   \n",
       "\n",
       "   mean_intensity-2  min_intensity-0  min_intensity-1  min_intensity-2  \n",
       "0         66.669880             31.0             21.0              1.0  \n",
       "1        119.452915             65.0             49.0             24.0  \n",
       "2         79.773672             13.0              2.0              0.0  \n",
       "3         59.197390             15.0              0.0              0.0  \n",
       "4         47.536050             31.0             16.0              0.0  "
      ]
     },
     "execution_count": 17,
     "metadata": {},
     "output_type": "execute_result"
    }
   ],
   "source": [
    "grain_data.head()"
   ]
  },
  {
   "cell_type": "code",
   "execution_count": 21,
   "id": "5a701881-07fa-4662-aafa-d432661fafff",
   "metadata": {},
   "outputs": [],
   "source": [
    "grain_data.to_csv(fname[:-4]+'.csv') # save grain data to CSV file"
   ]
  },
  {
   "cell_type": "code",
   "execution_count": 22,
   "id": "a8663eef",
   "metadata": {
    "execution": {
     "iopub.execute_input": "2024-12-15T21:30:19.433084Z",
     "iopub.status.busy": "2024-12-15T21:30:19.432525Z",
     "iopub.status.idle": "2024-12-15T21:30:19.519229Z",
     "shell.execute_reply": "2024-12-15T21:30:19.518066Z",
     "shell.execute_reply.started": "2024-12-15T21:30:19.433047Z"
    }
   },
   "outputs": [],
   "source": [
    "# plot histogram of grain axis lengths\n",
    "# note that input data needs to be in milimeters\n",
    "fig, ax = seg.plot_histogram_of_axis_lengths(grain_data['major_axis_length'], grain_data['minor_axis_length'], binsize=0.2, xlimits=[0.25, 4])"
   ]
  },
  {
   "cell_type": "markdown",
   "id": "039415c6",
   "metadata": {},
   "source": [
    "## Save mask and grain labels to PNG files"
   ]
  },
  {
   "cell_type": "code",
   "execution_count": 28,
   "id": "c4962ba6",
   "metadata": {},
   "outputs": [
    {
     "data": {
      "text/plain": [
       "True"
      ]
     },
     "execution_count": 28,
     "metadata": {},
     "output_type": "execute_result"
    }
   ],
   "source": [
    "dirname = '/Users/zoltan/Dropbox/Segmentation/images/'\n",
    "# write grayscale mask to PNG file\n",
    "cv2.imwrite(dirname + fname.split('/')[-1][:-4] + '_mask.png', mask_all)\n",
    "# Save the image as a PNG file\n",
    "cv2.imwrite(dirname + fname.split('/')[-1][:-4] + '_image.png', cv2.cvtColor(image, cv2.COLOR_BGR2RGB))"
   ]
  },
  {
   "cell_type": "markdown",
   "id": "77db7f2b-7718-4466-a1d8-41aa3d3d0803",
   "metadata": {},
   "source": [
    "## Run segmentation on large image (new!)\n",
    "In this case 'fname' points to an image that is larger than a few megapixels and has thousands of grains.\n",
    "The 'predict_large_image' function breaks the input image into smaller patches and it runs the segmentation process on each patch.\n",
    "\n",
    "The image used below (from [Mair et al., 2022, Earth Surface Dynamics](https://esurf.copernicus.org/articles/10/953/2022/)) is available [here](https://github.com/zsylvester/segmenteverygrain/blob/main/mair_et_al_L2_DJI_0382_image.jpg)."
   ]
  },
  {
   "cell_type": "code",
   "execution_count": 9,
   "id": "90eed72b-4cad-409a-b7bf-bbad0e5dfa74",
   "metadata": {},
   "outputs": [
    {
     "name": "stdout",
     "output_type": "stream",
     "text": [
      "segmenting image tiles...\n"
     ]
    },
    {
     "name": "stderr",
     "output_type": "stream",
     "text": [
      "100%|█████████████████████████████████████████████████████████████████████████████████████████████████████| 9/9 [00:07<00:00,  1.24it/s]\n",
      "100%|█████████████████████████████████████████████████████████████████████████████████████████████████████| 8/8 [00:06<00:00,  1.25it/s]\n"
     ]
    },
    {
     "name": "stdout",
     "output_type": "stream",
     "text": [
      "creating masks using SAM...\n"
     ]
    },
    {
     "name": "stderr",
     "output_type": "stream",
     "text": [
      "100%|███████████████████████████████████████████████████████████████████████████████████████████████| 3197/3197 [03:56<00:00, 13.51it/s]\n"
     ]
    },
    {
     "name": "stdout",
     "output_type": "stream",
     "text": [
      "finding overlapping polygons...\n"
     ]
    },
    {
     "name": "stderr",
     "output_type": "stream",
     "text": [
      "2887it [00:06, 463.54it/s]\n"
     ]
    },
    {
     "name": "stdout",
     "output_type": "stream",
     "text": [
      "finding best polygons...\n"
     ]
    },
    {
     "name": "stderr",
     "output_type": "stream",
     "text": [
      "100%|████████████████████████████████████████████████████████████████████████████████████████████████| 969/969 [00:09<00:00, 106.43it/s]\n"
     ]
    },
    {
     "name": "stdout",
     "output_type": "stream",
     "text": [
      "creating labeled image...\n",
      "processed patch #1 out of 6 patches\n",
      "segmenting image tiles...\n"
     ]
    },
    {
     "name": "stderr",
     "output_type": "stream",
     "text": [
      "100%|█████████████████████████████████████████████████████████████████████████████████████████████████████| 9/9 [00:07<00:00,  1.21it/s]\n",
      "100%|█████████████████████████████████████████████████████████████████████████████████████████████████████| 8/8 [00:06<00:00,  1.19it/s]\n"
     ]
    },
    {
     "name": "stdout",
     "output_type": "stream",
     "text": [
      "creating masks using SAM...\n"
     ]
    },
    {
     "name": "stderr",
     "output_type": "stream",
     "text": [
      "100%|███████████████████████████████████████████████████████████████████████████████████████████████| 2575/2575 [03:08<00:00, 13.66it/s]\n"
     ]
    },
    {
     "name": "stdout",
     "output_type": "stream",
     "text": [
      "finding overlapping polygons...\n"
     ]
    },
    {
     "name": "stderr",
     "output_type": "stream",
     "text": [
      "2282it [00:08, 278.10it/s]\n"
     ]
    },
    {
     "name": "stdout",
     "output_type": "stream",
     "text": [
      "finding best polygons...\n"
     ]
    },
    {
     "name": "stderr",
     "output_type": "stream",
     "text": [
      "100%|█████████████████████████████████████████████████████████████████████████████████████████████████| 681/681 [00:12<00:00, 53.85it/s]\n"
     ]
    },
    {
     "name": "stdout",
     "output_type": "stream",
     "text": [
      "creating labeled image...\n",
      "processed patch #2 out of 6 patches\n",
      "segmenting image tiles...\n"
     ]
    },
    {
     "name": "stderr",
     "output_type": "stream",
     "text": [
      "100%|█████████████████████████████████████████████████████████████████████████████████████████████████████| 9/9 [00:07<00:00,  1.20it/s]\n",
      "100%|█████████████████████████████████████████████████████████████████████████████████████████████████████| 8/8 [00:06<00:00,  1.17it/s]\n"
     ]
    },
    {
     "name": "stdout",
     "output_type": "stream",
     "text": [
      "creating masks using SAM...\n"
     ]
    },
    {
     "name": "stderr",
     "output_type": "stream",
     "text": [
      "100%|███████████████████████████████████████████████████████████████████████████████████████████████| 2140/2140 [02:24<00:00, 14.78it/s]\n"
     ]
    },
    {
     "name": "stdout",
     "output_type": "stream",
     "text": [
      "finding overlapping polygons...\n"
     ]
    },
    {
     "name": "stderr",
     "output_type": "stream",
     "text": [
      "1894it [00:05, 332.08it/s]\n"
     ]
    },
    {
     "name": "stdout",
     "output_type": "stream",
     "text": [
      "finding best polygons...\n"
     ]
    },
    {
     "name": "stderr",
     "output_type": "stream",
     "text": [
      "100%|█████████████████████████████████████████████████████████████████████████████████████████████████| 595/595 [00:07<00:00, 80.87it/s]\n"
     ]
    },
    {
     "name": "stdout",
     "output_type": "stream",
     "text": [
      "creating labeled image...\n",
      "processed patch #3 out of 6 patches\n",
      "segmenting image tiles...\n"
     ]
    },
    {
     "name": "stderr",
     "output_type": "stream",
     "text": [
      "100%|█████████████████████████████████████████████████████████████████████████████████████████████████████| 9/9 [00:07<00:00,  1.25it/s]\n",
      "100%|█████████████████████████████████████████████████████████████████████████████████████████████████████| 8/8 [00:06<00:00,  1.26it/s]\n"
     ]
    },
    {
     "name": "stdout",
     "output_type": "stream",
     "text": [
      "creating masks using SAM...\n"
     ]
    },
    {
     "name": "stderr",
     "output_type": "stream",
     "text": [
      "100%|███████████████████████████████████████████████████████████████████████████████████████████████| 3564/3564 [03:59<00:00, 14.87it/s]\n"
     ]
    },
    {
     "name": "stdout",
     "output_type": "stream",
     "text": [
      "finding overlapping polygons...\n"
     ]
    },
    {
     "name": "stderr",
     "output_type": "stream",
     "text": [
      "3312it [00:04, 729.47it/s]\n"
     ]
    },
    {
     "name": "stdout",
     "output_type": "stream",
     "text": [
      "finding best polygons...\n"
     ]
    },
    {
     "name": "stderr",
     "output_type": "stream",
     "text": [
      "100%|██████████████████████████████████████████████████████████████████████████████████████████████| 1157/1157 [00:06<00:00, 190.14it/s]\n"
     ]
    },
    {
     "name": "stdout",
     "output_type": "stream",
     "text": [
      "creating labeled image...\n",
      "processed patch #4 out of 6 patches\n",
      "segmenting image tiles...\n"
     ]
    },
    {
     "name": "stderr",
     "output_type": "stream",
     "text": [
      "100%|█████████████████████████████████████████████████████████████████████████████████████████████████████| 9/9 [00:07<00:00,  1.21it/s]\n",
      "100%|█████████████████████████████████████████████████████████████████████████████████████████████████████| 8/8 [00:06<00:00,  1.24it/s]\n"
     ]
    },
    {
     "name": "stdout",
     "output_type": "stream",
     "text": [
      "creating masks using SAM...\n"
     ]
    },
    {
     "name": "stderr",
     "output_type": "stream",
     "text": [
      "100%|███████████████████████████████████████████████████████████████████████████████████████████████| 2484/2484 [02:48<00:00, 14.74it/s]\n"
     ]
    },
    {
     "name": "stdout",
     "output_type": "stream",
     "text": [
      "finding overlapping polygons...\n"
     ]
    },
    {
     "name": "stderr",
     "output_type": "stream",
     "text": [
      "2242it [00:05, 390.88it/s]\n"
     ]
    },
    {
     "name": "stdout",
     "output_type": "stream",
     "text": [
      "finding best polygons...\n"
     ]
    },
    {
     "name": "stderr",
     "output_type": "stream",
     "text": [
      "100%|█████████████████████████████████████████████████████████████████████████████████████████████████| 709/709 [00:07<00:00, 98.42it/s]\n"
     ]
    },
    {
     "name": "stdout",
     "output_type": "stream",
     "text": [
      "creating labeled image...\n",
      "processed patch #5 out of 6 patches\n",
      "segmenting image tiles...\n"
     ]
    },
    {
     "name": "stderr",
     "output_type": "stream",
     "text": [
      "100%|█████████████████████████████████████████████████████████████████████████████████████████████████████| 9/9 [00:07<00:00,  1.19it/s]\n",
      "100%|█████████████████████████████████████████████████████████████████████████████████████████████████████| 8/8 [00:06<00:00,  1.23it/s]\n"
     ]
    },
    {
     "name": "stdout",
     "output_type": "stream",
     "text": [
      "creating masks using SAM...\n"
     ]
    },
    {
     "name": "stderr",
     "output_type": "stream",
     "text": [
      "100%|███████████████████████████████████████████████████████████████████████████████████████████████| 1978/1978 [02:06<00:00, 15.58it/s]\n"
     ]
    },
    {
     "name": "stdout",
     "output_type": "stream",
     "text": [
      "finding overlapping polygons...\n"
     ]
    },
    {
     "name": "stderr",
     "output_type": "stream",
     "text": [
      "1707it [00:06, 259.20it/s]\n"
     ]
    },
    {
     "name": "stdout",
     "output_type": "stream",
     "text": [
      "finding best polygons...\n"
     ]
    },
    {
     "name": "stderr",
     "output_type": "stream",
     "text": [
      "100%|█████████████████████████████████████████████████████████████████████████████████████████████████| 509/509 [00:12<00:00, 41.57it/s]\n"
     ]
    },
    {
     "name": "stdout",
     "output_type": "stream",
     "text": [
      "creating labeled image...\n",
      "processed patch #6 out of 6 patches\n"
     ]
    },
    {
     "name": "stderr",
     "output_type": "stream",
     "text": [
      "4946it [00:02, 2167.19it/s]\n",
      "100%|████████████████████████████████████████████████████████████████████████████████████████████████| 336/336 [00:00<00:00, 610.84it/s]\n"
     ]
    }
   ],
   "source": [
    "from PIL import Image\n",
    "Image.MAX_IMAGE_PIXELS = None # needed if working with very large images\n",
    "fname = \"mair_et_al_L2_DJI_0382_image.jpg\"\n",
    "all_grains, image_pred, all_coords = seg.predict_large_image(fname, model, sam, min_area=400.0, patch_size=2000, overlap=200)"
   ]
  },
  {
   "cell_type": "code",
   "execution_count": 13,
   "id": "d1e52b04-e54e-44e6-8061-b8d0c0c76970",
   "metadata": {},
   "outputs": [
    {
     "name": "stderr",
     "output_type": "stream",
     "text": [
      "100%|██████████████████████████████████████████████████████████████████████████████████████████████| 4567/4567 [00:14<00:00, 322.67it/s]\n"
     ]
    }
   ],
   "source": [
    "# plot results\n",
    "image = np.array(load_img(fname))\n",
    "fig, ax = plt.subplots(figsize=(15,10))\n",
    "plt.xticks([])\n",
    "plt.yticks([])\n",
    "seg.plot_image_w_colorful_grains(image, all_grains, ax, cmap='Paired')\n",
    "plt.axis('equal')\n",
    "plt.xlim([0, np.shape(image)[1]])\n",
    "plt.ylim([np.shape(image)[0], 0]);"
   ]
  },
  {
   "cell_type": "code",
   "execution_count": 11,
   "id": "4dae73a8-f9ce-4fb9-8661-19d4c03340f3",
   "metadata": {},
   "outputs": [],
   "source": [
    "# this is a faster way of deleting false positives (because it avoids highlighting and deleting the 'bad' grains)\n",
    "grain_inds = []\n",
    "cid1 = fig.canvas.mpl_connect('button_press_event', lambda event: seg.onclick2(event, all_grains, grain_inds, ax=ax, select_only=True))"
   ]
  },
  {
   "cell_type": "code",
   "execution_count": 12,
   "id": "98b9650b-c6d9-4c23-85cc-b0234f3d2b2b",
   "metadata": {},
   "outputs": [
    {
     "name": "stderr",
     "output_type": "stream",
     "text": [
      "100%|███████████████████████████████████████████████████████████████████████████████████████████████████| 14/14 [00:01<00:00, 13.45it/s]\n"
     ]
    }
   ],
   "source": [
    "# delete polygons from 'all_grains'\n",
    "grain_inds = np.unique(grain_inds)\n",
    "grain_inds = sorted(grain_inds, reverse=True)\n",
    "for ind in tqdm(grain_inds):\n",
    "    all_grains.remove(all_grains[ind])"
   ]
  },
  {
   "cell_type": "markdown",
   "id": "74b9e579-8c81-4baf-9262-eb4b1584c646",
   "metadata": {},
   "source": [
    "After plotting the results, you will want to use the functions for deleting, merging, and adding grains (see above), before saving the results (same workflow as for a small image)."
   ]
  },
  {
   "cell_type": "markdown",
   "id": "d25703e4-2a4e-4e98-aa49-ff9b816b2ec0",
   "metadata": {},
   "source": [
    "### Finetuning the base model"
   ]
  },
  {
   "cell_type": "code",
   "execution_count": null,
   "id": "396f62c8-be0f-47fe-b660-2c55e2d51d42",
   "metadata": {},
   "outputs": [],
   "source": [
    "# patchify images and masks\n",
    "input_dir = \"./Masks_and_images/\" # the input directory should contain files with 'image' and 'mask' in their filenames\n",
    "patch_dir = \"./New_project/\" # a directory called \"Patches\" will be created here\n",
    "image_dir, mask_dir = seg.patchify_training_data(input_dir, patch_dir)"
   ]
  },
  {
   "cell_type": "code",
   "execution_count": null,
   "id": "05f98137-2dfd-4b88-8dc5-e4e79fa343ad",
   "metadata": {},
   "outputs": [],
   "source": [
    "# create training, validation, and test datasets\n",
    "train_dataset, val_dataset, test_dataset = seg.create_train_val_test_data(image_dir, mask_dir, augmentation=True)"
   ]
  },
  {
   "cell_type": "code",
   "execution_count": null,
   "id": "43650ad9-c2e5-4fc2-856f-4f39b8f1d9e3",
   "metadata": {},
   "outputs": [],
   "source": [
    "# load base model weights and train the model with the new data\n",
    "model = seg.create_and_train_model(train_dataset, val_dataset, test_dataset, model_file='seg_model.keras', epochs=100)"
   ]
  },
  {
   "cell_type": "code",
   "execution_count": null,
   "id": "41375c1f-5f16-496f-b5e8-497626eb89dc",
   "metadata": {},
   "outputs": [],
   "source": [
    "# save finetuned model as new model (this then can be loaded using \"model = load_model(\"new_model.keras\", custom_objects={'weighted_crossentropy': seg.weighted_crossentropy})\"\n",
    "model.save('new_model.keras')"
   ]
  }
 ],
 "metadata": {
  "kernelspec": {
   "display_name": "Python 3 (ipykernel)",
   "language": "python",
   "name": "python3"
  },
  "language_info": {
   "codemirror_mode": {
    "name": "ipython",
    "version": 3
   },
   "file_extension": ".py",
   "mimetype": "text/x-python",
   "name": "python",
   "nbconvert_exporter": "python",
   "pygments_lexer": "ipython3",
   "version": "3.9.20"
  }
 },
 "nbformat": 4,
 "nbformat_minor": 5
}
