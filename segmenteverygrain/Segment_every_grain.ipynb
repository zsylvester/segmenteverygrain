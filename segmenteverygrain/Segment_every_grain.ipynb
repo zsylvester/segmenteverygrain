{
 "cells": [
  {
   "cell_type": "code",
   "execution_count": 15,
   "id": "f2ebc518",
   "metadata": {},
   "outputs": [],
   "source": [
    "import pandas as pd\n",
    "import numpy as np\n",
    "import matplotlib.pyplot as plt\n",
    "import cv2\n",
    "from skimage import measure\n",
    "from tensorflow.keras.optimizers import Adam\n",
    "from tensorflow.keras.preprocessing.image import load_img\n",
    "from importlib import reload\n",
    "import segmenteverygrain as seg\n",
    "from segment_anything import sam_model_registry, SamAutomaticMaskGenerator, SamPredictor\n",
    "from tqdm import trange\n",
    "%matplotlib qt"
   ]
  },
  {
   "cell_type": "code",
   "execution_count": 16,
   "id": "fe1bd2bc",
   "metadata": {},
   "outputs": [],
   "source": [
    "model = seg.Unet()\n",
    "model.compile(optimizer=Adam(), loss=seg.weighted_crossentropy, metrics=[\"accuracy\"])\n",
    "model.load_weights('./checkpoints/seg_model')\n",
    "\n",
    "# the SAM model checkpoints can be downloaded from: https://dl.fbaipublicfiles.com/segment_anything/sam_vit_h_4b8939.pth\n",
    "sam = sam_model_registry[\"default\"](checkpoint=\"/Users/zoltan/Dropbox/Segmentation/sam_vit_h_4b8939.pth\")"
   ]
  },
  {
   "cell_type": "code",
   "execution_count": null,
   "id": "94bf3f94",
   "metadata": {
    "scrolled": false
   },
   "outputs": [
    {
     "name": "stderr",
     "output_type": "stream",
     "text": [
      "100%|████████████████████████████████████████████████████████████████████████████████████████████████████████████████████████████████████████████████████████████████████████████████████████████████████████████████████████| 7/7 [00:01<00:00,  5.91it/s]\n",
      "100%|████████████████████████████████████████████████████████████████████████████████████████████████████████████████████████████████████████████████████████████████████████████████████████████████████████████████████████| 6/6 [00:00<00:00,  6.29it/s]\n",
      "100%|████████████████████████████████████████████████████████████████████████████████████████████████████████████████████████████████████████████████████████████████████████████████████████████████████████████████████| 33/33 [00:00<00:00, 2193.57it/s]\n",
      "100%|███████████████████████████████████████████████████████████████████████████████████████████████████████████████████████████████████████████████████████████████████████████████████████████████████████████████████| 121/121 [00:00<00:00, 210.05it/s]\n",
      "100%|██████████████████████████████████████████████████████████████████████████████████████████████████████████████████████████████████████████████████████████████████████████████████████████████████████████████████| 130/130 [00:00<00:00, 1653.73it/s]\n",
      " 26%|███████████████████████████████████████████████████████▋                                                                                                                                                             | 34/130 [00:02<00:06, 14.74it/s]"
     ]
    }
   ],
   "source": [
    "# fname = '../images/bucegi_conglomerate_1_image.png'\n",
    "fname = '../images/A003_20201229_103823_image.png'\n",
    "\n",
    "big_im = np.array(load_img(fname))\n",
    "big_im_pred = seg.predict_big_image(big_im, model, I=256)\n",
    "small_grain_threshold = 25 # objects that have an area smaller than this (in pixels) will be deleted\n",
    "selem_size = 6 # increasing this parameter reduces the tendency to split grains\n",
    "dilate_size = 3\n",
    "splitting = True # you can turn grain splitting on or off. Usually it is better to set this to 'True'\n",
    "labels, grain_data = seg.label_and_dilate_grains(big_im, big_im_pred, \n",
    "                                                small_grain_threshold, dilate_size, selem_size, splitting)\n",
    "all_grains, labels, mask_all, fig, ax = seg.sam_segmentation(sam, big_im, big_im_pred, grain_data)"
   ]
  },
  {
   "cell_type": "code",
   "execution_count": 29,
   "id": "e1761761",
   "metadata": {},
   "outputs": [],
   "source": [
    "# delete or merge grains that were segmented automatically\n",
    "# click on grain that you want to remove and press the 'x' key\n",
    "# click on two grains that you want to merge and press the 'm' key\n",
    "grain_inds = []\n",
    "cid1 = fig.canvas.mpl_connect('button_press_event', lambda event: seg.onclick2(event, all_grains, grain_inds, ax))\n",
    "cid2 = fig.canvas.mpl_connect('key_press_event', lambda event: seg.onpress2(event, all_grains, grain_inds, fig, ax))"
   ]
  },
  {
   "cell_type": "code",
   "execution_count": 28,
   "id": "8b6987ae",
   "metadata": {},
   "outputs": [],
   "source": [
    "# run this cell if you do not want to delete / merge existing grains anymore\n",
    "fig.canvas.mpl_disconnect(cid1)\n",
    "fig.canvas.mpl_disconnect(cid2)"
   ]
  },
  {
   "cell_type": "code",
   "execution_count": 26,
   "id": "04b1a138",
   "metadata": {},
   "outputs": [],
   "source": [
    "# add new grains using SAM\n",
    "# click on grain that you want to add\n",
    "# press the 'x' key if you want to delete it\n",
    "# press the 'm' key if you want to merge the last two grains that you clicked\n",
    "# right click outside the grain if you want to (try to) restrict the garin to a smaller mask\n",
    "predictor = SamPredictor(sam)\n",
    "predictor.set_image(big_im) # this can take a while\n",
    "coords = []\n",
    "cid3 = fig.canvas.mpl_connect('button_press_event', lambda event: seg.onclick(event, ax, coords, big_im, predictor))\n",
    "cid4 = fig.canvas.mpl_connect('key_press_event', lambda event: seg.onpress(event, ax, fig))"
   ]
  },
  {
   "cell_type": "code",
   "execution_count": 30,
   "id": "4355b526",
   "metadata": {},
   "outputs": [
    {
     "name": "stderr",
     "output_type": "stream",
     "text": [
      "100%|██████████████████████████████████████████████████████████████████████████████████████████████████████████████████████████████████████████████████████████████████████████████████████████████████████████████████| 1782/1782 [00:42<00:00, 41.86it/s]\n"
     ]
    }
   ],
   "source": [
    "# use this function to generate an updated set of grains\n",
    "all_grains, labels, mask_all = seg.get_grains_from_patches(ax, big_im)"
   ]
  },
  {
   "cell_type": "code",
   "execution_count": 34,
   "id": "c4962ba6",
   "metadata": {},
   "outputs": [
    {
     "data": {
      "text/plain": [
       "True"
      ]
     },
     "execution_count": 34,
     "metadata": {},
     "output_type": "execute_result"
    }
   ],
   "source": [
    "dirname = '/Users/zoltan/Dropbox/Segmentation/images/'\n",
    "# write grayscale mask to PNG file\n",
    "cv2.imwrite(dirname + fname.split('/')[-1][:-4] + '_mask.png', mask_all)\n",
    "# Define a colormap using matplotlib\n",
    "num_classes = len(all_grains)\n",
    "cmap = plt.get_cmap('viridis', num_classes)\n",
    "# Map each class label to a unique color using the colormap\n",
    "vis_mask = cmap(labels.astype(np.uint16))[:,:,:3] * 255\n",
    "vis_mask = vis_mask.astype(np.uint8)\n",
    "# Save the mask as a PNG file\n",
    "cv2.imwrite(dirname + fname.split('/')[-1][:-4] + '_labels.png', vis_mask)\n",
    "# Save the image as a PNG file\n",
    "cv2.imwrite(dirname + fname.split('/')[-1][:-4] + '_image.png', cv2.cvtColor(big_im, cv2.COLOR_BGR2RGB))"
   ]
  }
 ],
 "metadata": {
  "kernelspec": {
   "display_name": "Python 3 (ipykernel)",
   "language": "python",
   "name": "python3"
  },
  "language_info": {
   "codemirror_mode": {
    "name": "ipython",
    "version": 3
   },
   "file_extension": ".py",
   "mimetype": "text/x-python",
   "name": "python",
   "nbconvert_exporter": "python",
   "pygments_lexer": "ipython3",
   "version": "3.8.15"
  }
 },
 "nbformat": 4,
 "nbformat_minor": 5
}
