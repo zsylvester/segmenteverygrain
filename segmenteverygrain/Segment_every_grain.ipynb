{
 "cells": [
  {
   "cell_type": "markdown",
   "id": "95a8f02b",
   "metadata": {},
   "source": [
    "## Import packages"
   ]
  },
  {
   "cell_type": "code",
   "execution_count": 2,
   "id": "f2ebc518",
   "metadata": {},
   "outputs": [],
   "source": [
    "import pandas as pd\n",
    "import numpy as np\n",
    "import matplotlib.pyplot as plt\n",
    "import cv2\n",
    "from skimage import measure\n",
    "from skimage.measure import regionprops, regionprops_table\n",
    "from keras.optimizers import Adam\n",
    "from keras.utils import load_img\n",
    "from keras.saving import load_model\n",
    "from importlib import reload\n",
    "import segmenteverygrain as seg\n",
    "from segment_anything import sam_model_registry, SamAutomaticMaskGenerator, SamPredictor\n",
    "from tqdm import trange, tqdm\n",
    "%matplotlib qt"
   ]
  },
  {
   "cell_type": "code",
   "execution_count": 3,
   "id": "3d1e718d-c321-4d6b-89ca-c67b0ec3f17f",
   "metadata": {},
   "outputs": [
    {
     "data": {
      "text/plain": [
       "<module 'segmenteverygrain' from '/Users/zoltan/Dropbox/Segmentation/segmenteverygrain/segmenteverygrain/segmenteverygrain.py'>"
      ]
     },
     "execution_count": 3,
     "metadata": {},
     "output_type": "execute_result"
    }
   ],
   "source": [
    "reload(seg)"
   ]
  },
  {
   "cell_type": "markdown",
   "id": "f474ac20",
   "metadata": {},
   "source": [
    "## Load models"
   ]
  },
  {
   "cell_type": "code",
   "execution_count": null,
   "id": "fe1bd2bc",
   "metadata": {},
   "outputs": [],
   "source": [
    "model = load_model(\"seg_model.keras\", custom_objects={'weighted_crossentropy': seg.weighted_crossentropy})\n",
    "\n",
    "# the SAM model checkpoints can be downloaded from: https://dl.fbaipublicfiles.com/segment_anything/sam_vit_h_4b8939.pth\n",
    "sam = sam_model_registry[\"default\"](checkpoint=\"/Users/zoltan/Dropbox/Segmentation/sam_vit_h_4b8939.pth\")"
   ]
  },
  {
   "cell_type": "markdown",
   "id": "a3c1dfc6",
   "metadata": {},
   "source": [
    "## Run segmentation\n",
    "\n",
    "Grains are supposed to be well defined in the image; e.g., if a grain consists of only a few pixels, it is unlikely to be detected.\n",
    "\n",
    "The segmentation can take a few minutes even for medium-sized images. Images with ~2000 pixels along their largest dimension are a good start and allow the user to get an idea about how well the segmentation works.\n",
    "\n",
    "If you have a much larger image, see the section **\"Run segmentation on large image\"** at the end of the notebook. Running the `predict_large_image` function takes a lot longer (e.g., several hours), but it is possible to analyze very large images with tens of thousands of grains.\n",
    "\n",
    "Image used below is available from [here](https://github.com/zsylvester/segmenteverygrain/blob/main/torrey_pines_beach.jpeg)."
   ]
  },
  {
   "cell_type": "code",
   "execution_count": 6,
   "id": "94bf3f94",
   "metadata": {},
   "outputs": [
    {
     "name": "stdout",
     "output_type": "stream",
     "text": [
      "segmenting image tiles...\n"
     ]
    },
    {
     "name": "stderr",
     "output_type": "stream",
     "text": [
      "  0%|                                                                                                                | 0/7 [00:00<?, ?it/s]2024-11-21 13:00:44.122908: I tensorflow/core/grappler/optimizers/custom_graph_optimizer_registry.cc:117] Plugin optimizer for device_type GPU is enabled.\n",
      "100%|████████████████████████████████████████████████████████████████████████████████████████████████████████| 7/7 [00:02<00:00,  2.66it/s]\n",
      "100%|████████████████████████████████████████████████████████████████████████████████████████████████████████| 6/6 [00:00<00:00,  6.85it/s]\n"
     ]
    }
   ],
   "source": [
    "reload(seg)\n",
    "# replace this with the path to your image:\n",
    "fname = '../torrey_pines_beach.jpeg'\n",
    "\n",
    "image = np.array(load_img(fname))\n",
    "image_pred = seg.predict_image(image, model, I=256)\n",
    "\n",
    "# decreasing the 'dbs_max_dist' parameter results in more SAM prompts (and longer processing times):\n",
    "labels, coords = seg.label_grains(image, image_pred, dbs_max_dist=20.0) # Unet prediction"
   ]
  },
  {
   "cell_type": "markdown",
   "id": "7c091d4c",
   "metadata": {},
   "source": [
    "Use the figure created in the next cell to check the quality of the Unet labeling (sometimes it doesn't work at all) and the distribution of SAM prompts (= black dots). If the Unet prediction is of poor quality, it is a good idea to create some training data and fine tune the base model so that it works better with the images of interest."
   ]
  },
  {
   "cell_type": "code",
   "execution_count": 7,
   "id": "e031a13f",
   "metadata": {},
   "outputs": [],
   "source": [
    "fig, ax = plt.subplots(figsize=(15,10))\n",
    "ax.imshow(image_pred)\n",
    "plt.scatter(np.array(coords)[:,0], np.array(coords)[:,1], c='k')\n",
    "plt.xticks([])\n",
    "plt.yticks([]);"
   ]
  },
  {
   "cell_type": "code",
   "execution_count": 8,
   "id": "99bcedac-6a3f-4f1d-97a9-b167fa14994c",
   "metadata": {},
   "outputs": [
    {
     "name": "stdout",
     "output_type": "stream",
     "text": [
      "creating masks using SAM...\n"
     ]
    },
    {
     "name": "stderr",
     "output_type": "stream",
     "text": [
      "100%|██████████████████████████████████████████████████████████████████████████████████████████████████| 1041/1041 [00:48<00:00, 21.58it/s]\n"
     ]
    },
    {
     "name": "stdout",
     "output_type": "stream",
     "text": [
      "finding overlapping polygons...\n"
     ]
    },
    {
     "name": "stderr",
     "output_type": "stream",
     "text": [
      "1041it [00:02, 440.79it/s]\n"
     ]
    },
    {
     "name": "stdout",
     "output_type": "stream",
     "text": [
      "finding best polygons...\n"
     ]
    },
    {
     "name": "stderr",
     "output_type": "stream",
     "text": [
      "100%|████████████████████████████████████████████████████████████████████████████████████████████████████| 394/394 [00:05<00:00, 67.77it/s]\n"
     ]
    },
    {
     "name": "stdout",
     "output_type": "stream",
     "text": [
      "creating labeled image...\n"
     ]
    },
    {
     "name": "stderr",
     "output_type": "stream",
     "text": [
      "100%|███████████████████████████████████████████████████████████████████████████████████████████████████| 467/467 [00:01<00:00, 345.20it/s]\n"
     ]
    }
   ],
   "source": [
    "# SAM segmentation, using the point prompts from the Unet:\n",
    "all_grains, labels, mask_all, grain_data, fig, ax = seg.sam_segmentation(sam, image, image_pred, \n",
    "            coords, labels, min_area=400.0, plot_image=True, remove_edge_grains=False, remove_large_objects=False)"
   ]
  },
  {
   "cell_type": "markdown",
   "id": "968737c4",
   "metadata": {},
   "source": [
    "## Delete or merge grains in segmentation result\n",
    "* click on the grain that you want to remove and press the 'x' key\n",
    "* click on two grains that you want to merge and press the 'm' key (they have to be the last two grains you clicked on)\n",
    "* press the 'g' key to hide the grain masks (so that you can see the original image better); press the 'g' key again to show the grain masks"
   ]
  },
  {
   "cell_type": "code",
   "execution_count": 10,
   "id": "e1761761",
   "metadata": {},
   "outputs": [],
   "source": [
    "grain_inds = []\n",
    "cid1 = fig.canvas.mpl_connect('button_press_event', \n",
    "                              lambda event: seg.onclick2(event, all_grains, grain_inds, ax=ax))\n",
    "cid2 = fig.canvas.mpl_connect('key_press_event', \n",
    "                              lambda event: seg.onpress2(event, all_grains, grain_inds, fig=fig, ax=ax))"
   ]
  },
  {
   "cell_type": "markdown",
   "id": "5d08448d",
   "metadata": {},
   "source": [
    "Run this cell if you do not want to delete / merge existing grains anymore; it is a good idea to do this before moving on to the next step."
   ]
  },
  {
   "cell_type": "code",
   "execution_count": 11,
   "id": "8b6987ae",
   "metadata": {},
   "outputs": [],
   "source": [
    "fig.canvas.mpl_disconnect(cid1)\n",
    "fig.canvas.mpl_disconnect(cid2)"
   ]
  },
  {
   "cell_type": "markdown",
   "id": "b1ef7d75",
   "metadata": {},
   "source": [
    "Use this function to update the 'labels' array after deleting and merging grains (the 'all_grains' list is updated when doing the deletion and merging):"
   ]
  },
  {
   "cell_type": "code",
   "execution_count": 12,
   "id": "9f7b8082",
   "metadata": {},
   "outputs": [
    {
     "name": "stderr",
     "output_type": "stream",
     "text": [
      "100%|██████████████████████████████████████████████████████████████████████████████████████████████████| 462/462 [00:00<00:00, 4761.76it/s]\n",
      "462it [00:00, 1766.29it/s]\n"
     ]
    }
   ],
   "source": [
    "all_grains, labels, mask_all = seg.get_grains_from_patches(ax, image)"
   ]
  },
  {
   "cell_type": "markdown",
   "id": "36ca344c",
   "metadata": {},
   "source": [
    "Plot the updated set of grains:"
   ]
  },
  {
   "cell_type": "code",
   "execution_count": 13,
   "id": "7e0f7f02",
   "metadata": {},
   "outputs": [
    {
     "name": "stderr",
     "output_type": "stream",
     "text": [
      "100%|███████████████████████████████████████████████████████████████████████████████████████████████████| 462/462 [00:01<00:00, 310.91it/s]\n"
     ]
    }
   ],
   "source": [
    "fig, ax = plt.subplots(figsize=(15,10))\n",
    "plt.xticks([])\n",
    "plt.yticks([])\n",
    "seg.plot_image_w_colorful_grains(image, all_grains, ax, cmap='Paired', plot_image=True)\n",
    "# seg.plot_grain_axes_and_centroids(all_grains, labels, ax, linewidth=1, markersize=10)\n",
    "plt.xlim([0, np.shape(image)[1]])\n",
    "plt.ylim([np.shape(image)[0], 0]);"
   ]
  },
  {
   "cell_type": "markdown",
   "id": "ab7201a5",
   "metadata": {},
   "source": [
    "## Add new grains using the Segment Anything Model\n",
    "\n",
    "* click on unsegmented grain that you want to add\n",
    "* press the 'x' key if you want to delete the last grain you added\n",
    "* press the 'm' key if you want to merge the last two grains that you added\n",
    "* right click outside the grain (but inside the most recent mask) if you want to restrict the grain to a smaller mask - this adds a background prompt"
   ]
  },
  {
   "cell_type": "code",
   "execution_count": 14,
   "id": "04b1a138",
   "metadata": {},
   "outputs": [],
   "source": [
    "predictor = SamPredictor(sam)\n",
    "predictor.set_image(image) # this can take a while\n",
    "coords = []\n",
    "cid3 = fig.canvas.mpl_connect('button_press_event', lambda event: seg.onclick(event, ax, coords, image, predictor))\n",
    "cid4 = fig.canvas.mpl_connect('key_press_event', lambda event: seg.onpress(event, ax, fig))"
   ]
  },
  {
   "cell_type": "code",
   "execution_count": 15,
   "id": "02386a92",
   "metadata": {},
   "outputs": [],
   "source": [
    "fig.canvas.mpl_disconnect(cid3)\n",
    "fig.canvas.mpl_disconnect(cid4)"
   ]
  },
  {
   "cell_type": "markdown",
   "id": "6ae4b89a",
   "metadata": {},
   "source": [
    "After you are done with the deletion / addition of grain masks, run this cell to generate an updated set of grains:"
   ]
  },
  {
   "cell_type": "code",
   "execution_count": 16,
   "id": "4355b526",
   "metadata": {},
   "outputs": [
    {
     "name": "stderr",
     "output_type": "stream",
     "text": [
      "100%|██████████████████████████████████████████████████████████████████████████████████████████████████| 465/465 [00:00<00:00, 4099.44it/s]\n",
      "465it [00:00, 1680.37it/s]\n"
     ]
    }
   ],
   "source": [
    "all_grains, labels, mask_all = seg.get_grains_from_patches(ax, image)"
   ]
  },
  {
   "cell_type": "markdown",
   "id": "768a05d2",
   "metadata": {},
   "source": [
    "## Get grain size distribution"
   ]
  },
  {
   "cell_type": "markdown",
   "id": "96892a89",
   "metadata": {},
   "source": [
    "Run this cell and then click (left mouse button) on one end of the scale bar in the image and click (right mouse button) on the other end of the scale bar:"
   ]
  },
  {
   "cell_type": "code",
   "execution_count": 17,
   "id": "869c6cd4",
   "metadata": {},
   "outputs": [
    {
     "name": "stdout",
     "output_type": "stream",
     "text": [
      "number of pixels: 91.06\n"
     ]
    }
   ],
   "source": [
    "cid5 = fig.canvas.mpl_connect('button_press_event', lambda event: seg.click_for_scale(event, ax))"
   ]
  },
  {
   "cell_type": "markdown",
   "id": "658e2f0a",
   "metadata": {},
   "source": [
    "Use the length of the scale bar in pixels (it should be printed above) to get the scale of the image (in units / pixel):"
   ]
  },
  {
   "cell_type": "code",
   "execution_count": 18,
   "id": "7893cfb7",
   "metadata": {},
   "outputs": [],
   "source": [
    "n_of_units = 1000\n",
    "units_per_pixel = n_of_units/1552.77 # length of scale bar in pixels"
   ]
  },
  {
   "cell_type": "code",
   "execution_count": 19,
   "id": "b56c5732",
   "metadata": {},
   "outputs": [],
   "source": [
    "props = regionprops_table(labels.astype('int'), intensity_image = image, properties =\\\n",
    "        ('label', 'area', 'centroid', 'major_axis_length', 'minor_axis_length', \n",
    "         'orientation', 'perimeter', 'max_intensity', 'mean_intensity', 'min_intensity'))\n",
    "grain_data = pd.DataFrame(props)\n",
    "grain_data['major_axis_length'] = grain_data['major_axis_length'].values*units_per_pixel\n",
    "grain_data['minor_axis_length'] = grain_data['minor_axis_length'].values*units_per_pixel\n",
    "grain_data['perimeter'] = grain_data['perimeter'].values*units_per_pixel\n",
    "grain_data['area'] = grain_data['area'].values*units_per_pixel**2"
   ]
  },
  {
   "cell_type": "code",
   "execution_count": 20,
   "id": "202f5650",
   "metadata": {},
   "outputs": [
    {
     "data": {
      "text/html": [
       "<div>\n",
       "<style scoped>\n",
       "    .dataframe tbody tr th:only-of-type {\n",
       "        vertical-align: middle;\n",
       "    }\n",
       "\n",
       "    .dataframe tbody tr th {\n",
       "        vertical-align: top;\n",
       "    }\n",
       "\n",
       "    .dataframe thead th {\n",
       "        text-align: right;\n",
       "    }\n",
       "</style>\n",
       "<table border=\"1\" class=\"dataframe\">\n",
       "  <thead>\n",
       "    <tr style=\"text-align: right;\">\n",
       "      <th></th>\n",
       "      <th>label</th>\n",
       "      <th>area</th>\n",
       "      <th>centroid-0</th>\n",
       "      <th>centroid-1</th>\n",
       "      <th>major_axis_length</th>\n",
       "      <th>minor_axis_length</th>\n",
       "      <th>orientation</th>\n",
       "      <th>perimeter</th>\n",
       "      <th>max_intensity-0</th>\n",
       "      <th>max_intensity-1</th>\n",
       "      <th>max_intensity-2</th>\n",
       "      <th>mean_intensity-0</th>\n",
       "      <th>mean_intensity-1</th>\n",
       "      <th>mean_intensity-2</th>\n",
       "      <th>min_intensity-0</th>\n",
       "      <th>min_intensity-1</th>\n",
       "      <th>min_intensity-2</th>\n",
       "    </tr>\n",
       "  </thead>\n",
       "  <tbody>\n",
       "    <tr>\n",
       "      <th>0</th>\n",
       "      <td>1</td>\n",
       "      <td>819.130009</td>\n",
       "      <td>863.925063</td>\n",
       "      <td>25.706329</td>\n",
       "      <td>52.831692</td>\n",
       "      <td>25.900815</td>\n",
       "      <td>1.094589</td>\n",
       "      <td>141.762715</td>\n",
       "      <td>253.0</td>\n",
       "      <td>255.0</td>\n",
       "      <td>255.0</td>\n",
       "      <td>169.554937</td>\n",
       "      <td>175.094177</td>\n",
       "      <td>171.145823</td>\n",
       "      <td>0.0</td>\n",
       "      <td>0.0</td>\n",
       "      <td>0.0</td>\n",
       "    </tr>\n",
       "    <tr>\n",
       "      <th>1</th>\n",
       "      <td>2</td>\n",
       "      <td>195.761703</td>\n",
       "      <td>151.879237</td>\n",
       "      <td>916.902542</td>\n",
       "      <td>24.175447</td>\n",
       "      <td>12.199160</td>\n",
       "      <td>0.800688</td>\n",
       "      <td>64.767185</td>\n",
       "      <td>116.0</td>\n",
       "      <td>130.0</td>\n",
       "      <td>141.0</td>\n",
       "      <td>28.425847</td>\n",
       "      <td>32.326271</td>\n",
       "      <td>34.319915</td>\n",
       "      <td>0.0</td>\n",
       "      <td>0.0</td>\n",
       "      <td>0.0</td>\n",
       "    </tr>\n",
       "    <tr>\n",
       "      <th>2</th>\n",
       "      <td>3</td>\n",
       "      <td>612.584822</td>\n",
       "      <td>553.547055</td>\n",
       "      <td>1255.301963</td>\n",
       "      <td>30.464817</td>\n",
       "      <td>27.261525</td>\n",
       "      <td>-0.075191</td>\n",
       "      <td>102.340777</td>\n",
       "      <td>235.0</td>\n",
       "      <td>233.0</td>\n",
       "      <td>210.0</td>\n",
       "      <td>143.442112</td>\n",
       "      <td>138.888287</td>\n",
       "      <td>123.955315</td>\n",
       "      <td>4.0</td>\n",
       "      <td>4.0</td>\n",
       "      <td>4.0</td>\n",
       "    </tr>\n",
       "    <tr>\n",
       "      <th>3</th>\n",
       "      <td>4</td>\n",
       "      <td>382.813670</td>\n",
       "      <td>589.889491</td>\n",
       "      <td>901.600217</td>\n",
       "      <td>34.042846</td>\n",
       "      <td>15.557934</td>\n",
       "      <td>1.403738</td>\n",
       "      <td>87.040791</td>\n",
       "      <td>234.0</td>\n",
       "      <td>218.0</td>\n",
       "      <td>195.0</td>\n",
       "      <td>76.784399</td>\n",
       "      <td>63.483207</td>\n",
       "      <td>51.793066</td>\n",
       "      <td>3.0</td>\n",
       "      <td>2.0</td>\n",
       "      <td>0.0</td>\n",
       "    </tr>\n",
       "    <tr>\n",
       "      <th>4</th>\n",
       "      <td>5</td>\n",
       "      <td>276.637831</td>\n",
       "      <td>691.875562</td>\n",
       "      <td>1244.031484</td>\n",
       "      <td>47.324398</td>\n",
       "      <td>12.002294</td>\n",
       "      <td>1.141661</td>\n",
       "      <td>107.119534</td>\n",
       "      <td>115.0</td>\n",
       "      <td>124.0</td>\n",
       "      <td>123.0</td>\n",
       "      <td>19.632684</td>\n",
       "      <td>28.260870</td>\n",
       "      <td>34.646177</td>\n",
       "      <td>0.0</td>\n",
       "      <td>0.0</td>\n",
       "      <td>0.0</td>\n",
       "    </tr>\n",
       "  </tbody>\n",
       "</table>\n",
       "</div>"
      ],
      "text/plain": [
       "   label        area  centroid-0   centroid-1  major_axis_length  \\\n",
       "0      1  819.130009  863.925063    25.706329          52.831692   \n",
       "1      2  195.761703  151.879237   916.902542          24.175447   \n",
       "2      3  612.584822  553.547055  1255.301963          30.464817   \n",
       "3      4  382.813670  589.889491   901.600217          34.042846   \n",
       "4      5  276.637831  691.875562  1244.031484          47.324398   \n",
       "\n",
       "   minor_axis_length  orientation   perimeter  max_intensity-0  \\\n",
       "0          25.900815     1.094589  141.762715            253.0   \n",
       "1          12.199160     0.800688   64.767185            116.0   \n",
       "2          27.261525    -0.075191  102.340777            235.0   \n",
       "3          15.557934     1.403738   87.040791            234.0   \n",
       "4          12.002294     1.141661  107.119534            115.0   \n",
       "\n",
       "   max_intensity-1  max_intensity-2  mean_intensity-0  mean_intensity-1  \\\n",
       "0            255.0            255.0        169.554937        175.094177   \n",
       "1            130.0            141.0         28.425847         32.326271   \n",
       "2            233.0            210.0        143.442112        138.888287   \n",
       "3            218.0            195.0         76.784399         63.483207   \n",
       "4            124.0            123.0         19.632684         28.260870   \n",
       "\n",
       "   mean_intensity-2  min_intensity-0  min_intensity-1  min_intensity-2  \n",
       "0        171.145823              0.0              0.0              0.0  \n",
       "1         34.319915              0.0              0.0              0.0  \n",
       "2        123.955315              4.0              4.0              4.0  \n",
       "3         51.793066              3.0              2.0              0.0  \n",
       "4         34.646177              0.0              0.0              0.0  "
      ]
     },
     "execution_count": 20,
     "metadata": {},
     "output_type": "execute_result"
    }
   ],
   "source": [
    "grain_data.head()"
   ]
  },
  {
   "cell_type": "code",
   "execution_count": 21,
   "id": "5a701881-07fa-4662-aafa-d432661fafff",
   "metadata": {},
   "outputs": [],
   "source": [
    "grain_data.to_csv(fname[:-4]+'.csv') # save grain data to CSV file"
   ]
  },
  {
   "cell_type": "code",
   "execution_count": 22,
   "id": "a8663eef",
   "metadata": {},
   "outputs": [],
   "source": [
    "# plot histogram of grain axis lengths\n",
    "# note that input data needs to be in milimeters\n",
    "fig, ax = seg.plot_histogram_of_axis_lengths(grain_data['major_axis_length']/1000, grain_data['minor_axis_length']/1000)"
   ]
  },
  {
   "cell_type": "markdown",
   "id": "039415c6",
   "metadata": {},
   "source": [
    "## Save mask and grain labels to PNG files"
   ]
  },
  {
   "cell_type": "code",
   "execution_count": 28,
   "id": "c4962ba6",
   "metadata": {},
   "outputs": [
    {
     "data": {
      "text/plain": [
       "True"
      ]
     },
     "execution_count": 28,
     "metadata": {},
     "output_type": "execute_result"
    }
   ],
   "source": [
    "dirname = '/Users/zoltan/Dropbox/Segmentation/images/'\n",
    "# write grayscale mask to PNG file\n",
    "cv2.imwrite(dirname + fname.split('/')[-1][:-4] + '_mask.png', mask_all)\n",
    "# Save the image as a PNG file\n",
    "cv2.imwrite(dirname + fname.split('/')[-1][:-4] + '_image.png', cv2.cvtColor(image, cv2.COLOR_BGR2RGB))"
   ]
  },
  {
   "cell_type": "markdown",
   "id": "77db7f2b-7718-4466-a1d8-41aa3d3d0803",
   "metadata": {},
   "source": [
    "## Run segmentation on large image (new!)\n",
    "In this case 'fname' points to an image that is larger than a few megapixels and has thousands of grains.\n",
    "The 'predict_large_image' function breaks the input image into smaller patches and it runs the segmentation process on each patch.\n",
    "\n",
    "The image used below (from [Mair et al., 2022, Earth Surface Dynamics](https://esurf.copernicus.org/articles/10/953/2022/)) is available [here](https://github.com/zsylvester/segmenteverygrain/blob/main/mair_et_al_L2_DJI_0382_image.jpg)."
   ]
  },
  {
   "cell_type": "code",
   "execution_count": 9,
   "id": "90eed72b-4cad-409a-b7bf-bbad0e5dfa74",
   "metadata": {},
   "outputs": [
    {
     "name": "stdout",
     "output_type": "stream",
     "text": [
      "segmenting image tiles...\n"
     ]
    },
    {
     "name": "stderr",
     "output_type": "stream",
     "text": [
      "100%|█████████████████████████████████████████████████████████████████████████████████████████████████████| 9/9 [00:07<00:00,  1.24it/s]\n",
      "100%|█████████████████████████████████████████████████████████████████████████████████████████████████████| 8/8 [00:06<00:00,  1.25it/s]\n"
     ]
    },
    {
     "name": "stdout",
     "output_type": "stream",
     "text": [
      "creating masks using SAM...\n"
     ]
    },
    {
     "name": "stderr",
     "output_type": "stream",
     "text": [
      "100%|███████████████████████████████████████████████████████████████████████████████████████████████| 3197/3197 [03:56<00:00, 13.51it/s]\n"
     ]
    },
    {
     "name": "stdout",
     "output_type": "stream",
     "text": [
      "finding overlapping polygons...\n"
     ]
    },
    {
     "name": "stderr",
     "output_type": "stream",
     "text": [
      "2887it [00:06, 463.54it/s]\n"
     ]
    },
    {
     "name": "stdout",
     "output_type": "stream",
     "text": [
      "finding best polygons...\n"
     ]
    },
    {
     "name": "stderr",
     "output_type": "stream",
     "text": [
      "100%|████████████████████████████████████████████████████████████████████████████████████████████████| 969/969 [00:09<00:00, 106.43it/s]\n"
     ]
    },
    {
     "name": "stdout",
     "output_type": "stream",
     "text": [
      "creating labeled image...\n",
      "processed patch #1 out of 6 patches\n",
      "segmenting image tiles...\n"
     ]
    },
    {
     "name": "stderr",
     "output_type": "stream",
     "text": [
      "100%|█████████████████████████████████████████████████████████████████████████████████████████████████████| 9/9 [00:07<00:00,  1.21it/s]\n",
      "100%|█████████████████████████████████████████████████████████████████████████████████████████████████████| 8/8 [00:06<00:00,  1.19it/s]\n"
     ]
    },
    {
     "name": "stdout",
     "output_type": "stream",
     "text": [
      "creating masks using SAM...\n"
     ]
    },
    {
     "name": "stderr",
     "output_type": "stream",
     "text": [
      "100%|███████████████████████████████████████████████████████████████████████████████████████████████| 2575/2575 [03:08<00:00, 13.66it/s]\n"
     ]
    },
    {
     "name": "stdout",
     "output_type": "stream",
     "text": [
      "finding overlapping polygons...\n"
     ]
    },
    {
     "name": "stderr",
     "output_type": "stream",
     "text": [
      "2282it [00:08, 278.10it/s]\n"
     ]
    },
    {
     "name": "stdout",
     "output_type": "stream",
     "text": [
      "finding best polygons...\n"
     ]
    },
    {
     "name": "stderr",
     "output_type": "stream",
     "text": [
      "100%|█████████████████████████████████████████████████████████████████████████████████████████████████| 681/681 [00:12<00:00, 53.85it/s]\n"
     ]
    },
    {
     "name": "stdout",
     "output_type": "stream",
     "text": [
      "creating labeled image...\n",
      "processed patch #2 out of 6 patches\n",
      "segmenting image tiles...\n"
     ]
    },
    {
     "name": "stderr",
     "output_type": "stream",
     "text": [
      "100%|█████████████████████████████████████████████████████████████████████████████████████████████████████| 9/9 [00:07<00:00,  1.20it/s]\n",
      "100%|█████████████████████████████████████████████████████████████████████████████████████████████████████| 8/8 [00:06<00:00,  1.17it/s]\n"
     ]
    },
    {
     "name": "stdout",
     "output_type": "stream",
     "text": [
      "creating masks using SAM...\n"
     ]
    },
    {
     "name": "stderr",
     "output_type": "stream",
     "text": [
      "100%|███████████████████████████████████████████████████████████████████████████████████████████████| 2140/2140 [02:24<00:00, 14.78it/s]\n"
     ]
    },
    {
     "name": "stdout",
     "output_type": "stream",
     "text": [
      "finding overlapping polygons...\n"
     ]
    },
    {
     "name": "stderr",
     "output_type": "stream",
     "text": [
      "1894it [00:05, 332.08it/s]\n"
     ]
    },
    {
     "name": "stdout",
     "output_type": "stream",
     "text": [
      "finding best polygons...\n"
     ]
    },
    {
     "name": "stderr",
     "output_type": "stream",
     "text": [
      "100%|█████████████████████████████████████████████████████████████████████████████████████████████████| 595/595 [00:07<00:00, 80.87it/s]\n"
     ]
    },
    {
     "name": "stdout",
     "output_type": "stream",
     "text": [
      "creating labeled image...\n",
      "processed patch #3 out of 6 patches\n",
      "segmenting image tiles...\n"
     ]
    },
    {
     "name": "stderr",
     "output_type": "stream",
     "text": [
      "100%|█████████████████████████████████████████████████████████████████████████████████████████████████████| 9/9 [00:07<00:00,  1.25it/s]\n",
      "100%|█████████████████████████████████████████████████████████████████████████████████████████████████████| 8/8 [00:06<00:00,  1.26it/s]\n"
     ]
    },
    {
     "name": "stdout",
     "output_type": "stream",
     "text": [
      "creating masks using SAM...\n"
     ]
    },
    {
     "name": "stderr",
     "output_type": "stream",
     "text": [
      "100%|███████████████████████████████████████████████████████████████████████████████████████████████| 3564/3564 [03:59<00:00, 14.87it/s]\n"
     ]
    },
    {
     "name": "stdout",
     "output_type": "stream",
     "text": [
      "finding overlapping polygons...\n"
     ]
    },
    {
     "name": "stderr",
     "output_type": "stream",
     "text": [
      "3312it [00:04, 729.47it/s]\n"
     ]
    },
    {
     "name": "stdout",
     "output_type": "stream",
     "text": [
      "finding best polygons...\n"
     ]
    },
    {
     "name": "stderr",
     "output_type": "stream",
     "text": [
      "100%|██████████████████████████████████████████████████████████████████████████████████████████████| 1157/1157 [00:06<00:00, 190.14it/s]\n"
     ]
    },
    {
     "name": "stdout",
     "output_type": "stream",
     "text": [
      "creating labeled image...\n",
      "processed patch #4 out of 6 patches\n",
      "segmenting image tiles...\n"
     ]
    },
    {
     "name": "stderr",
     "output_type": "stream",
     "text": [
      "100%|█████████████████████████████████████████████████████████████████████████████████████████████████████| 9/9 [00:07<00:00,  1.21it/s]\n",
      "100%|█████████████████████████████████████████████████████████████████████████████████████████████████████| 8/8 [00:06<00:00,  1.24it/s]\n"
     ]
    },
    {
     "name": "stdout",
     "output_type": "stream",
     "text": [
      "creating masks using SAM...\n"
     ]
    },
    {
     "name": "stderr",
     "output_type": "stream",
     "text": [
      "100%|███████████████████████████████████████████████████████████████████████████████████████████████| 2484/2484 [02:48<00:00, 14.74it/s]\n"
     ]
    },
    {
     "name": "stdout",
     "output_type": "stream",
     "text": [
      "finding overlapping polygons...\n"
     ]
    },
    {
     "name": "stderr",
     "output_type": "stream",
     "text": [
      "2242it [00:05, 390.88it/s]\n"
     ]
    },
    {
     "name": "stdout",
     "output_type": "stream",
     "text": [
      "finding best polygons...\n"
     ]
    },
    {
     "name": "stderr",
     "output_type": "stream",
     "text": [
      "100%|█████████████████████████████████████████████████████████████████████████████████████████████████| 709/709 [00:07<00:00, 98.42it/s]\n"
     ]
    },
    {
     "name": "stdout",
     "output_type": "stream",
     "text": [
      "creating labeled image...\n",
      "processed patch #5 out of 6 patches\n",
      "segmenting image tiles...\n"
     ]
    },
    {
     "name": "stderr",
     "output_type": "stream",
     "text": [
      "100%|█████████████████████████████████████████████████████████████████████████████████████████████████████| 9/9 [00:07<00:00,  1.19it/s]\n",
      "100%|█████████████████████████████████████████████████████████████████████████████████████████████████████| 8/8 [00:06<00:00,  1.23it/s]\n"
     ]
    },
    {
     "name": "stdout",
     "output_type": "stream",
     "text": [
      "creating masks using SAM...\n"
     ]
    },
    {
     "name": "stderr",
     "output_type": "stream",
     "text": [
      "100%|███████████████████████████████████████████████████████████████████████████████████████████████| 1978/1978 [02:06<00:00, 15.58it/s]\n"
     ]
    },
    {
     "name": "stdout",
     "output_type": "stream",
     "text": [
      "finding overlapping polygons...\n"
     ]
    },
    {
     "name": "stderr",
     "output_type": "stream",
     "text": [
      "1707it [00:06, 259.20it/s]\n"
     ]
    },
    {
     "name": "stdout",
     "output_type": "stream",
     "text": [
      "finding best polygons...\n"
     ]
    },
    {
     "name": "stderr",
     "output_type": "stream",
     "text": [
      "100%|█████████████████████████████████████████████████████████████████████████████████████████████████| 509/509 [00:12<00:00, 41.57it/s]\n"
     ]
    },
    {
     "name": "stdout",
     "output_type": "stream",
     "text": [
      "creating labeled image...\n",
      "processed patch #6 out of 6 patches\n"
     ]
    },
    {
     "name": "stderr",
     "output_type": "stream",
     "text": [
      "4946it [00:02, 2167.19it/s]\n",
      "100%|████████████████████████████████████████████████████████████████████████████████████████████████| 336/336 [00:00<00:00, 610.84it/s]\n"
     ]
    }
   ],
   "source": [
    "from PIL import Image\n",
    "Image.MAX_IMAGE_PIXELS = None # needed if working with very large images\n",
    "fname = \"mair_et_al_L2_DJI_0382_image.jpg\"\n",
    "all_grains, image_pred = seg.predict_large_image(fname, model, sam, min_area=400.0, patch_size=2000, overlap=200)"
   ]
  },
  {
   "cell_type": "code",
   "execution_count": 13,
   "id": "d1e52b04-e54e-44e6-8061-b8d0c0c76970",
   "metadata": {},
   "outputs": [
    {
     "name": "stderr",
     "output_type": "stream",
     "text": [
      "100%|██████████████████████████████████████████████████████████████████████████████████████████████| 4567/4567 [00:14<00:00, 322.67it/s]\n"
     ]
    }
   ],
   "source": [
    "# plot results\n",
    "image = np.array(load_img(fname))\n",
    "fig, ax = plt.subplots(figsize=(15,10))\n",
    "plt.xticks([])\n",
    "plt.yticks([])\n",
    "seg.plot_image_w_colorful_grains(image, all_grains, ax, cmap='Paired')\n",
    "plt.axis('equal')\n",
    "plt.xlim([0, np.shape(image)[1]])\n",
    "plt.ylim([np.shape(image)[0], 0]);"
   ]
  },
  {
   "cell_type": "code",
   "execution_count": 11,
   "id": "4dae73a8-f9ce-4fb9-8661-19d4c03340f3",
   "metadata": {},
   "outputs": [],
   "source": [
    "# this is a faster way of deleting false positives (because it avoids highlighting and deleting the 'bad' grains)\n",
    "grain_inds = []\n",
    "cid1 = fig.canvas.mpl_connect('button_press_event', lambda event: seg.onclick2(event, all_grains, grain_inds, ax=ax, select_only=True))"
   ]
  },
  {
   "cell_type": "code",
   "execution_count": 12,
   "id": "98b9650b-c6d9-4c23-85cc-b0234f3d2b2b",
   "metadata": {},
   "outputs": [
    {
     "name": "stderr",
     "output_type": "stream",
     "text": [
      "100%|███████████████████████████████████████████████████████████████████████████████████████████████████| 14/14 [00:01<00:00, 13.45it/s]\n"
     ]
    }
   ],
   "source": [
    "# delete polygons from 'all_grains'\n",
    "grain_inds = np.unique(grain_inds)\n",
    "grain_inds = sorted(grain_inds, reverse=True)\n",
    "for ind in tqdm(grain_inds):\n",
    "    all_grains.remove(all_grains[ind])"
   ]
  },
  {
   "cell_type": "markdown",
   "id": "74b9e579-8c81-4baf-9262-eb4b1584c646",
   "metadata": {},
   "source": [
    "After plotting the results, you will want to use the functions for deleting, merging, and adding grains (see above), before saving the results (same workflow as for a small image)."
   ]
  },
  {
   "cell_type": "markdown",
   "id": "d25703e4-2a4e-4e98-aa49-ff9b816b2ec0",
   "metadata": {},
   "source": [
    "### Finetuning the base model"
   ]
  },
  {
   "cell_type": "code",
   "execution_count": null,
   "id": "396f62c8-be0f-47fe-b660-2c55e2d51d42",
   "metadata": {},
   "outputs": [],
   "source": [
    "# patchify images and masks\n",
    "input_dir = \"./Masks_and_images/\" # the input directory should contain files with 'image' and 'mask' in their filenames\n",
    "patch_dir = \"./New_project/\" # a directory called \"Patches\" will be created here\n",
    "image_dir, mask_dir = seg.patchify_training_data(input_dir, patch_dir)"
   ]
  },
  {
   "cell_type": "code",
   "execution_count": null,
   "id": "05f98137-2dfd-4b88-8dc5-e4e79fa343ad",
   "metadata": {},
   "outputs": [],
   "source": [
    "# create training, validation, and test datasets\n",
    "train_dataset, val_dataset, test_dataset = seg.create_train_val_test_data(image_dir, mask_dir, augmentation=True)"
   ]
  },
  {
   "cell_type": "code",
   "execution_count": null,
   "id": "43650ad9-c2e5-4fc2-856f-4f39b8f1d9e3",
   "metadata": {},
   "outputs": [],
   "source": [
    "# load base model weights and train the model with the new data\n",
    "model = seg.create_and_train_model(train_dataset, val_dataset, test_dataset, model_file='seg_model.keras', epochs=100)"
   ]
  },
  {
   "cell_type": "code",
   "execution_count": null,
   "id": "41375c1f-5f16-496f-b5e8-497626eb89dc",
   "metadata": {},
   "outputs": [],
   "source": [
    "# save finetuned model as new model (this then can be loaded using \"model.load_weights('./new_model/seg_model')\"\n",
    "model.save('new_model.keras')"
   ]
  }
 ],
 "metadata": {
  "kernelspec": {
   "display_name": "Python 3 (ipykernel)",
   "language": "python",
   "name": "python3"
  },
  "language_info": {
   "codemirror_mode": {
    "name": "ipython",
    "version": 3
   },
   "file_extension": ".py",
   "mimetype": "text/x-python",
   "name": "python",
   "nbconvert_exporter": "python",
   "pygments_lexer": "ipython3",
   "version": "3.9.20"
  }
 },
 "nbformat": 4,
 "nbformat_minor": 5
}
