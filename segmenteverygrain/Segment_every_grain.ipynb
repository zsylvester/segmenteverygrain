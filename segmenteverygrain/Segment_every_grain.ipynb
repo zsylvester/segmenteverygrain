{
 "cells": [
  {
   "cell_type": "markdown",
   "id": "95a8f02b",
   "metadata": {},
   "source": [
    "## Import packages"
   ]
  },
  {
   "cell_type": "code",
   "execution_count": 1,
   "id": "f2ebc518",
   "metadata": {},
   "outputs": [],
   "source": [
    "import pandas as pd\n",
    "import numpy as np\n",
    "import matplotlib.pyplot as plt\n",
    "import cv2\n",
    "from skimage import measure\n",
    "from skimage.measure import regionprops, regionprops_table\n",
    "from tensorflow.keras.optimizers.legacy import Adam\n",
    "from tensorflow.keras.preprocessing.image import load_img\n",
    "from importlib import reload\n",
    "import segmenteverygrain as seg\n",
    "from segment_anything import sam_model_registry, SamAutomaticMaskGenerator, SamPredictor\n",
    "from tqdm import trange\n",
    "%matplotlib qt"
   ]
  },
  {
   "cell_type": "markdown",
   "id": "f474ac20",
   "metadata": {},
   "source": [
    "## Load models"
   ]
  },
  {
   "cell_type": "code",
   "execution_count": 2,
   "id": "fe1bd2bc",
   "metadata": {},
   "outputs": [
    {
     "name": "stderr",
     "output_type": "stream",
     "text": [
      "2024-03-28 10:29:09.554711: I tensorflow/core/common_runtime/pluggable_device/pluggable_device_factory.cc:305] Could not identify NUMA node of platform GPU ID 0, defaulting to 0. Your kernel may not have been built with NUMA support.\n",
      "2024-03-28 10:29:09.554894: I tensorflow/core/common_runtime/pluggable_device/pluggable_device_factory.cc:271] Created TensorFlow device (/job:localhost/replica:0/task:0/device:GPU:0 with 0 MB memory) -> physical PluggableDevice (device: 0, name: METAL, pci bus id: <undefined>)\n"
     ]
    },
    {
     "name": "stdout",
     "output_type": "stream",
     "text": [
      "Metal device set to: Apple M2 Max\n"
     ]
    }
   ],
   "source": [
    "model = seg.Unet()\n",
    "model.compile(optimizer=Adam(), loss=seg.weighted_crossentropy, metrics=[\"accuracy\"])\n",
    "model.load_weights('./checkpoints/seg_model');\n",
    "\n",
    "# the SAM model checkpoints can be downloaded from: https://dl.fbaipublicfiles.com/segment_anything/sam_vit_h_4b8939.pth\n",
    "sam = sam_model_registry[\"default\"](checkpoint=\"/Users/zoltan/Dropbox/Segmentation/sam_vit_h_4b8939.pth\")"
   ]
  },
  {
   "cell_type": "markdown",
   "id": "a3c1dfc6",
   "metadata": {},
   "source": [
    "## Run segmentation\n",
    "\n",
    "Grains are supposed to be well defined in the image; e.g., if a grain consists of only a few pixels, it is unlikely to be detected.\n",
    "\n",
    "The segmentation can take a few minutes even for medium-sized images, so do not start with large images (downsample them if necessary). Images with ~2000 pixels along their largest dimension are a good start."
   ]
  },
  {
   "cell_type": "code",
   "execution_count": 3,
   "id": "94bf3f94",
   "metadata": {},
   "outputs": [
    {
     "name": "stderr",
     "output_type": "stream",
     "text": [
      "  0%|                                                     | 0/7 [00:00<?, ?it/s]2024-03-28 10:29:23.257100: W tensorflow/core/platform/profile_utils/cpu_utils.cc:128] Failed to get CPU frequency: 0 Hz\n",
      "2024-03-28 10:29:23.328440: I tensorflow/core/grappler/optimizers/custom_graph_optimizer_registry.cc:113] Plugin optimizer for device_type GPU is enabled.\n",
      "100%|█████████████████████████████████████████████| 7/7 [00:02<00:00,  3.13it/s]\n",
      "100%|█████████████████████████████████████████████| 6/6 [00:00<00:00,  8.92it/s]\n",
      "100%|███████████████████████████████████████| 1457/1457 [01:15<00:00, 19.29it/s]\n",
      "1454it [01:42, 14.19it/s]\n",
      "100%|█████████████████████████████████████████| 450/450 [00:05<00:00, 86.67it/s]\n",
      "100%|█████████████████████████████████████████| 472/472 [00:06<00:00, 68.99it/s]\n",
      "100%|████████████████████████████████████████| 489/489 [00:01<00:00, 248.84it/s]\n"
     ]
    }
   ],
   "source": [
    "# replace this with the path to your image:\n",
    "fname = '/Users/zoltan/Dropbox/Segmentation/torrey_pines_beach.jpeg'\n",
    "\n",
    "big_im = np.array(load_img(fname))\n",
    "big_im_pred = seg.predict_big_image(big_im, model, I=256)\n",
    "\n",
    "# decreasing the 'dbs_max_dist' parameter results in more SAM prompts (and longer processing times):\n",
    "labels, grains, coords = seg.label_grains(big_im, big_im_pred, dbs_max_dist=10.0) # Unet prediction\n",
    "\n",
    "# SAM segmentation, using the point prompts from the Unet:\n",
    "all_grains, labels, mask_all, grain_data, fig, ax = seg.sam_segmentation(sam, big_im, big_im_pred, \n",
    "                                                                         coords, labels, min_area=50.0)"
   ]
  },
  {
   "cell_type": "markdown",
   "id": "7c091d4c",
   "metadata": {},
   "source": [
    "Use this figure to check the distribution of SAM prompts (= black dots):"
   ]
  },
  {
   "cell_type": "code",
   "execution_count": 5,
   "id": "e031a13f",
   "metadata": {},
   "outputs": [],
   "source": [
    "plt.figure(figsize=(15,10))\n",
    "plt.imshow(big_im)\n",
    "plt.scatter(coords[:,0], coords[:,1], c='k')\n",
    "plt.xticks([])\n",
    "plt.yticks([]);"
   ]
  },
  {
   "cell_type": "markdown",
   "id": "968737c4",
   "metadata": {},
   "source": [
    "## Delete or merge grains in segmentation result\n",
    "* click on the grain that you want to remove and press the 'x' key\n",
    "* click on two grains that you want to merge and press the 'm' key (they have to be the last two grains you clicked on)\n",
    "* press the 'g' key to hide the grain masks (so that you can see the original image better); press the 'g' key again to show the grain masks"
   ]
  },
  {
   "cell_type": "code",
   "execution_count": 6,
   "id": "e1761761",
   "metadata": {},
   "outputs": [],
   "source": [
    "grain_inds = []\n",
    "cid1 = fig.canvas.mpl_connect('button_press_event', \n",
    "                              lambda event: seg.onclick2(event, all_grains, grain_inds, ax=ax))\n",
    "cid2 = fig.canvas.mpl_connect('key_press_event', \n",
    "                              lambda event: seg.onpress2(event, all_grains, grain_inds, fig=fig, ax=ax))"
   ]
  },
  {
   "cell_type": "markdown",
   "id": "5d08448d",
   "metadata": {},
   "source": [
    "Run this cell if you do not want to delete / merge existing grains anymore; it is a good idea to do this before moving on to the next step."
   ]
  },
  {
   "cell_type": "code",
   "execution_count": 16,
   "id": "8b6987ae",
   "metadata": {},
   "outputs": [],
   "source": [
    "fig.canvas.mpl_disconnect(cid1)\n",
    "fig.canvas.mpl_disconnect(cid2)"
   ]
  },
  {
   "cell_type": "markdown",
   "id": "b1ef7d75",
   "metadata": {},
   "source": [
    "Use this function to update the 'all_grains' list after deleting and merging grains:"
   ]
  },
  {
   "cell_type": "code",
   "execution_count": 17,
   "id": "9f7b8082",
   "metadata": {},
   "outputs": [
    {
     "name": "stderr",
     "output_type": "stream",
     "text": [
      "100%|███████████████████████████████████████| 1591/1591 [00:31<00:00, 51.23it/s]\n"
     ]
    }
   ],
   "source": [
    "all_grains, labels, mask_all, fig, ax = seg.get_grains_from_patches(ax, big_im)"
   ]
  },
  {
   "cell_type": "markdown",
   "id": "36ca344c",
   "metadata": {},
   "source": [
    "Plot the updated set of grains:"
   ]
  },
  {
   "cell_type": "code",
   "execution_count": 75,
   "id": "7e0f7f02",
   "metadata": {},
   "outputs": [],
   "source": [
    "fig, ax = plt.subplots(figsize=(15,10))\n",
    "ax.imshow(big_im)\n",
    "plt.xticks([])\n",
    "plt.yticks([])\n",
    "seg.plot_image_w_colorful_grains(big_im, all_grains, ax, cmap='Paired')\n",
    "seg.plot_grain_axes_and_centroids(all_grains, labels, ax, linewidth=1, markersize=10)\n",
    "plt.xlim([0, np.shape(big_im)[1]])\n",
    "plt.ylim([np.shape(big_im)[0], 0]);"
   ]
  },
  {
   "cell_type": "markdown",
   "id": "ab7201a5",
   "metadata": {},
   "source": [
    "## Add new grains using the Segment Anything Model\n",
    "\n",
    "* click on unsegmented grain that you want to add\n",
    "* press the 'x' key if you want to delete the last grain you added\n",
    "* press the 'm' key if you want to merge the last two grains that you added\n",
    "* right click outside the grain (but inside the most recent mask) if you want to restrict the grain to a smaller mask - this adds a background prompt"
   ]
  },
  {
   "cell_type": "code",
   "execution_count": 76,
   "id": "04b1a138",
   "metadata": {},
   "outputs": [],
   "source": [
    "predictor = SamPredictor(sam)\n",
    "predictor.set_image(big_im) # this can take a while\n",
    "coords = []\n",
    "cid3 = fig.canvas.mpl_connect('button_press_event', lambda event: seg.onclick(event, ax, coords, big_im, predictor))\n",
    "cid4 = fig.canvas.mpl_connect('key_press_event', lambda event: seg.onpress(event, ax, fig))"
   ]
  },
  {
   "cell_type": "code",
   "execution_count": 484,
   "id": "02386a92",
   "metadata": {},
   "outputs": [],
   "source": [
    "fig.canvas.mpl_disconnect(cid3)\n",
    "fig.canvas.mpl_disconnect(cid4)"
   ]
  },
  {
   "cell_type": "markdown",
   "id": "6ae4b89a",
   "metadata": {},
   "source": [
    "After you are done with the deletion / addition of grain masks, run this cell to generate an updated set of grains:"
   ]
  },
  {
   "cell_type": "code",
   "execution_count": 485,
   "id": "4355b526",
   "metadata": {},
   "outputs": [
    {
     "name": "stderr",
     "output_type": "stream",
     "text": [
      "100%|████████████████████████████████████████████████████████████████████████████████████████████████████████████████████████████████████████████████████| 443/443 [00:03<00:00, 121.37it/s]\n"
     ]
    }
   ],
   "source": [
    "all_grains, labels, mask_all, fig, ax = seg.get_grains_from_patches(ax, big_im)"
   ]
  },
  {
   "cell_type": "markdown",
   "id": "768a05d2",
   "metadata": {},
   "source": [
    "## Get grain size distribution"
   ]
  },
  {
   "cell_type": "markdown",
   "id": "96892a89",
   "metadata": {},
   "source": [
    "Run this cell and then click (left mouse button) on one end of the scale bar in the image and click (right mouse button) on the other end of the scale bar:"
   ]
  },
  {
   "cell_type": "code",
   "execution_count": 20,
   "id": "869c6cd4",
   "metadata": {},
   "outputs": [
    {
     "name": "stdout",
     "output_type": "stream",
     "text": [
      "number of pixels: 585.26\n"
     ]
    }
   ],
   "source": [
    "cid5 = fig.canvas.mpl_connect('button_press_event', lambda event: seg.click_for_scale(event, ax))"
   ]
  },
  {
   "cell_type": "markdown",
   "id": "658e2f0a",
   "metadata": {},
   "source": [
    "Use the length of the scale bar in pixels (it should be printed above) to get the scale of the image (in units / pixel):"
   ]
  },
  {
   "cell_type": "code",
   "execution_count": 21,
   "id": "18d8c484",
   "metadata": {},
   "outputs": [],
   "source": [
    "n_of_units = 500 # centimeters in the case of 'IMG_5208_image.png'\n",
    "units_per_pixel = n_of_units/585.26 # length of scale bar in pixels"
   ]
  },
  {
   "cell_type": "code",
   "execution_count": 27,
   "id": "7893cfb7",
   "metadata": {},
   "outputs": [],
   "source": [
    "n_of_units = 10 # centimeters in the case of 'IMG_5208_image.png'\n",
    "units_per_pixel = n_of_units/492.06 # length of scale bar in pixels"
   ]
  },
  {
   "cell_type": "code",
   "execution_count": 22,
   "id": "b56c5732",
   "metadata": {},
   "outputs": [],
   "source": [
    "props = regionprops_table(labels.astype('int'), intensity_image = big_im, properties =\\\n",
    "        ('label', 'area', 'centroid', 'major_axis_length', 'minor_axis_length', \n",
    "         'orientation', 'perimeter', 'max_intensity', 'mean_intensity', 'min_intensity'))\n",
    "grain_data = pd.DataFrame(props)\n",
    "grain_data['major_axis_length'] = grain_data['major_axis_length'].values*units_per_pixel\n",
    "grain_data['minor_axis_length'] = grain_data['minor_axis_length'].values*units_per_pixel\n",
    "grain_data['perimeter'] = grain_data['perimeter'].values*units_per_pixel\n",
    "grain_data['area'] = grain_data['area'].values*units_per_pixel**2"
   ]
  },
  {
   "cell_type": "code",
   "execution_count": 23,
   "id": "202f5650",
   "metadata": {},
   "outputs": [
    {
     "data": {
      "text/html": [
       "<div>\n",
       "<style scoped>\n",
       "    .dataframe tbody tr th:only-of-type {\n",
       "        vertical-align: middle;\n",
       "    }\n",
       "\n",
       "    .dataframe tbody tr th {\n",
       "        vertical-align: top;\n",
       "    }\n",
       "\n",
       "    .dataframe thead th {\n",
       "        text-align: right;\n",
       "    }\n",
       "</style>\n",
       "<table border=\"1\" class=\"dataframe\">\n",
       "  <thead>\n",
       "    <tr style=\"text-align: right;\">\n",
       "      <th></th>\n",
       "      <th>label</th>\n",
       "      <th>area</th>\n",
       "      <th>centroid-0</th>\n",
       "      <th>centroid-1</th>\n",
       "      <th>major_axis_length</th>\n",
       "      <th>minor_axis_length</th>\n",
       "      <th>orientation</th>\n",
       "      <th>perimeter</th>\n",
       "      <th>max_intensity-0</th>\n",
       "      <th>max_intensity-1</th>\n",
       "      <th>max_intensity-2</th>\n",
       "      <th>mean_intensity-0</th>\n",
       "      <th>mean_intensity-1</th>\n",
       "      <th>mean_intensity-2</th>\n",
       "      <th>min_intensity-0</th>\n",
       "      <th>min_intensity-1</th>\n",
       "      <th>min_intensity-2</th>\n",
       "    </tr>\n",
       "  </thead>\n",
       "  <tbody>\n",
       "    <tr>\n",
       "      <th>0</th>\n",
       "      <td>1</td>\n",
       "      <td>1669.200428</td>\n",
       "      <td>854.374727</td>\n",
       "      <td>3469.557499</td>\n",
       "      <td>49.584006</td>\n",
       "      <td>43.227162</td>\n",
       "      <td>-0.226203</td>\n",
       "      <td>151.968570</td>\n",
       "      <td>255.0</td>\n",
       "      <td>255.0</td>\n",
       "      <td>255.0</td>\n",
       "      <td>191.974202</td>\n",
       "      <td>189.985571</td>\n",
       "      <td>186.794053</td>\n",
       "      <td>0.0</td>\n",
       "      <td>20.0</td>\n",
       "      <td>24.0</td>\n",
       "    </tr>\n",
       "    <tr>\n",
       "      <th>1</th>\n",
       "      <td>2</td>\n",
       "      <td>1030.568869</td>\n",
       "      <td>1192.178470</td>\n",
       "      <td>2176.718130</td>\n",
       "      <td>42.373409</td>\n",
       "      <td>31.535870</td>\n",
       "      <td>-1.176604</td>\n",
       "      <td>123.214808</td>\n",
       "      <td>255.0</td>\n",
       "      <td>255.0</td>\n",
       "      <td>255.0</td>\n",
       "      <td>190.112606</td>\n",
       "      <td>190.262748</td>\n",
       "      <td>187.290368</td>\n",
       "      <td>27.0</td>\n",
       "      <td>41.0</td>\n",
       "      <td>35.0</td>\n",
       "    </tr>\n",
       "    <tr>\n",
       "      <th>2</th>\n",
       "      <td>3</td>\n",
       "      <td>1998.369380</td>\n",
       "      <td>2255.628561</td>\n",
       "      <td>28.438276</td>\n",
       "      <td>72.259820</td>\n",
       "      <td>38.787062</td>\n",
       "      <td>0.833512</td>\n",
       "      <td>206.058811</td>\n",
       "      <td>255.0</td>\n",
       "      <td>255.0</td>\n",
       "      <td>255.0</td>\n",
       "      <td>177.666910</td>\n",
       "      <td>185.546749</td>\n",
       "      <td>187.480278</td>\n",
       "      <td>11.0</td>\n",
       "      <td>0.0</td>\n",
       "      <td>11.0</td>\n",
       "    </tr>\n",
       "    <tr>\n",
       "      <th>3</th>\n",
       "      <td>4</td>\n",
       "      <td>2541.388671</td>\n",
       "      <td>28.495118</td>\n",
       "      <td>1496.336588</td>\n",
       "      <td>74.802205</td>\n",
       "      <td>44.167385</td>\n",
       "      <td>-1.117318</td>\n",
       "      <td>206.058811</td>\n",
       "      <td>255.0</td>\n",
       "      <td>255.0</td>\n",
       "      <td>255.0</td>\n",
       "      <td>167.320505</td>\n",
       "      <td>169.190982</td>\n",
       "      <td>168.500287</td>\n",
       "      <td>0.0</td>\n",
       "      <td>0.0</td>\n",
       "      <td>15.0</td>\n",
       "    </tr>\n",
       "    <tr>\n",
       "      <th>4</th>\n",
       "      <td>5</td>\n",
       "      <td>1264.125554</td>\n",
       "      <td>685.515589</td>\n",
       "      <td>13.765012</td>\n",
       "      <td>57.766469</td>\n",
       "      <td>32.990824</td>\n",
       "      <td>0.156912</td>\n",
       "      <td>162.427717</td>\n",
       "      <td>255.0</td>\n",
       "      <td>255.0</td>\n",
       "      <td>255.0</td>\n",
       "      <td>144.542725</td>\n",
       "      <td>140.784642</td>\n",
       "      <td>134.379330</td>\n",
       "      <td>4.0</td>\n",
       "      <td>11.0</td>\n",
       "      <td>17.0</td>\n",
       "    </tr>\n",
       "  </tbody>\n",
       "</table>\n",
       "</div>"
      ],
      "text/plain": [
       "   label         area   centroid-0   centroid-1  major_axis_length  \\\n",
       "0      1  1669.200428   854.374727  3469.557499          49.584006   \n",
       "1      2  1030.568869  1192.178470  2176.718130          42.373409   \n",
       "2      3  1998.369380  2255.628561    28.438276          72.259820   \n",
       "3      4  2541.388671    28.495118  1496.336588          74.802205   \n",
       "4      5  1264.125554   685.515589    13.765012          57.766469   \n",
       "\n",
       "   minor_axis_length  orientation   perimeter  max_intensity-0  \\\n",
       "0          43.227162    -0.226203  151.968570            255.0   \n",
       "1          31.535870    -1.176604  123.214808            255.0   \n",
       "2          38.787062     0.833512  206.058811            255.0   \n",
       "3          44.167385    -1.117318  206.058811            255.0   \n",
       "4          32.990824     0.156912  162.427717            255.0   \n",
       "\n",
       "   max_intensity-1  max_intensity-2  mean_intensity-0  mean_intensity-1  \\\n",
       "0            255.0            255.0        191.974202        189.985571   \n",
       "1            255.0            255.0        190.112606        190.262748   \n",
       "2            255.0            255.0        177.666910        185.546749   \n",
       "3            255.0            255.0        167.320505        169.190982   \n",
       "4            255.0            255.0        144.542725        140.784642   \n",
       "\n",
       "   mean_intensity-2  min_intensity-0  min_intensity-1  min_intensity-2  \n",
       "0        186.794053              0.0             20.0             24.0  \n",
       "1        187.290368             27.0             41.0             35.0  \n",
       "2        187.480278             11.0              0.0             11.0  \n",
       "3        168.500287              0.0              0.0             15.0  \n",
       "4        134.379330              4.0             11.0             17.0  "
      ]
     },
     "execution_count": 23,
     "metadata": {},
     "output_type": "execute_result"
    }
   ],
   "source": [
    "grain_data.head()"
   ]
  },
  {
   "cell_type": "code",
   "execution_count": 30,
   "id": "a8663eef",
   "metadata": {},
   "outputs": [
    {
     "name": "stderr",
     "output_type": "stream",
     "text": [
      "2023-10-10 14:45:22.524 python[49126:39784776] +[CATransaction synchronize] called within transaction\n",
      "2023-10-10 14:45:25.291 python[49126:39784776] +[CATransaction synchronize] called within transaction\n",
      "2023-10-10 14:45:26.252 python[49126:39784776] +[CATransaction synchronize] called within transaction\n",
      "2023-10-10 14:45:26.515 python[49126:39784776] +[CATransaction synchronize] called within transaction\n"
     ]
    }
   ],
   "source": [
    "plt.figure()\n",
    "plt.hist(grain_data['major_axis_length'], np.arange(0, 200, 5), alpha=0.5)\n",
    "plt.hist(grain_data['minor_axis_length'], np.arange(0, 200, 5), alpha=0.5)\n",
    "\n",
    "plt.xlabel('axis length (microns)')\n",
    "plt.xlim(0, 200)\n",
    "plt.ylabel('count');"
   ]
  },
  {
   "cell_type": "markdown",
   "id": "039415c6",
   "metadata": {},
   "source": [
    "## Save mask and grain labels to PNG files"
   ]
  },
  {
   "cell_type": "code",
   "execution_count": 486,
   "id": "c4962ba6",
   "metadata": {},
   "outputs": [
    {
     "data": {
      "text/plain": [
       "True"
      ]
     },
     "execution_count": 486,
     "metadata": {},
     "output_type": "execute_result"
    }
   ],
   "source": [
    "dirname = '/Users/zoltan/Dropbox/Segmentation/images/'\n",
    "# write grayscale mask to PNG file\n",
    "cv2.imwrite(dirname + fname.split('/')[-1][:-4] + '_mask.png', mask_all)\n",
    "# Save the image as a PNG file\n",
    "cv2.imwrite(dirname + fname.split('/')[-1][:-4] + '_image.png', cv2.cvtColor(big_im, cv2.COLOR_BGR2RGB))"
   ]
  }
 ],
 "metadata": {
  "kernelspec": {
   "display_name": "Python 3 (ipykernel)",
   "language": "python",
   "name": "python3"
  },
  "language_info": {
   "codemirror_mode": {
    "name": "ipython",
    "version": 3
   },
   "file_extension": ".py",
   "mimetype": "text/x-python",
   "name": "python",
   "nbconvert_exporter": "python",
   "pygments_lexer": "ipython3",
   "version": "3.8.15"
  }
 },
 "nbformat": 4,
 "nbformat_minor": 5
}
