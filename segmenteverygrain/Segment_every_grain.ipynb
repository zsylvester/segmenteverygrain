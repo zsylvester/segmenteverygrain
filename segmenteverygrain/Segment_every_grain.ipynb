{
 "cells": [
  {
   "cell_type": "markdown",
   "id": "74bb0481",
   "metadata": {},
   "source": [
    "## Import packages"
   ]
  },
  {
   "cell_type": "code",
   "execution_count": 231,
   "id": "f2ebc518",
   "metadata": {},
   "outputs": [],
   "source": [
    "import pandas as pd\n",
    "import numpy as np\n",
    "import matplotlib.pyplot as plt\n",
    "import cv2\n",
    "from skimage import measure\n",
    "from skimage.measure import regionprops_table\n",
    "from tensorflow.keras.optimizers import Adam\n",
    "from tensorflow.keras.preprocessing.image import load_img\n",
    "from importlib import reload\n",
    "import segmenteverygrain as seg\n",
    "from segment_anything import sam_model_registry, SamAutomaticMaskGenerator, SamPredictor\n",
    "from tqdm import trange\n",
    "%matplotlib qt"
   ]
  },
  {
   "cell_type": "markdown",
   "id": "c9e10564",
   "metadata": {},
   "source": [
    "## Load models"
   ]
  },
  {
   "cell_type": "code",
   "execution_count": 334,
   "id": "fe1bd2bc",
   "metadata": {},
   "outputs": [],
   "source": [
    "model = seg.Unet()\n",
    "model.compile(optimizer=Adam(), loss=seg.weighted_crossentropy, metrics=[\"accuracy\"])\n",
    "model.load_weights('./checkpoints/seg_model');\n",
    "\n",
    "# the SAM model checkpoints can be downloaded from: https://dl.fbaipublicfiles.com/segment_anything/sam_vit_h_4b8939.pth\n",
    "sam = sam_model_registry[\"default\"](checkpoint=\"/Users/zoltan/Dropbox/Segmentation/sam_vit_h_4b8939.pth\")"
   ]
  },
  {
   "cell_type": "markdown",
   "id": "58e005ec",
   "metadata": {},
   "source": [
    "## Run segmentation\n",
    "\n",
    "Grains are supposed to be well defined in the image; e.g., if a grain consists of only a few pxiels, it is unlikely to be detected.\n",
    "\n",
    "The segmentation can take a few minutes even for medium-sized images, so do not start with large images (downsample them if necessary)."
   ]
  },
  {
   "cell_type": "code",
   "execution_count": 916,
   "id": "94bf3f94",
   "metadata": {
    "scrolled": false
   },
   "outputs": [
    {
     "name": "stderr",
     "output_type": "stream",
     "text": [
      "100%|████████████████████████████████████████████████████████████████████████████████████████████████████████████████████████████████████████████████████████████████████████████████████████████████████████████████████████| 5/5 [00:01<00:00,  3.72it/s]\n",
      "100%|████████████████████████████████████████████████████████████████████████████████████████████████████████████████████████████████████████████████████████████████████████████████████████████████████████████████████████| 4/4 [00:00<00:00,  4.66it/s]\n",
      "100%|██████████████████████████████████████████████████████████████████████████████████████████████████████████████████████████████████████████████████████████████████████████████████████████████████████████████████| 1502/1502 [01:23<00:00, 17.92it/s]\n",
      "1476it [01:50, 13.37it/s]\n",
      "100%|████████████████████████████████████████████████████████████████████████████████████████████████████████████████████████████████████████████████████████████████████████████████████████████████████████████████████| 361/361 [00:07<00:00, 45.83it/s]\n",
      "100%|███████████████████████████████████████████████████████████████████████████████████████████████████████████████████████████████████████████████████████████████████████████████████████████████████████████████████| 426/426 [00:01<00:00, 284.44it/s]\n"
     ]
    }
   ],
   "source": [
    "reload(seg)\n",
    "# fname = '../images/bucegi_conglomerate_1_image.png'\n",
    "# fname = '../images/A003_20201229_103823_image.png'\n",
    "fname = '../images/IMG_5208_image.png'\n",
    "\n",
    "big_im = np.array(load_img(fname))\n",
    "big_im_pred = seg.predict_big_image(big_im, model, I=256)\n",
    "# decreasing the 'dbs_max_dist' parameter results in more SAM prompts:\n",
    "labels, grains, coords = seg.label_grains(big_im, big_im_pred, dbs_max_dist=10.0)\n",
    "all_grains, labels, mask_all, fig, ax = seg.sam_segmentation(sam, big_im, big_im_pred, coords, labels)"
   ]
  },
  {
   "cell_type": "markdown",
   "id": "5fc36c7d",
   "metadata": {},
   "source": [
    "Use this figure to check the distribution of SAM prompts (= black dots):"
   ]
  },
  {
   "cell_type": "code",
   "execution_count": 920,
   "id": "dcaa21b4",
   "metadata": {},
   "outputs": [],
   "source": [
    "plt.figure()\n",
    "plt.imshow(big_im_pred)\n",
    "plt.scatter(coords[:,0], coords[:,1], c='k');"
   ]
  },
  {
   "cell_type": "markdown",
   "id": "688ee765",
   "metadata": {},
   "source": [
    "Plot results as a simple image with grains colored randomly:"
   ]
  },
  {
   "cell_type": "code",
   "execution_count": 918,
   "id": "1431ca29",
   "metadata": {},
   "outputs": [],
   "source": [
    "fig, ax = seg.plot_image_w_colorful_grains(big_im, all_grains)"
   ]
  },
  {
   "cell_type": "markdown",
   "id": "44662c35",
   "metadata": {},
   "source": [
    "## Delete or merge grains in segmentation result\n",
    "* click on the grain that you want to remove and press the 'x' key\n",
    "* click on two grains that you want to merge and press the 'm' key (they have to be the last two grains you clicked on)"
   ]
  },
  {
   "cell_type": "code",
   "execution_count": 902,
   "id": "e1761761",
   "metadata": {},
   "outputs": [],
   "source": [
    "grain_inds = []\n",
    "cid1 = fig.canvas.mpl_connect('button_press_event', \n",
    "                              lambda event: seg.onclick2(event, all_grains, grain_inds, ax=ax))\n",
    "cid2 = fig.canvas.mpl_connect('key_press_event', \n",
    "                              lambda event: seg.onpress2(event, all_grains, grain_inds, fig=fig, ax=ax))"
   ]
  },
  {
   "cell_type": "markdown",
   "id": "ff31623b",
   "metadata": {},
   "source": [
    "Run this cell if you do not want to delete / merge existing grains anymore; it is a good idea to do this before moving on to the next step."
   ]
  },
  {
   "cell_type": "code",
   "execution_count": 258,
   "id": "8b6987ae",
   "metadata": {},
   "outputs": [],
   "source": [
    "fig.canvas.mpl_disconnect(cid1)\n",
    "fig.canvas.mpl_disconnect(cid2)"
   ]
  },
  {
   "cell_type": "code",
   "execution_count": 204,
   "id": "a09b5ef8",
   "metadata": {},
   "outputs": [
    {
     "name": "stderr",
     "output_type": "stream",
     "text": [
      "100%|███████████████████████████████████████████████████████████████████████████████████████████████████████████████████████████████████████████████████████████████████████████████████████████████████████████████████| 715/715 [00:02<00:00, 269.26it/s]\n"
     ]
    }
   ],
   "source": [
    "reload(seg)\n",
    "all_grains, labels, mask_all, fig, ax = seg.get_grains_from_patches(ax, big_im)"
   ]
  },
  {
   "cell_type": "markdown",
   "id": "713ee6f3",
   "metadata": {},
   "source": [
    "## Add new grains using the Segment Anything Model\n",
    "\n",
    "* click on unsegmented grain that you want to add\n",
    "* press the 'x' key if you want to delete the last grain you added\n",
    "* press the 'm' key if you want to merge the last two grains that you added\n",
    "* right click outside the grain (but inside the most recent mask) if you want to restrict the grain to a smaller mask - this adds a background prompt"
   ]
  },
  {
   "cell_type": "code",
   "execution_count": 270,
   "id": "04b1a138",
   "metadata": {},
   "outputs": [],
   "source": [
    "predictor = SamPredictor(sam)\n",
    "predictor.set_image(big_im) # this can take a while\n",
    "coords = []\n",
    "cid3 = fig.canvas.mpl_connect('button_press_event', lambda event: seg.onclick(event, ax, coords, big_im, predictor))\n",
    "cid4 = fig.canvas.mpl_connect('key_press_event', lambda event: seg.onpress(event, ax, fig))"
   ]
  },
  {
   "cell_type": "markdown",
   "id": "bde7106d",
   "metadata": {},
   "source": [
    "After you are done with the deletion / addition of grain masks, run this cell to generate an updated set of grains:"
   ]
  },
  {
   "cell_type": "code",
   "execution_count": 275,
   "id": "4355b526",
   "metadata": {},
   "outputs": [
    {
     "name": "stderr",
     "output_type": "stream",
     "text": [
      "100%|█████████████████████████████████████████████████████████████████████████████████████████████████████████████████████████████████████████████████████| 853/853 [00:19<00:00, 44.40it/s]\n"
     ]
    }
   ],
   "source": [
    "all_grains, labels, mask_all, fig, ax = seg.get_grains_from_patches(ax, big_im)"
   ]
  },
  {
   "cell_type": "markdown",
   "id": "507e0238",
   "metadata": {},
   "source": [
    "## Get grain size distribution"
   ]
  },
  {
   "cell_type": "code",
   "execution_count": 226,
   "id": "b9eeacce",
   "metadata": {},
   "outputs": [
    {
     "name": "stdout",
     "output_type": "stream",
     "text": [
      "number of pixels: 491.92\n"
     ]
    }
   ],
   "source": [
    "cid5 = fig.canvas.mpl_connect('button_press_event', lambda event: seg.click_for_scale(event, ax))"
   ]
  },
  {
   "cell_type": "code",
   "execution_count": 228,
   "id": "8f1fb31c",
   "metadata": {},
   "outputs": [],
   "source": [
    "n_of_units = 10 # centimeters in this case\n",
    "units_per_pixel = n_of_units/dist"
   ]
  },
  {
   "cell_type": "code",
   "execution_count": 234,
   "id": "02b92b14",
   "metadata": {},
   "outputs": [],
   "source": [
    "props = regionprops_table(labels.astype('int'), intensity_image = big_im, properties =\\\n",
    "        ('label', 'area', 'centroid', 'major_axis_length', 'minor_axis_length', \n",
    "         'orientation', 'perimeter', 'max_intensity', 'mean_intensity', 'min_intensity'))\n",
    "grain_data = pd.DataFrame(props)\n",
    "grain_data['major_axis_length'] = grain_data['major_axis_length'].values*units_per_pixel\n",
    "grain_data['minor_axis_length'] = grain_data['minor_axis_length'].values*units_per_pixel\n",
    "grain_data['perimeter'] = grain_data['perimeter'].values*units_per_pixel\n",
    "grain_data['area'] = grain_data['area'].values*units_per_pixel**2"
   ]
  },
  {
   "cell_type": "code",
   "execution_count": 235,
   "id": "30c4d50e",
   "metadata": {},
   "outputs": [
    {
     "data": {
      "text/html": [
       "<div>\n",
       "<style scoped>\n",
       "    .dataframe tbody tr th:only-of-type {\n",
       "        vertical-align: middle;\n",
       "    }\n",
       "\n",
       "    .dataframe tbody tr th {\n",
       "        vertical-align: top;\n",
       "    }\n",
       "\n",
       "    .dataframe thead th {\n",
       "        text-align: right;\n",
       "    }\n",
       "</style>\n",
       "<table border=\"1\" class=\"dataframe\">\n",
       "  <thead>\n",
       "    <tr style=\"text-align: right;\">\n",
       "      <th></th>\n",
       "      <th>label</th>\n",
       "      <th>area</th>\n",
       "      <th>centroid-0</th>\n",
       "      <th>centroid-1</th>\n",
       "      <th>major_axis_length</th>\n",
       "      <th>minor_axis_length</th>\n",
       "      <th>orientation</th>\n",
       "      <th>perimeter</th>\n",
       "      <th>max_intensity-0</th>\n",
       "      <th>max_intensity-1</th>\n",
       "      <th>max_intensity-2</th>\n",
       "      <th>mean_intensity-0</th>\n",
       "      <th>mean_intensity-1</th>\n",
       "      <th>mean_intensity-2</th>\n",
       "      <th>min_intensity-0</th>\n",
       "      <th>min_intensity-1</th>\n",
       "      <th>min_intensity-2</th>\n",
       "    </tr>\n",
       "  </thead>\n",
       "  <tbody>\n",
       "    <tr>\n",
       "      <th>0</th>\n",
       "      <td>1</td>\n",
       "      <td>0.657837</td>\n",
       "      <td>15.054020</td>\n",
       "      <td>38.740578</td>\n",
       "      <td>1.166285</td>\n",
       "      <td>0.739201</td>\n",
       "      <td>1.534311</td>\n",
       "      <td>3.235238</td>\n",
       "      <td>255.0</td>\n",
       "      <td>255.0</td>\n",
       "      <td>255.0</td>\n",
       "      <td>181.621231</td>\n",
       "      <td>180.743090</td>\n",
       "      <td>182.645101</td>\n",
       "      <td>15.0</td>\n",
       "      <td>7.0</td>\n",
       "      <td>8.0</td>\n",
       "    </tr>\n",
       "    <tr>\n",
       "      <th>1</th>\n",
       "      <td>2</td>\n",
       "      <td>0.259085</td>\n",
       "      <td>11.588517</td>\n",
       "      <td>92.639553</td>\n",
       "      <td>0.617154</td>\n",
       "      <td>0.570253</td>\n",
       "      <td>-0.298606</td>\n",
       "      <td>2.038546</td>\n",
       "      <td>247.0</td>\n",
       "      <td>241.0</td>\n",
       "      <td>237.0</td>\n",
       "      <td>108.567783</td>\n",
       "      <td>93.953748</td>\n",
       "      <td>85.216906</td>\n",
       "      <td>0.0</td>\n",
       "      <td>0.0</td>\n",
       "      <td>0.0</td>\n",
       "    </tr>\n",
       "    <tr>\n",
       "      <th>2</th>\n",
       "      <td>3</td>\n",
       "      <td>0.544203</td>\n",
       "      <td>18.751708</td>\n",
       "      <td>121.830676</td>\n",
       "      <td>0.929578</td>\n",
       "      <td>0.762772</td>\n",
       "      <td>-0.412120</td>\n",
       "      <td>2.799937</td>\n",
       "      <td>255.0</td>\n",
       "      <td>255.0</td>\n",
       "      <td>255.0</td>\n",
       "      <td>156.492027</td>\n",
       "      <td>137.490509</td>\n",
       "      <td>124.293090</td>\n",
       "      <td>0.0</td>\n",
       "      <td>0.0</td>\n",
       "      <td>0.0</td>\n",
       "    </tr>\n",
       "    <tr>\n",
       "      <th>3</th>\n",
       "      <td>4</td>\n",
       "      <td>0.175616</td>\n",
       "      <td>18.400000</td>\n",
       "      <td>150.910588</td>\n",
       "      <td>0.481739</td>\n",
       "      <td>0.478469</td>\n",
       "      <td>0.692243</td>\n",
       "      <td>1.574497</td>\n",
       "      <td>206.0</td>\n",
       "      <td>184.0</td>\n",
       "      <td>177.0</td>\n",
       "      <td>85.891765</td>\n",
       "      <td>66.447059</td>\n",
       "      <td>63.760000</td>\n",
       "      <td>0.0</td>\n",
       "      <td>0.0</td>\n",
       "      <td>0.0</td>\n",
       "    </tr>\n",
       "    <tr>\n",
       "      <th>4</th>\n",
       "      <td>5</td>\n",
       "      <td>0.380984</td>\n",
       "      <td>18.080260</td>\n",
       "      <td>189.661605</td>\n",
       "      <td>0.935670</td>\n",
       "      <td>0.528288</td>\n",
       "      <td>-0.511963</td>\n",
       "      <td>2.511139</td>\n",
       "      <td>255.0</td>\n",
       "      <td>251.0</td>\n",
       "      <td>241.0</td>\n",
       "      <td>175.050976</td>\n",
       "      <td>150.254881</td>\n",
       "      <td>141.080260</td>\n",
       "      <td>0.0</td>\n",
       "      <td>0.0</td>\n",
       "      <td>0.0</td>\n",
       "    </tr>\n",
       "  </tbody>\n",
       "</table>\n",
       "</div>"
      ],
      "text/plain": [
       "   label      area  centroid-0  centroid-1  major_axis_length  \\\n",
       "0      1  0.657837   15.054020   38.740578           1.166285   \n",
       "1      2  0.259085   11.588517   92.639553           0.617154   \n",
       "2      3  0.544203   18.751708  121.830676           0.929578   \n",
       "3      4  0.175616   18.400000  150.910588           0.481739   \n",
       "4      5  0.380984   18.080260  189.661605           0.935670   \n",
       "\n",
       "   minor_axis_length  orientation  perimeter  max_intensity-0  \\\n",
       "0           0.739201     1.534311   3.235238            255.0   \n",
       "1           0.570253    -0.298606   2.038546            247.0   \n",
       "2           0.762772    -0.412120   2.799937            255.0   \n",
       "3           0.478469     0.692243   1.574497            206.0   \n",
       "4           0.528288    -0.511963   2.511139            255.0   \n",
       "\n",
       "   max_intensity-1  max_intensity-2  mean_intensity-0  mean_intensity-1  \\\n",
       "0            255.0            255.0        181.621231        180.743090   \n",
       "1            241.0            237.0        108.567783         93.953748   \n",
       "2            255.0            255.0        156.492027        137.490509   \n",
       "3            184.0            177.0         85.891765         66.447059   \n",
       "4            251.0            241.0        175.050976        150.254881   \n",
       "\n",
       "   mean_intensity-2  min_intensity-0  min_intensity-1  min_intensity-2  \n",
       "0        182.645101             15.0              7.0              8.0  \n",
       "1         85.216906              0.0              0.0              0.0  \n",
       "2        124.293090              0.0              0.0              0.0  \n",
       "3         63.760000              0.0              0.0              0.0  \n",
       "4        141.080260              0.0              0.0              0.0  "
      ]
     },
     "execution_count": 235,
     "metadata": {},
     "output_type": "execute_result"
    }
   ],
   "source": [
    "grain_data.head()"
   ]
  },
  {
   "cell_type": "code",
   "execution_count": 240,
   "id": "8ac32edc",
   "metadata": {},
   "outputs": [
    {
     "data": {
      "text/plain": [
       "Text(0, 0.5, 'count')"
      ]
     },
     "execution_count": 240,
     "metadata": {},
     "output_type": "execute_result"
    }
   ],
   "source": [
    "plt.figure()\n",
    "plt.hist(grain_data['major_axis_length'], 25)\n",
    "plt.xlabel('major axis length (cm)')\n",
    "plt.ylabel('count');"
   ]
  },
  {
   "cell_type": "markdown",
   "id": "6420948f",
   "metadata": {},
   "source": [
    "## Save mask and grain labels to PNG files"
   ]
  },
  {
   "cell_type": "code",
   "execution_count": 276,
   "id": "c4962ba6",
   "metadata": {},
   "outputs": [
    {
     "data": {
      "text/plain": [
       "True"
      ]
     },
     "execution_count": 276,
     "metadata": {},
     "output_type": "execute_result"
    }
   ],
   "source": [
    "dirname = '/Users/zoltan/Dropbox/Segmentation/images/'\n",
    "# write grayscale mask to PNG file\n",
    "cv2.imwrite(dirname + fname.split('/')[-1][:-4] + '_mask.png', mask_all)\n",
    "# Define a colormap using matplotlib\n",
    "num_classes = len(all_grains)\n",
    "cmap = plt.get_cmap('viridis', num_classes)\n",
    "# Map each class label to a unique color using the colormap\n",
    "vis_mask = cmap(labels.astype(np.uint16))[:,:,:3] * 255\n",
    "vis_mask = vis_mask.astype(np.uint8)\n",
    "# Save the mask as a PNG file\n",
    "cv2.imwrite(dirname + fname.split('/')[-1][:-4] + '_labels.png', vis_mask)\n",
    "# Save the image as a PNG file\n",
    "cv2.imwrite(dirname + fname.split('/')[-1][:-4] + '_image.png', cv2.cvtColor(big_im, cv2.COLOR_BGR2RGB))"
   ]
  }
 ],
 "metadata": {
  "kernelspec": {
   "display_name": "Python 3 (ipykernel)",
   "language": "python",
   "name": "python3"
  },
  "language_info": {
   "codemirror_mode": {
    "name": "ipython",
    "version": 3
   },
   "file_extension": ".py",
   "mimetype": "text/x-python",
   "name": "python",
   "nbconvert_exporter": "python",
   "pygments_lexer": "ipython3",
   "version": "3.8.15"
  }
 },
 "nbformat": 4,
 "nbformat_minor": 5
}
